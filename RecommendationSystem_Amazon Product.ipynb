{
 "cells": [
  {
   "cell_type": "markdown",
   "metadata": {},
   "source": [
    "#  Problem Statement: Recommendation system for products on an e-commerce website like Amazon.com. "
   ]
  },
  {
   "cell_type": "markdown",
   "metadata": {},
   "source": [
    "# Dataset columns​ -\n",
    "    **  first three columns are userId, productId, and ratings and the fourth column is timestamp. You can discard the timestamp column as in this case you may not need to use it. \n",
    "\n"
   ]
  },
  {
   "cell_type": "markdown",
   "metadata": {},
   "source": [
    "# Steps - \n",
    "**1. Read and explore the given dataset.  ( Rename column/add headers, plot histograms, find data characteristics)** \n",
    "\n",
    "**2. Take a subset of the dataset to make it less sparse/ denser. ( For example, keep the users only who has given 50 or more number of ratings )**\n",
    "\n",
    "**3. Split the data randomly into train and test dataset. ( For example, split it in 70/30 ratio)**\n",
    "\n",
    "**4. Build Popularity Recommender model.**\n",
    "\n",
    "**5. Build Collaborative Filtering model.**\n",
    "\n",
    "**6. Evaluate both the models. ( Once the model is trained on the training data, it can be used to compute the error (like RMSE) on predictions made on the test data.) You can also use a different method to evaluate the models.**\n",
    "\n",
    "**7. Get top - K ( K = 5) recommendations. Since our goal is to recommend new products to each user based on his/her habits, we will recommend 5 new products.**\n",
    "\n",
    "**8. Summarise your insights.** \n",
    " "
   ]
  },
  {
   "cell_type": "markdown",
   "metadata": {},
   "source": [
    "# Load necessary libraries"
   ]
  },
  {
   "cell_type": "code",
   "execution_count": 1,
   "metadata": {},
   "outputs": [],
   "source": [
    "\n",
    "import pandas as pd\n",
    "import numpy as np\n",
    "import matplotlib.pyplot as plt\n",
    "import seaborn as sns\n",
    "\n",
    "import warnings\n",
    "\n",
    "warnings.filterwarnings('ignore')\n",
    "%matplotlib inline"
   ]
  },
  {
   "cell_type": "code",
   "execution_count": 2,
   "metadata": {},
   "outputs": [],
   "source": [
    "from surprise import KNNBasic, SVD, NormalPredictor, KNNBaseline,KNNWithMeans, KNNWithZScore, BaselineOnly, CoClustering, Reader, dataset, accuracy\n",
    "\n"
   ]
  },
  {
   "cell_type": "markdown",
   "metadata": {},
   "source": [
    "\n",
    "# Read and explore the dataset  ( Rename column/add headers, plot histograms, find data characteristics) "
   ]
  },
  {
   "cell_type": "code",
   "execution_count": 3,
   "metadata": {},
   "outputs": [],
   "source": [
    "columns = ['userID', 'productID', 'ratings','timestamp']\n",
    "\n",
    "recomm_df = pd.read_csv('ratings_Electronics.csv',names=columns)"
   ]
  },
  {
   "cell_type": "code",
   "execution_count": 4,
   "metadata": {},
   "outputs": [
    {
     "name": "stdout",
     "output_type": "stream",
     "text": [
      "<class 'pandas.core.frame.DataFrame'>\n",
      "RangeIndex: 7824482 entries, 0 to 7824481\n",
      "Data columns (total 4 columns):\n",
      " #   Column     Dtype  \n",
      "---  ------     -----  \n",
      " 0   userID     object \n",
      " 1   productID  object \n",
      " 2   ratings    float64\n",
      " 3   timestamp  int64  \n",
      "dtypes: float64(1), int64(1), object(2)\n",
      "memory usage: 238.8+ MB\n"
     ]
    }
   ],
   "source": [
    "recomm_df.info()"
   ]
  },
  {
   "cell_type": "code",
   "execution_count": 5,
   "metadata": {},
   "outputs": [
    {
     "data": {
      "text/html": [
       "<div>\n",
       "<style scoped>\n",
       "    .dataframe tbody tr th:only-of-type {\n",
       "        vertical-align: middle;\n",
       "    }\n",
       "\n",
       "    .dataframe tbody tr th {\n",
       "        vertical-align: top;\n",
       "    }\n",
       "\n",
       "    .dataframe thead th {\n",
       "        text-align: right;\n",
       "    }\n",
       "</style>\n",
       "<table border=\"1\" class=\"dataframe\">\n",
       "  <thead>\n",
       "    <tr style=\"text-align: right;\">\n",
       "      <th></th>\n",
       "      <th>userID</th>\n",
       "      <th>productID</th>\n",
       "      <th>ratings</th>\n",
       "      <th>timestamp</th>\n",
       "    </tr>\n",
       "  </thead>\n",
       "  <tbody>\n",
       "    <tr>\n",
       "      <th>0</th>\n",
       "      <td>AKM1MP6P0OYPR</td>\n",
       "      <td>0132793040</td>\n",
       "      <td>5.0</td>\n",
       "      <td>1365811200</td>\n",
       "    </tr>\n",
       "    <tr>\n",
       "      <th>1</th>\n",
       "      <td>A2CX7LUOHB2NDG</td>\n",
       "      <td>0321732944</td>\n",
       "      <td>5.0</td>\n",
       "      <td>1341100800</td>\n",
       "    </tr>\n",
       "    <tr>\n",
       "      <th>2</th>\n",
       "      <td>A2NWSAGRHCP8N5</td>\n",
       "      <td>0439886341</td>\n",
       "      <td>1.0</td>\n",
       "      <td>1367193600</td>\n",
       "    </tr>\n",
       "    <tr>\n",
       "      <th>3</th>\n",
       "      <td>A2WNBOD3WNDNKT</td>\n",
       "      <td>0439886341</td>\n",
       "      <td>3.0</td>\n",
       "      <td>1374451200</td>\n",
       "    </tr>\n",
       "    <tr>\n",
       "      <th>4</th>\n",
       "      <td>A1GI0U4ZRJA8WN</td>\n",
       "      <td>0439886341</td>\n",
       "      <td>1.0</td>\n",
       "      <td>1334707200</td>\n",
       "    </tr>\n",
       "  </tbody>\n",
       "</table>\n",
       "</div>"
      ],
      "text/plain": [
       "           userID   productID  ratings   timestamp\n",
       "0   AKM1MP6P0OYPR  0132793040      5.0  1365811200\n",
       "1  A2CX7LUOHB2NDG  0321732944      5.0  1341100800\n",
       "2  A2NWSAGRHCP8N5  0439886341      1.0  1367193600\n",
       "3  A2WNBOD3WNDNKT  0439886341      3.0  1374451200\n",
       "4  A1GI0U4ZRJA8WN  0439886341      1.0  1334707200"
      ]
     },
     "execution_count": 5,
     "metadata": {},
     "output_type": "execute_result"
    }
   ],
   "source": [
    "recomm_df.head()"
   ]
  },
  {
   "cell_type": "code",
   "execution_count": 6,
   "metadata": {},
   "outputs": [
    {
     "data": {
      "text/plain": [
       "(7824482, 4)"
      ]
     },
     "execution_count": 6,
     "metadata": {},
     "output_type": "execute_result"
    }
   ],
   "source": [
    "recomm_df.shape"
   ]
  },
  {
   "cell_type": "code",
   "execution_count": 7,
   "metadata": {},
   "outputs": [
    {
     "data": {
      "text/html": [
       "<div>\n",
       "<style scoped>\n",
       "    .dataframe tbody tr th:only-of-type {\n",
       "        vertical-align: middle;\n",
       "    }\n",
       "\n",
       "    .dataframe tbody tr th {\n",
       "        vertical-align: top;\n",
       "    }\n",
       "\n",
       "    .dataframe thead th {\n",
       "        text-align: right;\n",
       "    }\n",
       "</style>\n",
       "<table border=\"1\" class=\"dataframe\">\n",
       "  <thead>\n",
       "    <tr style=\"text-align: right;\">\n",
       "      <th></th>\n",
       "      <th>count</th>\n",
       "      <th>mean</th>\n",
       "      <th>std</th>\n",
       "      <th>min</th>\n",
       "      <th>25%</th>\n",
       "      <th>50%</th>\n",
       "      <th>75%</th>\n",
       "      <th>max</th>\n",
       "    </tr>\n",
       "  </thead>\n",
       "  <tbody>\n",
       "    <tr>\n",
       "      <th>ratings</th>\n",
       "      <td>7824482.0</td>\n",
       "      <td>4.012337e+00</td>\n",
       "      <td>1.380910e+00</td>\n",
       "      <td>1.0</td>\n",
       "      <td>3.000000e+00</td>\n",
       "      <td>5.000000e+00</td>\n",
       "      <td>5.000000e+00</td>\n",
       "      <td>5.000000e+00</td>\n",
       "    </tr>\n",
       "    <tr>\n",
       "      <th>timestamp</th>\n",
       "      <td>7824482.0</td>\n",
       "      <td>1.338178e+09</td>\n",
       "      <td>6.900426e+07</td>\n",
       "      <td>912729600.0</td>\n",
       "      <td>1.315354e+09</td>\n",
       "      <td>1.361059e+09</td>\n",
       "      <td>1.386115e+09</td>\n",
       "      <td>1.406074e+09</td>\n",
       "    </tr>\n",
       "  </tbody>\n",
       "</table>\n",
       "</div>"
      ],
      "text/plain": [
       "               count          mean           std          min           25%  \\\n",
       "ratings    7824482.0  4.012337e+00  1.380910e+00          1.0  3.000000e+00   \n",
       "timestamp  7824482.0  1.338178e+09  6.900426e+07  912729600.0  1.315354e+09   \n",
       "\n",
       "                    50%           75%           max  \n",
       "ratings    5.000000e+00  5.000000e+00  5.000000e+00  \n",
       "timestamp  1.361059e+09  1.386115e+09  1.406074e+09  "
      ]
     },
     "execution_count": 7,
     "metadata": {},
     "output_type": "execute_result"
    }
   ],
   "source": [
    "recomm_df.describe().T"
   ]
  },
  {
   "cell_type": "markdown",
   "metadata": {},
   "source": [
    "#  Dropping the \"timestamp\" as it is not a needed field"
   ]
  },
  {
   "cell_type": "code",
   "execution_count": 8,
   "metadata": {},
   "outputs": [],
   "source": [
    "recomm_df = recomm_df.drop('timestamp', axis=1)"
   ]
  },
  {
   "cell_type": "markdown",
   "metadata": {},
   "source": [
    "# Missing Value"
   ]
  },
  {
   "cell_type": "code",
   "execution_count": 9,
   "metadata": {},
   "outputs": [
    {
     "data": {
      "text/plain": [
       "userID       0\n",
       "productID    0\n",
       "ratings      0\n",
       "dtype: int64"
      ]
     },
     "execution_count": 9,
     "metadata": {},
     "output_type": "execute_result"
    }
   ],
   "source": [
    "recomm_df.isna().sum()"
   ]
  },
  {
   "cell_type": "code",
   "execution_count": 10,
   "metadata": {},
   "outputs": [
    {
     "data": {
      "text/plain": [
       "(7824482, 3)"
      ]
     },
     "execution_count": 10,
     "metadata": {},
     "output_type": "execute_result"
    }
   ],
   "source": [
    "recomm_df.shape"
   ]
  },
  {
   "cell_type": "markdown",
   "metadata": {},
   "source": [
    "# plot histograms"
   ]
  },
  {
   "cell_type": "code",
   "execution_count": 11,
   "metadata": {},
   "outputs": [
    {
     "data": {
      "text/plain": [
       "array([[<AxesSubplot:title={'center':'ratings'}>]], dtype=object)"
      ]
     },
     "execution_count": 11,
     "metadata": {},
     "output_type": "execute_result"
    },
    {
     "data": {
      "image/png": "[encoded data removed]",
      "text/plain": [
       "<Figure size 432x288 with 1 Axes>"
      ]
     },
     "metadata": {
      "needs_background": "light"
     },
     "output_type": "display_data"
    }
   ],
   "source": [
    "recomm_df.hist('ratings',bins = 10)"
   ]
  },
  {
   "cell_type": "code",
   "execution_count": 12,
   "metadata": {},
   "outputs": [
    {
     "data": {
      "image/png": "[encoded data removed]",
      "text/plain": [
       "<Figure size 640x480 with 1 Axes>"
      ]
     },
     "metadata": {},
     "output_type": "display_data"
    }
   ],
   "source": [
    "popular = recomm_df[['userID','ratings']].groupby('userID').sum().reset_index()\n",
    "popular_20 = popular.sort_values('ratings', ascending=False).head(n=20)\n",
    "import matplotlib.pyplot as plt; plt.rcdefaults()\n",
    "import numpy as np\n",
    "import matplotlib.pyplot as plt\n",
    " \n",
    "objects = (list(popular_20['userID']))\n",
    "y_pos = np.arange(len(objects))\n",
    "performance = list(popular_20['ratings'])\n",
    " \n",
    "plt.bar(y_pos, performance, align='center', alpha=0.5)\n",
    "plt.xticks(y_pos, objects, rotation='vertical')\n",
    "plt.ylabel('userID')\n",
    "plt.title('Most popular')\n",
    " \n",
    "plt.show()"
   ]
  },
  {
   "cell_type": "code",
   "execution_count": 13,
   "metadata": {},
   "outputs": [
    {
     "data": {
      "text/plain": [
       "A5JLAU2ARJ0BO     520\n",
       "ADLVFFE4VBT8      501\n",
       "A3OXHLG6DIBRW8    498\n",
       "A6FIAB28IS79      431\n",
       "A680RUE1FDO8B     406\n",
       "                 ... \n",
       "A2AO09W0EY67ZI      1\n",
       "A2ME89FDA0UKAR      1\n",
       "A1UBTFLJFAQOA       1\n",
       "A2JQYSS3K996VQ      1\n",
       "A2VE3Y8EIF8TRF      1\n",
       "Name: userID, Length: 4201696, dtype: int64"
      ]
     },
     "execution_count": 13,
     "metadata": {},
     "output_type": "execute_result"
    }
   ],
   "source": [
    "# find unique users\n",
    "recomm_df.userID.value_counts()"
   ]
  },
  {
   "cell_type": "code",
   "execution_count": 14,
   "metadata": {},
   "outputs": [
    {
     "name": "stdout",
     "output_type": "stream",
     "text": [
      "Number of unique users 4201696\n"
     ]
    }
   ],
   "source": [
    "print('Number of unique users', len(recomm_df['userID'].unique()))"
   ]
  },
  {
   "cell_type": "code",
   "execution_count": 15,
   "metadata": {},
   "outputs": [
    {
     "name": "stdout",
     "output_type": "stream",
     "text": [
      "Number of unique products 476002\n"
     ]
    }
   ],
   "source": [
    "print('Number of unique products', len(recomm_df['productID'].unique()))"
   ]
  },
  {
   "cell_type": "code",
   "execution_count": 16,
   "metadata": {},
   "outputs": [
    {
     "name": "stdout",
     "output_type": "stream",
     "text": [
      "Unique Ratings [5. 1. 3. 2. 4.]\n"
     ]
    }
   ],
   "source": [
    "print('Unique Ratings', recomm_df['ratings'].unique())"
   ]
  },
  {
   "cell_type": "code",
   "execution_count": 17,
   "metadata": {},
   "outputs": [],
   "source": [
    "min_ratings1 = recomm_df[(recomm_df['ratings'] < 2.0)]"
   ]
  },
  {
   "cell_type": "code",
   "execution_count": 18,
   "metadata": {},
   "outputs": [
    {
     "name": "stdout",
     "output_type": "stream",
     "text": [
      "Number of unique products rated low 176283\n"
     ]
    }
   ],
   "source": [
    "print('Number of unique products rated low',len(min_ratings1['productID'].unique()))"
   ]
  },
  {
   "cell_type": "code",
   "execution_count": 19,
   "metadata": {},
   "outputs": [],
   "source": [
    "med_ratings1 = recomm_df[(recomm_df['ratings'] > 2.0) & (recomm_df['ratings'] < 4.0)]"
   ]
  },
  {
   "cell_type": "code",
   "execution_count": 20,
   "metadata": {},
   "outputs": [
    {
     "name": "stdout",
     "output_type": "stream",
     "text": [
      "Number of unique products rated medium 152827\n"
     ]
    }
   ],
   "source": [
    "print('Number of unique products rated medium',len(med_ratings1['productID'].unique()))"
   ]
  },
  {
   "cell_type": "code",
   "execution_count": 21,
   "metadata": {},
   "outputs": [],
   "source": [
    "max_ratings1 = recomm_df[recomm_df['ratings'] >= 4.0]"
   ]
  },
  {
   "cell_type": "code",
   "execution_count": 22,
   "metadata": {},
   "outputs": [
    {
     "name": "stdout",
     "output_type": "stream",
     "text": [
      "Number of unique products rated high 410110\n"
     ]
    }
   ],
   "source": [
    "print('Number of unique products rated high',len(max_ratings1['productID'].unique()))"
   ]
  },
  {
   "cell_type": "code",
   "execution_count": 23,
   "metadata": {},
   "outputs": [],
   "source": [
    "avg_rating_prod = recomm_df.groupby('productID').sum() / recomm_df.groupby('productID').count()"
   ]
  },
  {
   "cell_type": "code",
   "execution_count": 24,
   "metadata": {},
   "outputs": [],
   "source": [
    "avg_rating_prod.drop('userID', axis=1,inplace =True)"
   ]
  },
  {
   "cell_type": "code",
   "execution_count": 25,
   "metadata": {
    "scrolled": true
   },
   "outputs": [
    {
     "name": "stdout",
     "output_type": "stream",
     "text": [
      "Top 10 highly rated products \n",
      "             ratings\n",
      "productID          \n",
      "0132793040      5.0\n",
      "0321732944      5.0\n",
      "059400232X      5.0\n",
      "0594033934      5.0\n",
      "0594287995      5.0\n",
      "0594450209      5.0\n",
      "0594450705      5.0\n",
      "0594511488      5.0\n",
      "0594514789      5.0\n",
      "0594549558      5.0\n"
     ]
    }
   ],
   "source": [
    "print ('Top 10 highly rated products \\n',avg_rating_prod.nlargest(10,'ratings'))"
   ]
  },
  {
   "cell_type": "markdown",
   "metadata": {},
   "source": [
    "# Take a subset of the dataset to make it less sparse/ denser. ( For example, keep the users only who has given 50 or more number of ratings )"
   ]
  },
  {
   "cell_type": "code",
   "execution_count": 26,
   "metadata": {},
   "outputs": [],
   "source": [
    "userID = recomm_df.groupby('userID').count()"
   ]
  },
  {
   "cell_type": "code",
   "execution_count": 27,
   "metadata": {},
   "outputs": [],
   "source": [
    "top_user = userID[userID['ratings'] >= 50].index"
   ]
  },
  {
   "cell_type": "code",
   "execution_count": 28,
   "metadata": {},
   "outputs": [],
   "source": [
    "\n",
    "topuser_ratings_df = recomm_df[recomm_df['userID'].isin(top_user)]"
   ]
  },
  {
   "cell_type": "code",
   "execution_count": 29,
   "metadata": {},
   "outputs": [],
   "source": [
    "#topuser_ratings_df.drop('productID', axis=1, inplace = True)"
   ]
  },
  {
   "cell_type": "code",
   "execution_count": 30,
   "metadata": {},
   "outputs": [
    {
     "data": {
      "text/plain": [
       "(125871, 3)"
      ]
     },
     "execution_count": 30,
     "metadata": {},
     "output_type": "execute_result"
    }
   ],
   "source": [
    "topuser_ratings_df.shape"
   ]
  },
  {
   "cell_type": "code",
   "execution_count": 31,
   "metadata": {},
   "outputs": [
    {
     "data": {
      "text/html": [
       "<div>\n",
       "<style scoped>\n",
       "    .dataframe tbody tr th:only-of-type {\n",
       "        vertical-align: middle;\n",
       "    }\n",
       "\n",
       "    .dataframe tbody tr th {\n",
       "        vertical-align: top;\n",
       "    }\n",
       "\n",
       "    .dataframe thead th {\n",
       "        text-align: right;\n",
       "    }\n",
       "</style>\n",
       "<table border=\"1\" class=\"dataframe\">\n",
       "  <thead>\n",
       "    <tr style=\"text-align: right;\">\n",
       "      <th></th>\n",
       "      <th>userID</th>\n",
       "      <th>productID</th>\n",
       "      <th>ratings</th>\n",
       "    </tr>\n",
       "  </thead>\n",
       "  <tbody>\n",
       "    <tr>\n",
       "      <th>94</th>\n",
       "      <td>A3BY5KCNQZXV5U</td>\n",
       "      <td>0594451647</td>\n",
       "      <td>5.0</td>\n",
       "    </tr>\n",
       "    <tr>\n",
       "      <th>118</th>\n",
       "      <td>AT09WGFUM934H</td>\n",
       "      <td>0594481813</td>\n",
       "      <td>3.0</td>\n",
       "    </tr>\n",
       "    <tr>\n",
       "      <th>177</th>\n",
       "      <td>A32HSNCNPRUMTR</td>\n",
       "      <td>0970407998</td>\n",
       "      <td>1.0</td>\n",
       "    </tr>\n",
       "    <tr>\n",
       "      <th>178</th>\n",
       "      <td>A17HMM1M7T9PJ1</td>\n",
       "      <td>0970407998</td>\n",
       "      <td>4.0</td>\n",
       "    </tr>\n",
       "    <tr>\n",
       "      <th>492</th>\n",
       "      <td>A3CLWR1UUZT6TG</td>\n",
       "      <td>0972683275</td>\n",
       "      <td>5.0</td>\n",
       "    </tr>\n",
       "  </tbody>\n",
       "</table>\n",
       "</div>"
      ],
      "text/plain": [
       "             userID   productID  ratings\n",
       "94   A3BY5KCNQZXV5U  0594451647      5.0\n",
       "118   AT09WGFUM934H  0594481813      3.0\n",
       "177  A32HSNCNPRUMTR  0970407998      1.0\n",
       "178  A17HMM1M7T9PJ1  0970407998      4.0\n",
       "492  A3CLWR1UUZT6TG  0972683275      5.0"
      ]
     },
     "execution_count": 31,
     "metadata": {},
     "output_type": "execute_result"
    }
   ],
   "source": [
    "topuser_ratings_df.head()"
   ]
  },
  {
   "cell_type": "code",
   "execution_count": 32,
   "metadata": {},
   "outputs": [
    {
     "data": {
      "text/html": [
       "<div>\n",
       "<style scoped>\n",
       "    .dataframe tbody tr th:only-of-type {\n",
       "        vertical-align: middle;\n",
       "    }\n",
       "\n",
       "    .dataframe tbody tr th {\n",
       "        vertical-align: top;\n",
       "    }\n",
       "\n",
       "    .dataframe thead th {\n",
       "        text-align: right;\n",
       "    }\n",
       "</style>\n",
       "<table border=\"1\" class=\"dataframe\">\n",
       "  <thead>\n",
       "    <tr style=\"text-align: right;\">\n",
       "      <th></th>\n",
       "      <th>userID</th>\n",
       "      <th>productID</th>\n",
       "      <th>ratings</th>\n",
       "    </tr>\n",
       "  </thead>\n",
       "  <tbody>\n",
       "    <tr>\n",
       "      <th>94</th>\n",
       "      <td>A3BY5KCNQZXV5U</td>\n",
       "      <td>0594451647</td>\n",
       "      <td>5.0</td>\n",
       "    </tr>\n",
       "    <tr>\n",
       "      <th>4256669</th>\n",
       "      <td>A680RUE1FDO8B</td>\n",
       "      <td>B004M8RWDE</td>\n",
       "      <td>5.0</td>\n",
       "    </tr>\n",
       "    <tr>\n",
       "      <th>4258497</th>\n",
       "      <td>AOMEH9W6LHC4S</td>\n",
       "      <td>B004M8SBNE</td>\n",
       "      <td>5.0</td>\n",
       "    </tr>\n",
       "    <tr>\n",
       "      <th>4258199</th>\n",
       "      <td>A2GKMXRLI7KLFP</td>\n",
       "      <td>B004M8SBD4</td>\n",
       "      <td>5.0</td>\n",
       "    </tr>\n",
       "    <tr>\n",
       "      <th>4258099</th>\n",
       "      <td>A1UNJ46NSB352E</td>\n",
       "      <td>B004M8SBCK</td>\n",
       "      <td>5.0</td>\n",
       "    </tr>\n",
       "  </tbody>\n",
       "</table>\n",
       "</div>"
      ],
      "text/plain": [
       "                 userID   productID  ratings\n",
       "94       A3BY5KCNQZXV5U  0594451647      5.0\n",
       "4256669   A680RUE1FDO8B  B004M8RWDE      5.0\n",
       "4258497   AOMEH9W6LHC4S  B004M8SBNE      5.0\n",
       "4258199  A2GKMXRLI7KLFP  B004M8SBD4      5.0\n",
       "4258099  A1UNJ46NSB352E  B004M8SBCK      5.0"
      ]
     },
     "execution_count": 32,
     "metadata": {},
     "output_type": "execute_result"
    }
   ],
   "source": [
    "topuser_ratings_df.sort_values(by='ratings', ascending=False).head()"
   ]
  },
  {
   "cell_type": "markdown",
   "metadata": {},
   "source": [
    "\n",
    "# Keep data only for products that have 50 or more ratings"
   ]
  },
  {
   "cell_type": "code",
   "execution_count": 33,
   "metadata": {},
   "outputs": [],
   "source": [
    "prodID = recomm_df.groupby('productID').count()"
   ]
  },
  {
   "cell_type": "code",
   "execution_count": 34,
   "metadata": {},
   "outputs": [],
   "source": [
    "top_prod = prodID[prodID['ratings'] >= 50].index"
   ]
  },
  {
   "cell_type": "code",
   "execution_count": 35,
   "metadata": {},
   "outputs": [],
   "source": [
    "top_ratings_df = topuser_ratings_df[topuser_ratings_df['productID'].isin(top_prod)]"
   ]
  },
  {
   "cell_type": "code",
   "execution_count": 36,
   "metadata": {},
   "outputs": [
    {
     "data": {
      "text/html": [
       "<div>\n",
       "<style scoped>\n",
       "    .dataframe tbody tr th:only-of-type {\n",
       "        vertical-align: middle;\n",
       "    }\n",
       "\n",
       "    .dataframe tbody tr th {\n",
       "        vertical-align: top;\n",
       "    }\n",
       "\n",
       "    .dataframe thead th {\n",
       "        text-align: right;\n",
       "    }\n",
       "</style>\n",
       "<table border=\"1\" class=\"dataframe\">\n",
       "  <thead>\n",
       "    <tr style=\"text-align: right;\">\n",
       "      <th></th>\n",
       "      <th>userID</th>\n",
       "      <th>productID</th>\n",
       "      <th>ratings</th>\n",
       "    </tr>\n",
       "  </thead>\n",
       "  <tbody>\n",
       "    <tr>\n",
       "      <th>492</th>\n",
       "      <td>A3CLWR1UUZT6TG</td>\n",
       "      <td>0972683275</td>\n",
       "      <td>5.0</td>\n",
       "    </tr>\n",
       "    <tr>\n",
       "      <th>4220481</th>\n",
       "      <td>A2AY4YUOX2N1BQ</td>\n",
       "      <td>B004KJE8FU</td>\n",
       "      <td>5.0</td>\n",
       "    </tr>\n",
       "    <tr>\n",
       "      <th>4217715</th>\n",
       "      <td>A2Q204DY2L7YRP</td>\n",
       "      <td>B004K8WPUQ</td>\n",
       "      <td>5.0</td>\n",
       "    </tr>\n",
       "    <tr>\n",
       "      <th>4218748</th>\n",
       "      <td>A87CILADRIZW0</td>\n",
       "      <td>B004KA8Y4U</td>\n",
       "      <td>5.0</td>\n",
       "    </tr>\n",
       "    <tr>\n",
       "      <th>4219205</th>\n",
       "      <td>A11KZ906QD08C5</td>\n",
       "      <td>B004KCI80I</td>\n",
       "      <td>5.0</td>\n",
       "    </tr>\n",
       "  </tbody>\n",
       "</table>\n",
       "</div>"
      ],
      "text/plain": [
       "                 userID   productID  ratings\n",
       "492      A3CLWR1UUZT6TG  0972683275      5.0\n",
       "4220481  A2AY4YUOX2N1BQ  B004KJE8FU      5.0\n",
       "4217715  A2Q204DY2L7YRP  B004K8WPUQ      5.0\n",
       "4218748   A87CILADRIZW0  B004KA8Y4U      5.0\n",
       "4219205  A11KZ906QD08C5  B004KCI80I      5.0"
      ]
     },
     "execution_count": 36,
     "metadata": {},
     "output_type": "execute_result"
    }
   ],
   "source": [
    "top_ratings_df.sort_values(by='ratings', ascending=False).head()"
   ]
  },
  {
   "cell_type": "code",
   "execution_count": 37,
   "metadata": {},
   "outputs": [
    {
     "data": {
      "text/plain": [
       "(79182, 3)"
      ]
     },
     "execution_count": 37,
     "metadata": {},
     "output_type": "execute_result"
    }
   ],
   "source": [
    "top_ratings_df.shape"
   ]
  },
  {
   "cell_type": "markdown",
   "metadata": {},
   "source": [
    "# Split the data randomly into train and test dataset. ( For example, split it in 70/30 ratio)"
   ]
  },
  {
   "cell_type": "code",
   "execution_count": 38,
   "metadata": {},
   "outputs": [],
   "source": [
    "\n",
    "from sklearn.model_selection import train_test_split\n",
    "train_data, test_data = train_test_split(top_ratings_df, test_size = 0.30, random_state=0)"
   ]
  },
  {
   "cell_type": "code",
   "execution_count": 39,
   "metadata": {},
   "outputs": [
    {
     "data": {
      "text/html": [
       "<div>\n",
       "<style scoped>\n",
       "    .dataframe tbody tr th:only-of-type {\n",
       "        vertical-align: middle;\n",
       "    }\n",
       "\n",
       "    .dataframe tbody tr th {\n",
       "        vertical-align: top;\n",
       "    }\n",
       "\n",
       "    .dataframe thead th {\n",
       "        text-align: right;\n",
       "    }\n",
       "</style>\n",
       "<table border=\"1\" class=\"dataframe\">\n",
       "  <thead>\n",
       "    <tr style=\"text-align: right;\">\n",
       "      <th></th>\n",
       "      <th>userID</th>\n",
       "      <th>productID</th>\n",
       "      <th>ratings</th>\n",
       "    </tr>\n",
       "  </thead>\n",
       "  <tbody>\n",
       "    <tr>\n",
       "      <th>3679937</th>\n",
       "      <td>A2W0XCWOK3MW6F</td>\n",
       "      <td>B003Y74AXO</td>\n",
       "      <td>3.0</td>\n",
       "    </tr>\n",
       "    <tr>\n",
       "      <th>3603561</th>\n",
       "      <td>A2E1EFNIZL2FVA</td>\n",
       "      <td>B003VANO7C</td>\n",
       "      <td>5.0</td>\n",
       "    </tr>\n",
       "    <tr>\n",
       "      <th>6945634</th>\n",
       "      <td>AR3EVUQF0AC7R</td>\n",
       "      <td>B00ARB5FLQ</td>\n",
       "      <td>4.0</td>\n",
       "    </tr>\n",
       "    <tr>\n",
       "      <th>2732999</th>\n",
       "      <td>A38RMU1Y5TDP9</td>\n",
       "      <td>B002NGVY8G</td>\n",
       "      <td>1.0</td>\n",
       "    </tr>\n",
       "    <tr>\n",
       "      <th>7715921</th>\n",
       "      <td>A1JZFGZEZVWQPY</td>\n",
       "      <td>B00GRNUO2I</td>\n",
       "      <td>3.0</td>\n",
       "    </tr>\n",
       "  </tbody>\n",
       "</table>\n",
       "</div>"
      ],
      "text/plain": [
       "                 userID   productID  ratings\n",
       "3679937  A2W0XCWOK3MW6F  B003Y74AXO      3.0\n",
       "3603561  A2E1EFNIZL2FVA  B003VANO7C      5.0\n",
       "6945634   AR3EVUQF0AC7R  B00ARB5FLQ      4.0\n",
       "2732999   A38RMU1Y5TDP9  B002NGVY8G      1.0\n",
       "7715921  A1JZFGZEZVWQPY  B00GRNUO2I      3.0"
      ]
     },
     "execution_count": 39,
     "metadata": {},
     "output_type": "execute_result"
    }
   ],
   "source": [
    "train_data.head()"
   ]
  },
  {
   "cell_type": "code",
   "execution_count": 40,
   "metadata": {},
   "outputs": [
    {
     "data": {
      "text/html": [
       "<div>\n",
       "<style scoped>\n",
       "    .dataframe tbody tr th:only-of-type {\n",
       "        vertical-align: middle;\n",
       "    }\n",
       "\n",
       "    .dataframe tbody tr th {\n",
       "        vertical-align: top;\n",
       "    }\n",
       "\n",
       "    .dataframe thead th {\n",
       "        text-align: right;\n",
       "    }\n",
       "</style>\n",
       "<table border=\"1\" class=\"dataframe\">\n",
       "  <thead>\n",
       "    <tr style=\"text-align: right;\">\n",
       "      <th></th>\n",
       "      <th>userID</th>\n",
       "      <th>productID</th>\n",
       "      <th>ratings</th>\n",
       "    </tr>\n",
       "  </thead>\n",
       "  <tbody>\n",
       "    <tr>\n",
       "      <th>6562653</th>\n",
       "      <td>AWH2AY17ZU7W2</td>\n",
       "      <td>B009A6CZ30</td>\n",
       "      <td>5.0</td>\n",
       "    </tr>\n",
       "    <tr>\n",
       "      <th>1001830</th>\n",
       "      <td>A1SHHQSPOWR00F</td>\n",
       "      <td>B000HGIWN4</td>\n",
       "      <td>3.0</td>\n",
       "    </tr>\n",
       "    <tr>\n",
       "      <th>3904732</th>\n",
       "      <td>A1PVJICI412IN4</td>\n",
       "      <td>B00466X9SY</td>\n",
       "      <td>5.0</td>\n",
       "    </tr>\n",
       "    <tr>\n",
       "      <th>7600678</th>\n",
       "      <td>AGYH5U11ZKPFB</td>\n",
       "      <td>B00F3ZN0CC</td>\n",
       "      <td>4.0</td>\n",
       "    </tr>\n",
       "    <tr>\n",
       "      <th>2743475</th>\n",
       "      <td>AMKNPIDFLRFMP</td>\n",
       "      <td>B002O3W2OI</td>\n",
       "      <td>2.0</td>\n",
       "    </tr>\n",
       "  </tbody>\n",
       "</table>\n",
       "</div>"
      ],
      "text/plain": [
       "                 userID   productID  ratings\n",
       "6562653   AWH2AY17ZU7W2  B009A6CZ30      5.0\n",
       "1001830  A1SHHQSPOWR00F  B000HGIWN4      3.0\n",
       "3904732  A1PVJICI412IN4  B00466X9SY      5.0\n",
       "7600678   AGYH5U11ZKPFB  B00F3ZN0CC      4.0\n",
       "2743475   AMKNPIDFLRFMP  B002O3W2OI      2.0"
      ]
     },
     "execution_count": 40,
     "metadata": {},
     "output_type": "execute_result"
    }
   ],
   "source": [
    "test_data.head()"
   ]
  },
  {
   "cell_type": "markdown",
   "metadata": {},
   "source": [
    "# Build Popularity Recommender model."
   ]
  },
  {
   "cell_type": "code",
   "execution_count": 41,
   "metadata": {},
   "outputs": [],
   "source": [
    "#Building the recommendations based on the average of all user ratings for each product.\n",
    "train_data_grouped = train_data.groupby('productID').mean().reset_index()"
   ]
  },
  {
   "cell_type": "code",
   "execution_count": 42,
   "metadata": {},
   "outputs": [
    {
     "data": {
      "text/html": [
       "<div>\n",
       "<style scoped>\n",
       "    .dataframe tbody tr th:only-of-type {\n",
       "        vertical-align: middle;\n",
       "    }\n",
       "\n",
       "    .dataframe tbody tr th {\n",
       "        vertical-align: top;\n",
       "    }\n",
       "\n",
       "    .dataframe thead th {\n",
       "        text-align: right;\n",
       "    }\n",
       "</style>\n",
       "<table border=\"1\" class=\"dataframe\">\n",
       "  <thead>\n",
       "    <tr style=\"text-align: right;\">\n",
       "      <th></th>\n",
       "      <th>productID</th>\n",
       "      <th>ratings</th>\n",
       "    </tr>\n",
       "  </thead>\n",
       "  <tbody>\n",
       "    <tr>\n",
       "      <th>0</th>\n",
       "      <td>0972683275</td>\n",
       "      <td>4.5</td>\n",
       "    </tr>\n",
       "    <tr>\n",
       "      <th>1</th>\n",
       "      <td>1400501466</td>\n",
       "      <td>3.0</td>\n",
       "    </tr>\n",
       "    <tr>\n",
       "      <th>2</th>\n",
       "      <td>1400501520</td>\n",
       "      <td>5.0</td>\n",
       "    </tr>\n",
       "    <tr>\n",
       "      <th>3</th>\n",
       "      <td>1400501776</td>\n",
       "      <td>4.0</td>\n",
       "    </tr>\n",
       "    <tr>\n",
       "      <th>4</th>\n",
       "      <td>1400532620</td>\n",
       "      <td>1.0</td>\n",
       "    </tr>\n",
       "  </tbody>\n",
       "</table>\n",
       "</div>"
      ],
      "text/plain": [
       "    productID  ratings\n",
       "0  0972683275      4.5\n",
       "1  1400501466      3.0\n",
       "2  1400501520      5.0\n",
       "3  1400501776      4.0\n",
       "4  1400532620      1.0"
      ]
     },
     "execution_count": 42,
     "metadata": {},
     "output_type": "execute_result"
    }
   ],
   "source": [
    "\n",
    "train_data_grouped.head()"
   ]
  },
  {
   "cell_type": "code",
   "execution_count": 43,
   "metadata": {},
   "outputs": [],
   "source": [
    "train_data_sort = train_data_grouped.sort_values(['ratings', 'productID'], ascending=False)"
   ]
  },
  {
   "cell_type": "code",
   "execution_count": 44,
   "metadata": {},
   "outputs": [
    {
     "data": {
      "text/html": [
       "<div>\n",
       "<style scoped>\n",
       "    .dataframe tbody tr th:only-of-type {\n",
       "        vertical-align: middle;\n",
       "    }\n",
       "\n",
       "    .dataframe tbody tr th {\n",
       "        vertical-align: top;\n",
       "    }\n",
       "\n",
       "    .dataframe thead th {\n",
       "        text-align: right;\n",
       "    }\n",
       "</style>\n",
       "<table border=\"1\" class=\"dataframe\">\n",
       "  <thead>\n",
       "    <tr style=\"text-align: right;\">\n",
       "      <th></th>\n",
       "      <th>productID</th>\n",
       "      <th>ratings</th>\n",
       "    </tr>\n",
       "  </thead>\n",
       "  <tbody>\n",
       "    <tr>\n",
       "      <th>14854</th>\n",
       "      <td>B00L3YHF6O</td>\n",
       "      <td>5.0</td>\n",
       "    </tr>\n",
       "    <tr>\n",
       "      <th>14851</th>\n",
       "      <td>B00K7O2DJU</td>\n",
       "      <td>5.0</td>\n",
       "    </tr>\n",
       "    <tr>\n",
       "      <th>14850</th>\n",
       "      <td>B00K4VQZCM</td>\n",
       "      <td>5.0</td>\n",
       "    </tr>\n",
       "    <tr>\n",
       "      <th>14849</th>\n",
       "      <td>B00K0OBEE2</td>\n",
       "      <td>5.0</td>\n",
       "    </tr>\n",
       "    <tr>\n",
       "      <th>14845</th>\n",
       "      <td>B00JLADOGW</td>\n",
       "      <td>5.0</td>\n",
       "    </tr>\n",
       "  </tbody>\n",
       "</table>\n",
       "</div>"
      ],
      "text/plain": [
       "        productID  ratings\n",
       "14854  B00L3YHF6O      5.0\n",
       "14851  B00K7O2DJU      5.0\n",
       "14850  B00K4VQZCM      5.0\n",
       "14849  B00K0OBEE2      5.0\n",
       "14845  B00JLADOGW      5.0"
      ]
     },
     "execution_count": 44,
     "metadata": {},
     "output_type": "execute_result"
    }
   ],
   "source": [
    "train_data_sort.head()"
   ]
  },
  {
   "cell_type": "code",
   "execution_count": 45,
   "metadata": {},
   "outputs": [
    {
     "data": {
      "text/plain": [
       "productID\n",
       "B0088CJT4U    135\n",
       "B003ES5ZUU    128\n",
       "B007WTAJTO    123\n",
       "B000N99BBC    122\n",
       "B00829TIEK    102\n",
       "B008DWCRQW    102\n",
       "B00829THK0     98\n",
       "B002R5AM7C     94\n",
       "B004CLYEDC     82\n",
       "B004CLYEFK     76\n",
       "Name: ratings, dtype: int64"
      ]
     },
     "execution_count": 45,
     "metadata": {},
     "output_type": "execute_result"
    }
   ],
   "source": [
    "\n",
    "train_data.groupby('productID')['ratings'].count().sort_values(ascending=False).head(10) "
   ]
  },
  {
   "cell_type": "code",
   "execution_count": 46,
   "metadata": {},
   "outputs": [],
   "source": [
    "ratings_mean_count = pd.DataFrame(train_data.groupby('productID')['ratings'].mean()) "
   ]
  },
  {
   "cell_type": "code",
   "execution_count": 47,
   "metadata": {},
   "outputs": [],
   "source": [
    "ratings_mean_count['rating_counts'] = pd.DataFrame(train_data.groupby('productID')['ratings'].count())  "
   ]
  },
  {
   "cell_type": "code",
   "execution_count": 48,
   "metadata": {},
   "outputs": [
    {
     "data": {
      "text/html": [
       "<div>\n",
       "<style scoped>\n",
       "    .dataframe tbody tr th:only-of-type {\n",
       "        vertical-align: middle;\n",
       "    }\n",
       "\n",
       "    .dataframe tbody tr th {\n",
       "        vertical-align: top;\n",
       "    }\n",
       "\n",
       "    .dataframe thead th {\n",
       "        text-align: right;\n",
       "    }\n",
       "</style>\n",
       "<table border=\"1\" class=\"dataframe\">\n",
       "  <thead>\n",
       "    <tr style=\"text-align: right;\">\n",
       "      <th></th>\n",
       "      <th>ratings</th>\n",
       "      <th>rating_counts</th>\n",
       "    </tr>\n",
       "    <tr>\n",
       "      <th>productID</th>\n",
       "      <th></th>\n",
       "      <th></th>\n",
       "    </tr>\n",
       "  </thead>\n",
       "  <tbody>\n",
       "    <tr>\n",
       "      <th>0972683275</th>\n",
       "      <td>4.5</td>\n",
       "      <td>2</td>\n",
       "    </tr>\n",
       "    <tr>\n",
       "      <th>1400501466</th>\n",
       "      <td>3.0</td>\n",
       "      <td>4</td>\n",
       "    </tr>\n",
       "    <tr>\n",
       "      <th>1400501520</th>\n",
       "      <td>5.0</td>\n",
       "      <td>1</td>\n",
       "    </tr>\n",
       "    <tr>\n",
       "      <th>1400501776</th>\n",
       "      <td>4.0</td>\n",
       "      <td>1</td>\n",
       "    </tr>\n",
       "    <tr>\n",
       "      <th>1400532620</th>\n",
       "      <td>1.0</td>\n",
       "      <td>1</td>\n",
       "    </tr>\n",
       "  </tbody>\n",
       "</table>\n",
       "</div>"
      ],
      "text/plain": [
       "            ratings  rating_counts\n",
       "productID                         \n",
       "0972683275      4.5              2\n",
       "1400501466      3.0              4\n",
       "1400501520      5.0              1\n",
       "1400501776      4.0              1\n",
       "1400532620      1.0              1"
      ]
     },
     "execution_count": 48,
     "metadata": {},
     "output_type": "execute_result"
    }
   ],
   "source": [
    "ratings_mean_count.head()  "
   ]
  },
  {
   "cell_type": "code",
   "execution_count": 49,
   "metadata": {},
   "outputs": [],
   "source": [
    "pred_df = test_data[['userID', 'productID', 'ratings']]"
   ]
  },
  {
   "cell_type": "code",
   "execution_count": 50,
   "metadata": {},
   "outputs": [],
   "source": [
    "pred_df.rename(columns = {'ratings' : 'true_ratings'}, inplace=True)"
   ]
  },
  {
   "cell_type": "code",
   "execution_count": 51,
   "metadata": {},
   "outputs": [],
   "source": [
    "pred_df = pred_df.merge(train_data_sort, left_on='productID', right_on = 'productID')"
   ]
  },
  {
   "cell_type": "code",
   "execution_count": 52,
   "metadata": {},
   "outputs": [
    {
     "data": {
      "text/html": [
       "<div>\n",
       "<style scoped>\n",
       "    .dataframe tbody tr th:only-of-type {\n",
       "        vertical-align: middle;\n",
       "    }\n",
       "\n",
       "    .dataframe tbody tr th {\n",
       "        vertical-align: top;\n",
       "    }\n",
       "\n",
       "    .dataframe thead th {\n",
       "        text-align: right;\n",
       "    }\n",
       "</style>\n",
       "<table border=\"1\" class=\"dataframe\">\n",
       "  <thead>\n",
       "    <tr style=\"text-align: right;\">\n",
       "      <th></th>\n",
       "      <th>userID</th>\n",
       "      <th>productID</th>\n",
       "      <th>true_ratings</th>\n",
       "      <th>ratings</th>\n",
       "    </tr>\n",
       "  </thead>\n",
       "  <tbody>\n",
       "    <tr>\n",
       "      <th>0</th>\n",
       "      <td>AWH2AY17ZU7W2</td>\n",
       "      <td>B009A6CZ30</td>\n",
       "      <td>5.0</td>\n",
       "      <td>4.5</td>\n",
       "    </tr>\n",
       "    <tr>\n",
       "      <th>1</th>\n",
       "      <td>A316XO4RWX21YN</td>\n",
       "      <td>B009A6CZ30</td>\n",
       "      <td>4.0</td>\n",
       "      <td>4.5</td>\n",
       "    </tr>\n",
       "    <tr>\n",
       "      <th>2</th>\n",
       "      <td>A1UNJ46NSB352E</td>\n",
       "      <td>B009A6CZ30</td>\n",
       "      <td>5.0</td>\n",
       "      <td>4.5</td>\n",
       "    </tr>\n",
       "  </tbody>\n",
       "</table>\n",
       "</div>"
      ],
      "text/plain": [
       "           userID   productID  true_ratings  ratings\n",
       "0   AWH2AY17ZU7W2  B009A6CZ30           5.0      4.5\n",
       "1  A316XO4RWX21YN  B009A6CZ30           4.0      4.5\n",
       "2  A1UNJ46NSB352E  B009A6CZ30           5.0      4.5"
      ]
     },
     "execution_count": 52,
     "metadata": {},
     "output_type": "execute_result"
    }
   ],
   "source": [
    "pred_df.head(3)"
   ]
  },
  {
   "cell_type": "code",
   "execution_count": 53,
   "metadata": {},
   "outputs": [],
   "source": [
    "pred_df.rename(columns = {'ratings' : 'predicted_ratings'}, inplace = True)"
   ]
  },
  {
   "cell_type": "code",
   "execution_count": 54,
   "metadata": {},
   "outputs": [
    {
     "data": {
      "text/html": [
       "<div>\n",
       "<style scoped>\n",
       "    .dataframe tbody tr th:only-of-type {\n",
       "        vertical-align: middle;\n",
       "    }\n",
       "\n",
       "    .dataframe tbody tr th {\n",
       "        vertical-align: top;\n",
       "    }\n",
       "\n",
       "    .dataframe thead th {\n",
       "        text-align: right;\n",
       "    }\n",
       "</style>\n",
       "<table border=\"1\" class=\"dataframe\">\n",
       "  <thead>\n",
       "    <tr style=\"text-align: right;\">\n",
       "      <th></th>\n",
       "      <th>userID</th>\n",
       "      <th>productID</th>\n",
       "      <th>true_ratings</th>\n",
       "      <th>predicted_ratings</th>\n",
       "    </tr>\n",
       "  </thead>\n",
       "  <tbody>\n",
       "    <tr>\n",
       "      <th>0</th>\n",
       "      <td>AWH2AY17ZU7W2</td>\n",
       "      <td>B009A6CZ30</td>\n",
       "      <td>5.0</td>\n",
       "      <td>4.5</td>\n",
       "    </tr>\n",
       "    <tr>\n",
       "      <th>1</th>\n",
       "      <td>A316XO4RWX21YN</td>\n",
       "      <td>B009A6CZ30</td>\n",
       "      <td>4.0</td>\n",
       "      <td>4.5</td>\n",
       "    </tr>\n",
       "    <tr>\n",
       "      <th>2</th>\n",
       "      <td>A1UNJ46NSB352E</td>\n",
       "      <td>B009A6CZ30</td>\n",
       "      <td>5.0</td>\n",
       "      <td>4.5</td>\n",
       "    </tr>\n",
       "    <tr>\n",
       "      <th>3</th>\n",
       "      <td>A1CMD08Z49PGKQ</td>\n",
       "      <td>B009A6CZ30</td>\n",
       "      <td>5.0</td>\n",
       "      <td>4.5</td>\n",
       "    </tr>\n",
       "    <tr>\n",
       "      <th>4</th>\n",
       "      <td>A1F9Z42CFF9IAY</td>\n",
       "      <td>B009A6CZ30</td>\n",
       "      <td>5.0</td>\n",
       "      <td>4.5</td>\n",
       "    </tr>\n",
       "  </tbody>\n",
       "</table>\n",
       "</div>"
      ],
      "text/plain": [
       "           userID   productID  true_ratings  predicted_ratings\n",
       "0   AWH2AY17ZU7W2  B009A6CZ30           5.0                4.5\n",
       "1  A316XO4RWX21YN  B009A6CZ30           4.0                4.5\n",
       "2  A1UNJ46NSB352E  B009A6CZ30           5.0                4.5\n",
       "3  A1CMD08Z49PGKQ  B009A6CZ30           5.0                4.5\n",
       "4  A1F9Z42CFF9IAY  B009A6CZ30           5.0                4.5"
      ]
     },
     "execution_count": 54,
     "metadata": {},
     "output_type": "execute_result"
    }
   ],
   "source": [
    "pred_df.head()"
   ]
  },
  {
   "cell_type": "code",
   "execution_count": 55,
   "metadata": {},
   "outputs": [
    {
     "name": "stdout",
     "output_type": "stream",
     "text": [
      "The RMSE value for Popularity Recommender model is 1.0914119718039657\n"
     ]
    }
   ],
   "source": [
    "import sklearn.metrics as metric\n",
    "from math import sqrt\n",
    "MSE = metric.mean_squared_error(pred_df['true_ratings'], pred_df['predicted_ratings'])\n",
    "print('The RMSE value for Popularity Recommender model is', sqrt(MSE))"
   ]
  },
  {
   "cell_type": "markdown",
   "metadata": {},
   "source": [
    "**The RMSE value for Popularity Recommender model is 1.091**"
   ]
  },
  {
   "cell_type": "markdown",
   "metadata": {},
   "source": [
    "# Build Collaborative Filtering model"
   ]
  },
  {
   "cell_type": "code",
   "execution_count": 56,
   "metadata": {},
   "outputs": [],
   "source": [
    "import surprise\n",
    "from surprise import KNNWithMeans\n",
    "from surprise.model_selection import GridSearchCV\n",
    "from surprise import Dataset\n",
    "from surprise import accuracy\n",
    "from surprise import Reader\n",
    "from surprise.model_selection import train_test_split"
   ]
  },
  {
   "cell_type": "code",
   "execution_count": 57,
   "metadata": {},
   "outputs": [],
   "source": [
    "reader = Reader(rating_scale=(0.5, 5.0))"
   ]
  },
  {
   "cell_type": "markdown",
   "metadata": {},
   "source": [
    "# Converting Pandas Dataframe to Surpise format"
   ]
  },
  {
   "cell_type": "code",
   "execution_count": 58,
   "metadata": {},
   "outputs": [],
   "source": [
    "data = Dataset.load_from_df(top_ratings_df[['userID', 'productID', 'ratings']],reader)"
   ]
  },
  {
   "cell_type": "code",
   "execution_count": 59,
   "metadata": {},
   "outputs": [],
   "source": [
    "# Split data to train and test\n",
    "from surprise.model_selection import train_test_split\n",
    "trainset, testset = train_test_split(data, test_size=.3,random_state=0)"
   ]
  },
  {
   "cell_type": "code",
   "execution_count": 60,
   "metadata": {},
   "outputs": [
    {
     "data": {
      "text/plain": [
       "surprise.trainset.Trainset"
      ]
     },
     "execution_count": 60,
     "metadata": {},
     "output_type": "execute_result"
    }
   ],
   "source": [
    "type(trainset)"
   ]
  },
  {
   "cell_type": "markdown",
   "metadata": {},
   "source": [
    "# Training the model"
   ]
  },
  {
   "cell_type": "markdown",
   "metadata": {},
   "source": [
    "**KNNWithMeans**"
   ]
  },
  {
   "cell_type": "code",
   "execution_count": 61,
   "metadata": {},
   "outputs": [
    {
     "name": "stdout",
     "output_type": "stream",
     "text": [
      "Estimating biases using als...\n",
      "Computing the pearson_baseline similarity matrix...\n",
      "Done computing similarity matrix.\n"
     ]
    },
    {
     "data": {
      "text/plain": [
       "<surprise.prediction_algorithms.knns.KNNWithMeans at 0x1f088095670>"
      ]
     },
     "execution_count": 61,
     "metadata": {},
     "output_type": "execute_result"
    }
   ],
   "source": [
    "algo_user = KNNWithMeans(k=10, min_k=6, sim_options={'name': 'pearson_baseline', 'user_based': True})\n",
    "algo_user.fit(trainset)"
   ]
  },
  {
   "cell_type": "markdown",
   "metadata": {},
   "source": [
    "**SVD**"
   ]
  },
  {
   "cell_type": "code",
   "execution_count": 62,
   "metadata": {},
   "outputs": [
    {
     "data": {
      "text/plain": [
       "<surprise.prediction_algorithms.matrix_factorization.SVD at 0x1f0880957c0>"
      ]
     },
     "execution_count": 62,
     "metadata": {},
     "output_type": "execute_result"
    }
   ],
   "source": [
    "svd_model = SVD(n_factors=50,reg_all=0.02)\n",
    "svd_model.fit(trainset)"
   ]
  },
  {
   "cell_type": "code",
   "execution_count": null,
   "metadata": {},
   "outputs": [],
   "source": []
  },
  {
   "cell_type": "code",
   "execution_count": null,
   "metadata": {},
   "outputs": [],
   "source": []
  },
  {
   "cell_type": "markdown",
   "metadata": {},
   "source": [
    "#  Evaluate both the models. ( Once the model is trained on the training data, it can be used to compute the error (like RMSE) on predictions made on the test data.) You can also use a different method to evaluate the models."
   ]
  },
  {
   "cell_type": "markdown",
   "metadata": {},
   "source": [
    " **Popularity Recommender Model (RMSE)**\n"
   ]
  },
  {
   "cell_type": "code",
   "execution_count": 63,
   "metadata": {},
   "outputs": [
    {
     "name": "stdout",
     "output_type": "stream",
     "text": [
      "The RMSE value for Popularity Recommender model is 1.0914119718039657\n"
     ]
    }
   ],
   "source": [
    "MSE = metric.mean_squared_error(pred_df['true_ratings'], pred_df['predicted_ratings'])\n",
    "print('The RMSE value for Popularity Recommender model is', sqrt(MSE))"
   ]
  },
  {
   "cell_type": "markdown",
   "metadata": {},
   "source": [
    "\n",
    "\n",
    "\n",
    "\n",
    "**Collaborative Filtering Recommender Model (RMSE)**"
   ]
  },
  {
   "cell_type": "code",
   "execution_count": 64,
   "metadata": {},
   "outputs": [
    {
     "name": "stdout",
     "output_type": "stream",
     "text": [
      "23755\n"
     ]
    },
    {
     "data": {
      "text/plain": [
       "list"
      ]
     },
     "execution_count": 64,
     "metadata": {},
     "output_type": "execute_result"
    }
   ],
   "source": [
    "print(len(testset))\n",
    "type(testset)"
   ]
  },
  {
   "cell_type": "markdown",
   "metadata": {},
   "source": [
    "**KNNWithMeans**"
   ]
  },
  {
   "cell_type": "code",
   "execution_count": 65,
   "metadata": {},
   "outputs": [
    {
     "data": {
      "text/plain": [
       "Prediction(uid='A28UMA3GW9L124', iid='B001GX6MJ8', r_ui=3.0, est=3.3492063492063493, details={'actual_k': 2, 'was_impossible': False})"
      ]
     },
     "execution_count": 65,
     "metadata": {},
     "output_type": "execute_result"
    }
   ],
   "source": [
    "# Evalute on test set\n",
    "test_pred = algo_user.test(testset)\n",
    "test_pred[0]"
   ]
  },
  {
   "cell_type": "code",
   "execution_count": 66,
   "metadata": {},
   "outputs": [
    {
     "name": "stdout",
     "output_type": "stream",
     "text": [
      "RMSE: 0.9941\n"
     ]
    },
    {
     "data": {
      "text/plain": [
       "0.9940800621800723"
      ]
     },
     "execution_count": 66,
     "metadata": {},
     "output_type": "execute_result"
    }
   ],
   "source": [
    "# compute RMSE\n",
    "accuracy.rmse(test_pred) #range of value of error"
   ]
  },
  {
   "cell_type": "markdown",
   "metadata": {},
   "source": [
    "**SVD**"
   ]
  },
  {
   "cell_type": "code",
   "execution_count": 67,
   "metadata": {},
   "outputs": [],
   "source": [
    "test_pred = svd_model.test(testset)"
   ]
  },
  {
   "cell_type": "code",
   "execution_count": 68,
   "metadata": {},
   "outputs": [
    {
     "name": "stdout",
     "output_type": "stream",
     "text": [
      "RMSE: 0.9607\n"
     ]
    },
    {
     "data": {
      "text/plain": [
       "0.9607251700359883"
      ]
     },
     "execution_count": 68,
     "metadata": {},
     "output_type": "execute_result"
    }
   ],
   "source": [
    "# compute RMSE\n",
    "accuracy.rmse(test_pred)"
   ]
  },
  {
   "cell_type": "markdown",
   "metadata": {},
   "source": [
    " **Parameter tuning of SVD Recommendation system**"
   ]
  },
  {
   "cell_type": "code",
   "execution_count": 69,
   "metadata": {},
   "outputs": [],
   "source": [
    "from surprise.model_selection import GridSearchCV\n",
    "param_grid = {'n_factors' : [5,10,15], \"reg_all\":[0.01,0.02]}\n",
    "gs = GridSearchCV(SVD, param_grid, measures=['rmse'], cv=3,refit = True)"
   ]
  },
  {
   "cell_type": "code",
   "execution_count": 70,
   "metadata": {},
   "outputs": [],
   "source": [
    "gs.fit(data)"
   ]
  },
  {
   "cell_type": "code",
   "execution_count": 71,
   "metadata": {},
   "outputs": [
    {
     "data": {
      "text/plain": [
       "{'rmse': {'n_factors': 5, 'reg_all': 0.02}}"
      ]
     },
     "execution_count": 71,
     "metadata": {},
     "output_type": "execute_result"
    }
   ],
   "source": [
    "# get best parameters\n",
    "gs.best_params"
   ]
  },
  {
   "cell_type": "code",
   "execution_count": 72,
   "metadata": {},
   "outputs": [
    {
     "name": "stdout",
     "output_type": "stream",
     "text": [
      "RMSE: 0.8575\n"
     ]
    },
    {
     "data": {
      "text/plain": [
       "0.8574850336634474"
      ]
     },
     "execution_count": 72,
     "metadata": {},
     "output_type": "execute_result"
    }
   ],
   "source": [
    "# Use the \"best model\" for prediction\n",
    "gs.test(testset)\n",
    "accuracy.rmse(gs.test(testset))"
   ]
  },
  {
   "cell_type": "markdown",
   "metadata": {},
   "source": [
    "**The RMSE value for Collaborative Filtering model, byKNNWithMeans is 0.9941 and SVD is 0.9606. After parameter tuning of SVD it is 0.858**"
   ]
  },
  {
   "cell_type": "markdown",
   "metadata": {},
   "source": [
    "# Get top - K ( K = 5) recommendations. Since our goal is to recommend new products to each user based on his/her habits, we will recommend 5 new products."
   ]
  },
  {
   "cell_type": "code",
   "execution_count": 73,
   "metadata": {},
   "outputs": [],
   "source": [
    "from collections import defaultdict\n",
    "def get_top_n(predictions, n=5):\n",
    "  \n",
    "    # First map the predictions to each user.\n",
    "    top_n = defaultdict(list)\n",
    "    for uid, iid, true_r, est, _ in predictions:\n",
    "        top_n[uid].append((iid, est))\n",
    "\n",
    "    # Then sort the predictions for each user and retrieve the k highest ones.\n",
    "    for uid, user_ratings in top_n.items():\n",
    "        user_ratings.sort(key=lambda x: x[1], reverse=True)\n",
    "        top_n[uid] = user_ratings[:n]\n",
    "\n",
    "    return top_n"
   ]
  },
  {
   "cell_type": "code",
   "execution_count": 74,
   "metadata": {},
   "outputs": [],
   "source": [
    "top_n = get_top_n(test_pred, n=5)"
   ]
  },
  {
   "cell_type": "code",
   "execution_count": 75,
   "metadata": {},
   "outputs": [
    {
     "name": "stdout",
     "output_type": "stream",
     "text": [
      "A28UMA3GW9L124 ['B000N99BBC', 'B008JJLW4M', 'B008HO9DK4', 'B0002D6QJO', 'B000M2GYF6']\n",
      "A38NHXL5257E3B ['B00BOHNYU6', 'B004Q3R9AQ', 'B003SGCO3E', 'B00CB2F65O', 'B0028Y4DCC']\n",
      "A36IHC0K68NS2 ['B00ATM1MGA', 'B00HMREOLK', 'B001FAACHK', 'B009N8M2P6', 'B004ING996']\n",
      "A231WM2Z2JL0U3 ['B00006HZ0L', 'B00004RC2D', 'B00005QJCU', 'B00000JSGF', 'B00008OE6I']\n",
      "A2AC6GQ24S45GA ['B009E6J1BU', 'B001TOD7ME', 'B000PGHCG4', 'B001S2RCWI', 'B00884WH74']\n",
      "A3OXHLG6DIBRW8 ['B001T9NUJE', 'B004CLYEFK', 'B002VPE1X4', 'B007KEZMX4', 'B00BCA41PW']\n",
      "A2XA8CW5DF4MNZ ['B000TKHBDK', 'B001TOD7ME', 'B00387EW1K', 'B000MKKTJK', 'B000AP05BO']\n",
      "AG35JCCQWDRCS ['B000068O16', 'B0036Q7MV0', 'B0045TYDNC', 'B004GYVPGE', 'B003ZSHNE0']\n",
      "A2X3L31KCXBHCL ['B00829THEG', 'B0044DEDC0', 'B002V1APJ2', 'B001H5WLP4', 'B006WHPQE0']\n",
      "A33YZNZIRA3H97 ['B00BOHNYTW', 'B00BFO14W8', 'B00AXTQQDS', 'B004MT7GGG', 'B00006I5J7']\n",
      "AX05DBU8IRUWY ['B006W8U2MU', 'B007WTAJTO', 'B008D6YZXG', 'B003ZBZ64Q', 'B001FO4QHI']\n",
      "A296QED1MV1V0J ['B005BOMTT0', 'B007VGGFZU', 'B008AST7R6', 'B0058G40O8', 'B00EN27TCI']\n",
      "A1CPRP3VFJRS1R ['B008C1JC4O', 'B003CFATT2', 'B002HWRJY4', 'B00224ZDFY', 'B00080O0UI']\n",
      "AB094YABX21WQ ['B001TH7GUU', 'B000O5N5AI', 'B000S5Q9CA', 'B00483WRZ6', 'B004PYD9I2']\n",
      "A1MEISNED4NP7U ['B007R5YDYA', 'B00834SJSK', 'B004LWYE4Q', 'B007PTCFFW', 'B007PJ4P4G']\n",
      "A3LGT6UZL99IW1 ['B004W2JKWG', 'B00CDS9HTM', 'B004CLYEDC', 'B000V5P90K', 'B003CFATT2']\n",
      "A1PPS91NLI7KEH ['B0098PRKA6', 'B0064EL2DK', 'B00AAHT8JC', 'B00A0LVPL2', 'B00CD8ADKO']\n",
      "A1VJ0V58N0698J ['B000QY9KIS', 'B0075SUK14', 'B00328HR7G', 'B004VM0SE6', 'B00395YA40']\n",
      "A196JN53PG0C7R ['B003ES5ZUU', 'B008JJLW4M', 'B001TH7T2U', 'B001AYGDCE', 'B001FVI91U']\n",
      "A1901NTE8LFJF6 ['B000M2TAN4', 'B0011U65F2', 'B002P3KMXA', 'B007ABANFY', 'B002HWRJBM']\n",
      "A3TAS1AG6FMBQW ['B001KELVS0', 'B00COF7DGS', 'B009NHWVIA', 'B000HPV3RW', 'B001TH7GSW']\n",
      "A362FM6FYA1SYS ['B005ES0YYA', 'B000VDCT3C', 'B00E3W15P0', 'B0045KGZOG', 'B0099XGZXA']\n",
      "A3D0UM4ZD2CMAW ['B003AVMRQG', 'B004W2T2TM', 'B009O7YU56', 'B004FA8NOQ', 'B005J7YA4G']\n",
      "A6FIAB28IS79 ['B004VM1T5S', 'B000E6G9RI', 'B0097BEF1S', 'B000089GN3', 'B004YKXGIK']\n",
      "A2X695AM08AIN1 ['B002WE6D44', 'B007WTAJTO', 'B0075SUK14', 'B004C3AW40', 'B003YKG2UK']\n",
      "A2NOW4U7W3F7RI ['B00017LSPI', 'B00HHRP11C', 'B004G6002M', 'B007WTAJTO', 'B004IK2EAW']\n",
      "A2W2ODLRQ2L8LE ['B000V7AF8E', 'B000JJM8XE', 'B000LD14PQ', 'B006FNCWSY', 'B004JQN670']\n",
      "AR6APXLK7TJU2 ['B001G5ZTLS', 'B001IF252C', 'B000AZ57M6', 'B003SX0P1A', 'B0011TM19C']\n",
      "A1V4A5U5O3TMMD ['B00009XVCZ', 'B0002E1RZQ', 'B001EAQTRI', 'B0009H5VVM', 'B007FGYZFI']\n",
      "A110PC8C5Y7MQD ['B005EOWBKE', 'B005DQG5SC', 'B003LSTD38', 'B005J4C820', 'B007KB3VIU']\n",
      "A5MCDQ60DWUEV ['B002WE6D44', 'B001MSU1FS', 'B002ZIMEMW', 'B00007E7JU', 'B0002D03ZW']\n",
      "ASCBJEPXTOU0V ['B004W2JKWG', 'B003ES5ZUU', 'B000QUUFRW', 'B006WAGG14', 'B0088PUEPK']\n",
      "A2294LS59GC5K7 ['B002V88HFE', 'B003YNQ6MG', 'B001J8BPYM', 'B003ZSHNE0', 'B003DTLV8K']\n",
      "A34UVV757IKPVB ['B000F49RAA', 'B003XM1WE0', 'B008MF3X9K', 'B000EPHR0C', 'B00028ONIA']\n",
      "A10O7THJ2O20AG ['B007PJ4P4G', 'B00005N6KG', 'B00017LSPI', 'B000QUUFRW', 'B00B588HY2']\n",
      "A2NYK9KWFMJV4Y ['B00GMTN96U', 'B00HG1L334', 'B009UNZ5WQ', 'B00DTZYHX4', 'B000VX6XL6']\n",
      "A3TBMAWIIHKHFN ['B004YIFKRM', 'B000167OAC', 'B0015HYPOO', 'B001G0MPBK', 'B000WOVD1Y']\n",
      "A1ODOGXEYECQQ8 ['B000233WJ6', 'B0013FRNKG', 'B001TH7GUK', 'B000KO0GY6', 'B00CIZ2238']\n",
      "A1MFVAHTT2BHM0 ['B007WTAJTO', 'B000S5Q9CA', 'B00005T3G0', 'B00006B7DA', 'B005NGKR54']\n",
      "A18HE80910BTZI ['B00EO302SO', 'B003LPUWT0', 'B004G6002M', 'B002WE4HE2', 'B0001G6U4S']\n",
      "AEZJTA4KDIWY8 ['B00E3W15P0', 'B000HPV3RW', 'B000O8I474', 'B0044XTJ10', 'B001ID829O']\n",
      "A19EKT8H85AKO5 ['B004CLYEFK', 'B0079UAT0A', 'B00834SJSK', 'B005XPFYBM', 'B0013VFI34']\n",
      "A141OPVE376YFI ['B0000BZL1P', 'B000067RT6', 'B0056YNA1Q', 'B0002V85OU', 'B003YKFKR6']\n",
      "A17HMM1M7T9PJ1 ['B0010Z28XG', 'B0000BZL1P', 'B001KELVS0', 'B0012IJYZ6', 'B00FZ9SM4M']\n",
      "A28RSMADFCBJDT ['B000M2TAN4', 'B000N7VPRW', 'B002SZEOLG', 'B0011NVMO8', 'B000M2GYF6']\n",
      "AV9PIER7NE448 ['B00E3W15P0', 'B0045TYDNC', 'B003X26VV4', 'B000HPV3RW', 'B008JJLW4M']\n",
      "ADOR3TR7GDF68 ['B003UH0Z9Q', 'B001O4EPHA', 'B007WTAJTO', 'B001PHLMAE', 'B0019EQ1RW']\n",
      "A316XO4RWX21YN ['B00FPKDPZC', 'B00D5Q75RC', 'B002S53LJ2', 'B0093HAWZY', 'B00ATM1MVU']\n",
      "ARBKYIVNYWK3C ['B0052SCU8U', 'B000TKHBDK', 'B006EKIQYM', 'B008ALA6DW', 'B00006HSML']\n",
      "A1AQ8JT2A3UWMY ['B00E3W15P0', 'B000NP3DJW', 'B00007E89K', 'B000NP46K2', 'B000X24ISU']\n",
      "A680RUE1FDO8B ['B0019EHU8G', 'B0012Y2LLE', 'B005LDLP8W', 'B00E0HITQ6', 'B004CLYEH8']\n",
      "A38NELQT98S4H8 ['B004MF11MU', 'B00DT04I9W', 'B0041D81WQ', 'B006BUN5YQ', 'B003AHID7M']\n",
      "A26SO3TOT2TLJE ['B004GUT1QO', 'B00BOHNYU6', 'B00EHZYWGM', 'B00395ZQMK', 'B008PQAFR4']\n",
      "A3TR3KLL5PXSZ8 ['B004WB8EYM', 'B005KEL4NI', 'B0090BSSZO', 'B000A1SZ2Y', 'B004XY65WQ']\n",
      "A3AYSYSLHU26U9 ['B00IX2VGFA', 'B0019EHU8G', 'B00B9KOCYA', 'B00EDCF0MY', 'B00F0DD0I6']\n",
      "A13BX9O5UDBILC ['B009YQ8BTI', 'B002V88HFE', 'B002K9IHGI', 'B00015GYU4', 'B001XHBNN2']\n",
      "AVFJ327UXPXLF ['B00BOHNYU6', 'B006LW0W5Y', 'B0039BPG1U', 'B006K553LU', 'B004N3BH0C']\n",
      "AX7317G153T8W ['B001OOZ1X2', 'B00BOHNYU6', 'B00080G0BK', 'B0013FRNKG', 'B00139JBU2']\n",
      "A38RMU1Y5TDP9 ['B004MF11MU', 'B003U7SR0U', 'B009X01C64', 'B001E1Y5O6', 'B002I3OZB2']\n",
      "A2858RV2VLI14X ['B004QBUL1C', 'B004NY9UV4', 'B0007TOR08', 'B009DYOPJ6', 'B0052TIRQI']\n",
      "AWPODHOB4GFWL ['B001TH7GSW', 'B00DTZYHX4', 'B000F9YN22', 'B00BERGFV6', 'B002Y6CJJ8']\n",
      "ACH055GTTIGC9 ['B0001HA8WW', 'B00FDUHD2K', 'B00585CLVS', 'B0002LHSFW', 'B0002VO8GE']\n",
      "A1C5WS021EL3WO ['B001TH7GUU', 'B003ES5ZR8', 'B007FH1KX2', 'B000CRFOMK', 'B002SQKL7Q']\n",
      "A100WO06OQR8BQ ['B0002LEMWE', 'B000VX6XL6', 'B001342KM8', 'B009DCNP9O', 'B001AW8W7A']\n",
      "A3GQY0TFRG0MPZ ['B00182CIB8', 'B006ZH0JQM', 'B002J9HBIO', 'B0040IO1RQ', 'B00FOU3KYE']\n",
      "A2GMZZ6TDYOHY7 ['B000QUUFRW', 'B007WTAJTO', 'B00475K64E', 'B007R5YDYA', 'B003O1UYHG']\n",
      "AGEKVD8JPZQMT ['B004286VMW', 'B008MF3X9K', 'B004CLYEE6', 'B0012QN3AA', 'B00A0ABQLM']\n",
      "A2N3JSOIQ6ZNFL ['B00461E7JE', 'B000067SPR', 'B002POBS46', 'B0057Q4ADU', 'B004HCKRKA']\n",
      "A19W47CXJJP1MI ['B00DR6DQZA', 'B0007A1IRC', 'B000HPV3RW', 'B0034CL2ZI', 'B001TH7GUA']\n",
      "A3BI8BKIHESDNQ ['B004TLIVB6', 'B00000J1SC', 'B001LK6ZDY', 'B000FV8P24', 'B00874DIMS']\n",
      "AW68KVDV7BBRS ['B002QUZM0U', 'B00140DBRY', 'B000VDCTCI', 'B00006HOAE', 'B005SGIILO']\n",
      "A27ADCSD15F3GL ['B003CFATT2', 'B00HFRWWAM', 'B001MSU1FS', 'B008EC4O76', 'B00871SR68']\n",
      "A2G563AC1HME2R ['B005IMFX2K', 'B003FVJYF8', 'B00483WRZ6', 'B00BT7RAPG', 'B003BKW2K2']\n",
      "APMYPD97EHUUZ ['B008EQZ25K', 'B00829TIEK', 'B001OOZ1X2', 'B00CO1I29O', 'B003N9PJDI']\n",
      "A1VUN4JU731CBH ['B006W8U2MU', 'B001DBF07I', 'B00483WRZ6', 'B000096B01', 'B001V9LQAW']\n",
      "A15XI2BEGGFEOW ['B00829TIA4', 'B00A0JUNWQ', 'B0002L5R78', 'B004K1EOCA', 'B001ELK2NY']\n",
      "A16CVJUQOB6GIB ['B000OGX5AM', 'B00596CP9E', 'B003XUM3NQ']\n",
      "A20UU20K7M9ZPF ['B009NHWVIA', 'B006JTUM72', 'B003ZTWYXY', 'B007B31IAK', 'B003TVWNAM']\n",
      "AR18DH5SL9F73 ['B003CJQ69A', 'B000WH6H1M', 'B004MU8VCS', 'B001NJ0D0Y', 'B004EGI3CI']\n",
      "A2EZTM9WY5B5IL ['B002WE0QN8', 'B00BXA7N6A', 'B001S2PPT0', 'B00001WRSJ', 'B005I6DUYE']\n",
      "A26EQ8U96JA92T ['B000BQ7GW8', 'B004HIN7SI', 'B005HNHRA6', 'B00E9YIFKA', 'B000HDJY7K']\n",
      "A1WUQF5HWBAQJU ['B0058G40O8', 'B00G4UQ6U8', 'B00JF0D7RE', 'B003TUMDWG', 'B00FSA8VQ2']\n",
      "A3F9CBHV4OHFBS ['B000IJY8DS', 'B005EOWBKE', 'B007I5JT4S', 'B0012Y6HC8', 'B001SJVU24']\n",
      "A250AXLRBVYKB4 ['B004CLYEDC', 'B0007Y836W', 'B000MX48VM', 'B000L7INLU', 'B000VE2RP6']\n",
      "AETQIN7OH0RL9 ['B008JJLW4M', 'B009SYZ8OC', 'B009B0MZ8U', 'B008AST7R6', 'B002ZIMEMW']\n",
      "A2DG63DN704LOI ['B001OI2YNS', 'B00HFRWWAM', 'B0094S35W4', 'B0000BZL28', 'B00D1GYNT4']\n",
      "A10H24TDLK2VDP ['B009NHWVIA', 'B0093H4WT6', 'B00BYRPM9M', 'B0011Z44UA', 'B0038KLD50']\n",
      "A3UKWQS8SRW6IO ['B003M0NT1M', 'B00D429Y12', 'B0052SCU8U', 'B00829THVO', 'B004SBBD8U']\n",
      "A2H4OMJLE7JFM2 ['B0012Y2LLE', 'B001E1Y5O6', 'B002M3SOCE', 'B000CSOXTO', 'B00CP0I474']\n",
      "A3F7USIDJBR8WU ['B004J3V90Y', 'B000MUV6BA', 'B001Q3M2Z6', 'B005CT56F8', 'B00007EDZG']\n",
      "A3IY316DRNF5F2 ['B004MMEHH4', 'B004PNZFZ8', 'B002DMKPQ2', 'B0047E8DN6', 'B009TL1XS4']\n",
      "A3RGJ1FXOB1ZLL ['B005ES0YYA', 'B005EOWBHC', 'B009O7YUF6', 'B0055QYKQO', 'B00906DHLE']\n",
      "A2Q204DY2L7YRP ['B003ES5ZUU', 'B008LCYIEI', 'B0079M711S', 'B001F7AJKI', 'B008FJJ66C']\n",
      "A34BZM6S9L7QI4 ['B009NHWVIA', 'B003ZTKFEE', 'B004CLYEH8', 'B0057UUB1G', 'B00CD1FB26']\n",
      "AWNBZSEZ9P8BE ['B0035FZJHQ', 'B00HVT27B8', 'B005DSPLCQ', 'B008X1BV2Y', 'B003M0NURK']\n",
      "AR3EVUQF0AC7R ['B00020S7XK', 'B00EOE4G4E', 'B00HNJWSH4', 'B00IRRDHUI', 'B000O8WE66']\n",
      "A1HFT68GJ42LTM ['B002TLSOG0', 'B002P3KH80', 'B00C20KWP4', 'B002K9IHGI', 'B0038OMEQI']\n",
      "A1TY97ZGQT5FGF ['B000EVOOO8', 'B0012YHQVE', 'B0041OSQ9I', 'B000WXSO76', 'B0042SGDVG']\n",
      "A4D5B7Q8A7PA6 ['B0034CL2ZI', 'B009NHWVIA', 'B003CJTQJC', 'B003CFATT2', 'B00G4V0QSK']\n",
      "A3T8WOFS5RD2IR ['B000WOIFO2', 'B004CLYEDC', 'B009SS0FZK', 'B000WBQOZW', 'B000NONHYY']\n",
      "A2PMR2PIGWKCQ9 ['B00D695GS8', 'B0090Z3QG6', 'B004GUT1QO', 'B00165XQWW', 'B002I8MUJG']\n",
      "AGXV8E7XK9J6H ['B00007GQLU', 'B000FKQ8LA', 'B000AZ57M6', 'B00065ANYW', 'B00009R6V0']\n",
      "A2XIOXRRYX0KZY ['B004CLYEDC', 'B009NHWVIA', 'B00FG38L16', 'B008YDTNDU', 'B0095P2F1S']\n",
      "A17NVM7IAPF2NS ['B00D6XW62I', 'B00829THEG', 'B004N625B4', 'B003Y5H17I', 'B00EF1OGOG']\n",
      "A2TN0U8173HM7A ['B007Q45EF4', 'B006L8TX94', 'B004YDUZ22', 'B0002KVQBA', 'B000HPV3RW']\n",
      "ACQYIC13JXAOI ['B00HVT27B8', 'B000N99BBC', 'B001S4OTS6', 'B0040JHVC2', 'B005LAIFE2']\n",
      "A3TRY87JJCA5Y8 ['B005EOWBKE', 'B003AI272I', 'B003UI62AG', 'B001FB6PJI', 'B002HZW6WQ']\n",
      "AYB4ELCS5AM8P ['B000BQ7GW8', 'B00G4UQ6U8', 'B00G4V0QSK', 'B004CLYEDC', 'B008X9Z44M']\n",
      "A2T689YVOAYGGD ['B0034CL2ZI', 'B002YU83YO', 'B0012YFXSW', 'B005JN9310', 'B001UNI80A']\n",
      "ADLVFFE4VBT8 ['B0019EHU8G', 'B005KAK2FI', 'B000M17AVO', 'B005IMFX2K', 'B002WE4HE2']\n",
      "A1MFAPVBW9BEGD ['B004HVW0ZQ', 'B001S4OTS6', 'B00IDG3IDO', 'B007477COO', 'B003B20F5E']\n",
      "A1Z16630QMH8Q6 ['B004CLYEDC', 'B000HPV3RW', 'B007PTCFFW', 'B000Q82PIQ', 'B00JC5Y6WM']\n",
      "A1XXMNLOLKNO0I ['B008RDI0TU', 'B007WTAJTO', 'B001TH7T2U', 'B007PTCFFW', 'B001D60LG8']\n",
      "A105TOJ6LTVMBG ['B00005N6KG', 'B001J8BPYM', 'B00029U1DK', 'B00182CIB8', 'B001UNM414']\n",
      "A33CNFK776MTWR ['B002FJQXXC', 'B005450ZUG', 'B004FEEZHQ', 'B005DKIID8', 'B001FA1NK0']\n",
      "A30KPB2ILF6K6J ['B001P05NBA', 'B00829THVO', 'B005ELBSWO', 'B0081FLFQE', 'B001CCLBSA']\n",
      "A3QNQQKJTL76H0 ['B00BOHNYTW', 'B00BFO14W8', 'B00DT04I9W', 'B008HK3QII', 'B000O8WE66']\n",
      "AOEAD7DPLZE53 ['B000VX6XL6', 'B00BW6KCTU', 'B000028F42', 'B001DL9WDG', 'B00C46K0X0']\n",
      "A2RN2AO4BE6F4K ['B005DSPLCQ', 'B00A0JUNWQ', 'B003XM9774', 'B002FU5QMK', 'B0001GRTK2']\n",
      "A5JLAU2ARJ0BO ['B00008OE6I', 'B0007QKMQY', 'B000WP2RC2', 'B00006IJO4', 'B00006B7HB']\n",
      "A11ED8O95W2103 ['B00007IFED', 'B000EVSLRO', 'B000065BPC', 'B00006HSYC', 'B0000228GG']\n",
      "AKSQNMIKOU01H ['B002V88HFE', 'B0000WKYU4', 'B0036AWR8E', 'B0079M711S', 'B002PWHOYG']\n",
      "A3BACUOZV1M0WM ['B000VX6XL6', 'B001NS828K', 'B004R7P28W', 'B00009R6WO', 'B001UJ2HVK']\n",
      "AR8LWDT6TUKNZ ['B00E83XHXM', 'B003547GRI', 'B003T0EYVE', 'B00BS4KUCK', 'B00547IVXM']\n",
      "A13QOK3SKIT9QL ['B002WE6D44', 'B0013FSKSA', 'B000ID37EA', 'B006UMM1PO', 'B0014J07R2']\n",
      "A1KXJCXS6HFRQZ ['B003ES5ZUU', 'B004CLYEDC', 'B004FHO5Y6', 'B00007FGU7', 'B000OG6I8S']\n",
      "AR74YY08IP2WE ['B000233WJ6', 'B00BOHNYU6', 'B002BH3Z8E', 'B00FR6VL50', 'B005I6EU48']\n",
      "ATOKT8QYK967L ['B00125Y0NU', 'B00829TIA4', 'B005CG2AL4', 'B008E35TD8', 'B00FA4Y7N2']\n",
      "AXR3CV6A4FMBG ['B004VR7XCG', 'B0033PROOY', 'B000MUP69I', 'B001MSF1FI', 'B003K1EYM6']\n",
      "A328S9RN3U5M68 ['B00BLCVD9I', 'B00IX2VGFA', 'B00HG1L334', 'B00EDCF0MY', 'B00HL7Z46K']\n",
      "A2IFKH3TJ10387 ['B000N99BBC', 'B005FE7URM', 'B002K9IHGI', 'B00D68ZVY8', 'B00834SJNA']\n",
      "A3N0P5AAMP6XD2 ['B002V8C3W2', 'B005QVY2YS', 'B000NQ16NG', 'B00C28L6EW', 'B007QXLIWI']\n",
      "A3V7D0LH8L7BG0 ['B00BOHNYU6', 'B00DR6DQZA', 'B00BOHNYTW', 'B000EXS1BS', 'B00829THO6']\n",
      "A3R1WFO4KIUQXZ ['B002V88HFE', 'B005EOWBKE', 'B002LE8D2A', 'B002LF2PQO', 'B000BKJZ9Q']\n",
      "A1F1A0QQP2XVH5 ['B000HPV3RW', 'B003HFCDLY', 'B004Q3R9AQ', 'B00AJHDZSI', 'B000H4CLXS']\n",
      "A3W4D8XOGLWUN5 ['B000M17AVO', 'B00BOHNYTW', 'B007WTAJTO', 'B00829THEG', 'B0007Y798U']\n",
      "AM3XNQU9TZBD8 ['B002TLTE6O', 'B00JC5Y6WM', 'B00DR6DQZA', 'B00871SR68', 'B008HO9DK4']\n",
      "A1A306IAZ3TM1 ['B0014IYZDK', 'B000LY4FLA', 'B001FBL2SW', 'B00065XSP8']\n",
      "A25QJBK33C4O0R ['B00CKAOJA0', 'B00BOHNYU6', 'B008C1JC4O', 'B00D96BMV8', 'B00B3PDH5G']\n",
      "A2Z1R98M2XOCEJ ['B009SYZ8OC', 'B00FG38L16', 'B00IQBSW28', 'B00067LYFW', 'B005ELBSWO']\n",
      "A26BDXG9KVH7SU ['B002K9IHGI', 'B00HFRWWAM', 'B0050JS1QG', 'B00483WRZ6', 'B000652M6Y']\n",
      "A368IPE6EW0GZL ['B002ZIMEMW', 'B000P1R9QM', 'B00028VKLI', 'B008H6HFZM', 'B006FKFZB8']\n",
      "A2KYRPDKVBI2R4 ['B0013FRNKG', 'B000N99BBC', 'B007WTAJTO', 'B000UHQVOW', 'B003ES5ZUU']\n",
      "A3QUDXLOJTKEP9 ['B002V88HFE', 'B00BOHNYTW', 'B005L38VPC', 'B001H0GI9Y', 'B00B7E1D7W']\n",
      "APG2BHOAXPNEQ ['B002UOR17Y', 'B008AST7R6', 'B003VAGXWK', 'B002KO5XVU', 'B00466X9SY']\n",
      "ANRS196NKFVUU ['B004QGXOOI', 'B003T5KXJQ', 'B002HKHLDK', 'B002KO5XVU', 'B008EKON56']\n",
      "A19X4BF861LQST ['B000MX48VM', 'B000BQ7GW8', 'B0029PQFT4', 'B000ZSUQ9M', 'B000OSZA44']\n",
      "A17Z0LVY96TO53 ['B002YTDE5I', 'B004HO58SO', 'B00894YP00', 'B00EH5UGR6', 'B001JHXOTW']\n",
      "A1QVFHPY8418HC ['B001OOZ1X2', 'B000RZQZM0', 'B00009EHJV', 'B0082E9K7U', 'B00077AA5Q']\n",
      "AJX9A4Q19UTJU ['B008EQZ25K', 'B00IVFDZBC', 'B008EQYRRY', 'B000N99BBC', 'B00829TIEK']\n",
      "AUCIFMWP3DU8R ['B00CB2F65O', 'B002SIMPXM', 'B007JCNOQO', 'B009UEAZ84', 'B00GDDV40I']\n",
      "A11OTLEDSW8ZXD ['B002WE4HE2', 'B00BW6KCTU', 'B0082E9K7U', 'B0064P5I1G', 'B001FA09WI']\n",
      "A3U41ZL33SS92P ['B003VANO7C', 'B002V88HFE', 'B00AJHDZSI', 'B009F7IBZK', 'B004RDWVUS']\n",
      "A1FLJCHN5CG5M5 ['B000QUUFRW', 'B005IMFX2K', 'B0000BZL0G', 'B001ENW61I', 'B009PBUK9Q']\n",
      "A3T7V207KRDE2O ['B004VM1T5S', 'B000NVR9SM', 'B005FYNSPK', 'B002JCSV8A', 'B002MCZJ78']\n",
      "AZMY6E8B52L2T ['B00DTZYHX4', 'B001MSU1FS', 'B000VX6XL6', 'B00E3FHXYO', 'B004SD26Z2']\n",
      "A3IJ4Z18FTIIP ['B0036Q7MV0', 'B009NB8WR0', 'B00CAAJDP6', 'B004G8QO8E', 'B001BTWQDS']\n",
      "A3OYO7B6SS7QLH ['B000BQ7GW8', 'B0074FGLUM', 'B000L9OIQC', 'B007FH1FZ0', 'B0056TYRMW']\n",
      "A3M7BCQKSQAK4L ['B00HVT27B8', 'B004CLYEDC', 'B007GMPZ9Q', 'B00D1GYNT4', 'B00DIOALPE']\n",
      "AVPNQUVZWMDSX ['B001TH7GSW', 'B00834SJSK', 'B000UZCR56', 'B00829TIEK', 'B001TOD7ME']\n",
      "A1ZU55TM45Y2R8 ['B0017H4G0A', 'B00DB3SH2G', 'B00006B81E', 'B004D2AZ06', 'B003LVZO92']\n",
      "A1U5IJHJK84S54 ['B002WE6D44', 'B003NR57BY', 'B001F51G16', 'B00006I5J7', 'B000LVIC58']\n",
      "ATZJNEXX7LWD3 ['B002V8C3W2', 'B006W8U2MU', 'B005DSPLCQ', 'B00829THEG', 'B000652M6Y']\n",
      "A1H4IVXNXWWBLV ['B0052SCU8U', 'B0058UUR6E', 'B005IHAIC0', 'B003NRHAH8', 'B002VPE1WK']\n",
      "A23E9QQHJLNGUI ['B000EOMXM0', 'B00BP5KOPA', 'B009F7IBZK', 'B00894YP00', 'B0013FSKSA']\n",
      "A1OA2ZW406NQXM ['B002TLTE6O', 'B001P05NBA', 'B005X64MN2', 'B007PJ4P4G', 'B00009U0XI']\n",
      "A1DTCJV6KOMJOA ['B0090A8TWW', 'B009A6CZ30', 'B006WHPQE0', 'B00FFJ0HUE', 'B006WHPQCC']\n",
      "ARX0KOX5Q01BJ ['B001UI2FPE', 'B004RORMF6', 'B0012X43P2', 'B00483WRZ6', 'B005UBNLFK']\n",
      "A27H0T39U3FZB5 ['B003L1ZYZ6', 'B00829TIA4', 'B00DR6DQZA', 'B008YDTRZ4', 'B00475K64E']\n",
      "A4WEZJOIZIV4U ['B00CKAOJA0', 'B009NB8WR0', 'B00EO302SO', 'B000MX48VM', 'B004CLYEFK']\n",
      "AH3LF9RAD1O2V ['B00834SJSK', 'B001CCAISE', 'B00160MV8W', 'B00007E7JU', 'B0049XGNKK']\n",
      "AGXMC3ITWZASE ['B002JCSV5I', 'B0002XQDSS', 'B005O9YMM4', 'B00004SQET', 'B004BFXBXI']\n",
      "A23NSKTMSPPBTR ['B00BQ4F9ZA', 'B000M17AVO', 'B00HG1L334', 'B004CLYEFK', 'B00B9KOCYA']\n",
      "A3NKRH3TJ4DPVI ['B003ES5ZUU', 'B000067RVL', 'B001C271MA', 'B000LRMS66', 'B003WGJYCY']\n",
      "A1KD8NJPZ01R37 ['B0014YGAN2', 'B0002F3G7M', 'B003ZBZ64Q', 'B00001W0DI', 'B000AP05BO']\n",
      "A1FOSIV4TWZFR7 ['B00026BQJ6', 'B009ZGK6QS', 'B003VVYL46', 'B00A4V22G0', 'B002Q0W816']\n",
      "A2WDCAMKCCP1UR ['B002WE6D44', 'B003MTTJOY', 'B005CLMJLU', 'B00D7NZLK6', 'B005HNHRA6']\n",
      "AHIK7BUXFRMT8 ['B0074FGLUM', 'B002K9IHGI', 'B000AM3U2I', 'B00109Y2DQ', 'B000E8OVNK']\n",
      "AOTZOHB2LZGYR ['B002FB684E', 'B003PJ6QVU', 'B0036Q7MV0', 'B009O7YUF6', 'B00746YHV6']\n",
      "A1HBI9BBQIG1NH ['B001U0O5QE', 'B001B11GTQ', 'B004NY9UUK', 'B00ATM1MHO', 'B0016BVKAQ']\n",
      "A2PREU4LOFQRB1 ['B000N99BBC', 'B005CT56F8', 'B00DR9V1T0', 'B0077E48A0', 'B004UHY8SO']\n",
      "A2WLNSZ9U0T1S3 ['B001L1H0SC', 'B000VX6XL6', 'B001HSOFI2', 'B0012Y2LLE', 'B001FN3ZRQ']\n",
      "A2FZQF0MH29VYN ['B002WE6D44', 'B002V88HFE', 'B004C9P9TM', 'B003WV5DJC', 'B0016LFN2C']\n",
      "AO8NH0BV82XIE ['B00426C57O', 'B005DQG5SC', 'B003N12TSY', 'B002FB684E', 'B000AYKUUQ']\n",
      "A3HPCRD9RX351S ['B0029N3U8K', 'B005HQ50SO', 'B007OY5V68', 'B00330O2U8', 'B005TN0NIW']\n",
      "A324X7RVDAV3FT ['B004Y1AYAC', 'B000IF51UQ', 'B003Y322RO', 'B000ZNRBK4', 'B000ZMCILW']\n",
      "A2B7BUH8834Y6M ['B004JZI78O', 'B003XIJ3MW', 'B002NEGTTW', 'B005L38VPC', 'B003FHNDF4']\n",
      "A3TPNC3TKGCCEI ['B00FRMAOIO', 'B005FE7URM', 'B00BWF5U0M', 'B0042FZ50O', 'B003M0NURK']\n",
      "A1S27P7KJO9I96 ['B009A6CZ30', 'B00486MH80', 'B00171V6BS', 'B0002A0206', 'B004444O5U']\n",
      "A30J7WQV0ZNRXG ['B007PJ4P4G', 'B008OHNZI0', 'B00003G1RG', 'B000F3H9UG', 'B00ISIG690']\n",
      "A3PD8JD9L4WEII ['B004CLYE8C', 'B009USAJCC', 'B002VPE1X4', 'B006ZT4VA0', 'B0082E9K7U']\n",
      "AI2AOCTC8BQVZ ['B007WTAJTO', 'B001342KM8', 'B000CKVOOY', 'B0051DRODW', 'B003DZ6PQ2']\n",
      "A2KOV8XWZOZ0FQ ['B009YC3EAI', 'B003ES5ZUU', 'B007P71IM0', 'B0031RG29M', 'B001IEZX3G']\n",
      "A3LDPF5FMB782Z ['B000QUUFRW', 'B002V88HFE', 'B001SER48S', 'B0035JD0DW', 'B001QFZMBU']\n",
      "A2DF62DP20RIXF ['B001F51G16', 'B0013ITQA8', 'B009Z7KMUM', 'B000MQK6BK', 'B00000J1TX']\n",
      "A215IN14OKAE2T ['B0002D6QJO', 'B004HKAIBA', 'B00B588HY2', 'B0017JY5FE', 'B001LYUG3A']\n",
      "A17O9AHKHK66AI ['B005OFFH5Y', 'B008TCUXLW', 'B00DZTVST0', 'B004QGXOOI', 'B000MCGF1O']\n",
      "A2S26YGSVXBCFL ['B001FA1NZK', 'B00B3PDHBU', 'B002TLTE7I', 'B008X9ZBVI', 'B00BPHH8MA']\n",
      "A1O229NVVDJUX2 ['B002NEGTTW', 'B00834SJSK', 'B001TH7GSW', 'B006W8U2MU', 'B005IMFX2K']\n",
      "A195EZSQDW3E21 ['B003ES5ZUU', 'B0035FZJHQ', 'B006K553LU', 'B005IY2OD4', 'B00EH5UGR6']\n",
      "A35W3JQYP0M655 ['B00G4V0QSK', 'B001MXLD4G', 'B00E362W9O', 'B00EPCN9O8', 'B003UE52ME']\n",
      "A35A2RWUMC737N ['B005GI2VMG', 'B003MTTJOY', 'B004JISIE4', 'B001ENI3C4', 'B000Q8UAWY']\n",
      "ATDE9JYCPI0L1 ['B00029U1DK', 'B000ETY3LO', 'B000VQ3R44', 'B001NTDGQC']\n",
      "A3F3B6HY9RJI04 ['B004ELA0SS', 'B002DUCMQU', 'B004CLYEDC', 'B000068O34', 'B000TKHGL2']\n",
      "A1NQFT941TOTT7 ['B000QUUFRW', 'B002WE4HE2', 'B009NB8WRU', 'B0064I1NQ2', 'B00198DM2K']\n",
      "A2XRMQA6PJ5ZJ8 ['B0000BZL1P', 'B004GF8TIK', 'B007R5YDYA', 'B000BY52NK', 'B00L3YHF6O']\n",
      "A2J7FHZFKOKGZ6 ['B000Q8UAWY', 'B0016XMY4K', 'B002XGDU9M', 'B009DCNP9O', 'B001D8AGA2']\n",
      "A1143YEAZYMYHJ ['B00BQ4F9ZA', 'B000N99BBC', 'B00FG38L16', 'B000M17AVO', 'B000066JQU']\n",
      "A1522TN5FVJL0Y ['B0034CL2ZI', 'B003W9B4H4', 'B00004VX3T', 'B0000658CH']\n",
      "ALDAF4VVLFRHP ['B004CLYEDC', 'B004CLYEFK', 'B003Q5J4NU', 'B0047S5VQY', 'B000BTCJNG']\n",
      "A3R4794K2RVU1S ['B004HHICKC', 'B00006B7HB', 'B005UBNKWO', 'B001F7AJKI', 'B005CT56F8']\n",
      "A2SH7OWE8QJYNC ['B000089GN3', 'B00858I4F2', 'B001C9KW88', 'B002CWZ29S', 'B001LYPIIS']\n",
      "A2Y29IRSI08F0I ['B0089E5R0W', 'B0045KGZOG', 'B000EH6GKM', 'B004ZGN6MY', 'B002CA19W4']\n",
      "A3S3R88HA0HZG3 ['B005NGQWL2', 'B000JMJWV2', 'B0062EUE54', 'B005FDXZJU', 'B001TUYTZM']\n",
      "A32HSNCNPRUMTR ['B0041RSPRS', 'B002HWRJBM', 'B001UGMTKC', 'B0019EQ1RW', 'B002LM0U2S']\n",
      "A2SNE4QQGVP13U ['B000N99BBC', 'B009O7YUF6', 'B001E1Y5O6', 'B00DSUTVK4', 'B00461E7JE']\n",
      "A26KXNN6H1IL0I ['B008OEHPKM', 'B004Q3R9AQ', 'B001F50UHM', 'B0016D1I0G', 'B000BN94F8']\n",
      "A2BYV7S1QP2YIG ['B0002WPREU', 'B00B7E1D7W', 'B003ZUIHY8', 'B008RDI0TU', 'B003WUBIZQ']\n",
      "A2ZY3S7SD3QO8Z ['B00E0HITQ6', 'B00GO4GMAI', 'B00829THK0', 'B0088CJT4U', 'B003ZQYVVK']\n",
      "A20VG5W98SX99L ['B001OOZ1X2', 'B00834SJSK', 'B009PK9S90', 'B00834SJNA', 'B001AGM2VI']\n",
      "A2V5M5EJPOD2IU ['B00E0HITQ6', 'B00D5Q75RC', 'B000QZ0036', 'B003XIJ3MW', 'B000MTDWD6']\n",
      "A1QOK9LU90ACF7 ['B005E8MVV4', 'B0002L5R78', 'B000MX48VM', 'B000VJRUKS', 'B000F7QRTG']\n",
      "AMZCZBK1EF1PV ['B003S5SOLG', 'B004CLYEDC', 'B000I04WWY', 'B00CD778LC', 'B002KS5CQW']\n",
      "A2F7CSE6KT7NI4 ['B004ELA0SS', 'B004CLYEDC', 'B001FVI91U', 'B00HHRP11C', 'B00AQUO5RI']\n",
      "A1ZCSSCAGBCD49 ['B006EKIQYM', 'B004CLYEDC', 'B003LR7ME6', 'B002MPPHKY', 'B009SYZ8OC']\n",
      "A2L4W1M5YU5QX3 ['B0012Y2LLE', 'B001TH7GUU', 'B005FYNSPK', 'B000Q8UAWY', 'B00CM0XHNS']\n",
      "A21GW4L8FO307V ['B0088PUEPK', 'B004S4R5CK', 'B000CRFOMK', 'B000I20AJ6', 'B0036E8V08']\n",
      "A3J2YU2D9BH2J7 ['B0052SCU8U', 'B001TH7GUA', 'B004SBBD8U', 'B0006I1TRY', 'B005LS2FS6']\n",
      "A1T7EHCMZ92TKC ['B001ENOZY4', 'B004GUT1QO', 'B008PQAFR4', 'B002DW99H8', 'B00429N160']\n",
      "A2RU4U1JZ3DMP5 ['B005LFT3GG', 'B00017LSPI', 'B00483WRZ6', 'B002NU5UW8', 'B002JCSV8A']\n",
      "A21KNRUAA5RK5E ['B002MZUNXU', 'B00DQKQ7U8', 'B002IJA1EG', 'B0036R9YA6', 'B005PQ1V20']\n",
      "A11I1I9QLMAM1A ['B0034CL2ZI', 'B00D5Q75RC', 'B001CIREXA', 'B00GMTN96U', 'B002EUCU3O']\n",
      "A1E55W6ES0FY17 ['B00007GQLS', 'B001HBHLEY', 'B0014DURIW', 'B000RQSGYO', 'B0010YWPZ8']\n",
      "A2HRHF83I3NDGT ['B000M2TAN4', 'B0044XTJ10', 'B007WTAJTO', 'B001F7AJKI', 'B005LJQMCK']\n",
      "A2AFTRU43PY9P5 ['B0046TJG1U', 'B001TH7GSW', 'B0093F4ROI', 'B006VFQ74G', 'B00D7YUSO4']\n",
      "A2GOHNFBHUU3UI ['B00AEKEA48', 'B000HGIWN4', 'B000KJQ1DG', 'B001F8SCRE', 'B000EON3WY']\n",
      "AWJWCKB92RJX2 ['B000U5TUWE', 'B002EVP85K', 'B000BP8AY2', 'B004I55670', 'B000A5T7AO']\n",
      "A209G57KXCBF4C ['B00COHALOM', 'B0007M610Y', 'B00385XYU2', 'B00CJKW4WQ', 'B00EEBS9O0']\n",
      "A2Y4H3PXB07WQI ['B003ES5ZUU', 'B000CRFOMK', 'B003X26VV4', 'B005CT56F8', 'B009FUF6DM']\n",
      "A11YOTONCPRQ9S ['B007WTAJTO', 'B005FYNSPK', 'B000VX6XL6', 'B000233WJ6', 'B000UHQVOW']\n",
      "A2E1EFNIZL2FVA ['B00834SJSK', 'B006ZBWV0K', 'B003UT6C9G', 'B00BWL33H8', 'B00JC5Y6YA']\n",
      "A1P0JSFW184ZXJ ['B003ELOSIW', 'B008C1JC4O', 'B0034CL2ZI', 'B00EMHVVNM', 'B008X9ZBVI']\n",
      "A1SB9BNNGKNX2Z ['B000HPV3RW', 'B00017LSPI', 'B005VO7LG6', 'B005E8MVV4', 'B000CKVOOY']\n",
      "AT28RL25Q2OLK ['B0000BZL1P', 'B00IX2VGFA', 'B00005NIMJ', 'B004XC6GJ0', 'B000KZ70JE']\n",
      "A200DY76VXVGP9 ['B003LVZO8S', 'B002V88HFE', 'B004GF8TIK', 'B00005125T', 'B0052SCU8U']\n",
      "AZ515FFZ7I2P7 ['B00DR6DQZA', 'B003LSTD38', 'B00829THEG', 'B006JINHYS', 'B007BZRXK2']\n",
      "AYP0YPLSP9ISM ['B000F7QRTG', 'B005QWY3PU', 'B00BEW8MVC', 'B008X6C4I4', 'B005JXAEGS']\n",
      "A2PSD2R9A1CXG7 ['B001TUYTZM', 'B005JW6WQU', 'B0012Y2LLE', 'B000AZ57M6', 'B002MCZJ78']\n",
      "A7QMQBGJ2TCQG ['B00015GYU4', 'B001BTCSI6', 'B000EOSHGQ', 'B000CSQJ8C', 'B000VDF5RO']\n",
      "A1T1YSCDW0PD25 ['B000ODN7VM', 'B005ES0YYA', 'B00IX2VGFA', 'B002WE6D44', 'B001E1Y5O6']\n",
      "A1JZFGZEZVWQPY ['B007I5JT4S', 'B002S53LJ2', 'B006ZBWV0K', 'B00DB9WCR6', 'B001A5FH9S']\n",
      "A32LX4XJ2LU740 ['B005KFONIU', 'B00006B9CR', 'B000OTF6G0', 'B002J9HBIO', 'B004HHICKC']\n",
      "A2A4X545ERLS7H ['B0052SCU8U', 'B00081A2KY', 'B008LTBITY', 'B0040QE97A', 'B004R0RQ8S']\n",
      "A2NXRD80LWHUOP ['B007I5JT4S', 'B003ZUXXVU', 'B001XHBNN2', 'B005HMKKH4', 'B00B99JU5M']\n",
      "A2L36AGL8CKY3D ['B002WE6D44', 'B0083XTQ42', 'B000233WJ6', 'B004Q81CKY', 'B0062HIQLU']\n",
      "A2XPK6XCL0UH1S ['B000L7INLU', 'B000EMU4HS', 'B005EIGUD4', 'B002EEP3MK', 'B002AEU3EW']\n",
      "A1YVO5V1SO18DZ ['B00HWMPRKM', 'B009NHWVIA', 'B00CB2F65O', 'B00HSQAIQU', 'B00CD8ADKO']\n",
      "A3A4ZAIBQWKOZS ['B006EKIQYM', 'B005IMFX2K', 'B007BXD66E', 'B005H3Q57M', 'B00HZWJGS8']\n",
      "ASFP250F22MDZ ['B003XIJ3MW', 'B000PNGM18', 'B001KJ91V4', 'B002HWRJBM', 'B00902SFC4']\n",
      "A2OOLI2WFY4L2 ['B003ES5ZUU', 'B004YLAYHA', 'B0016RNX2I', 'B002ROHZ50', 'B0044EOQO4']\n",
      "A3EFSLEMHNPP6A ['B001TH7GSW', 'B003VAM32E', 'B001XUQPB4', 'B002DW99H8', 'B0041G5XFQ']\n",
      "A20DDH4NT6Q1E8 ['B00BW6KCTU', 'B001OOZ1X2', 'B00FR6VL50', 'B007ZZ6OW6', 'B004HHICKC']\n",
      "AI0BCEWRE04G0 ['B0002RBQO0', 'B0012MMW7E', 'B00E87OITK', 'B000L47AHG', 'B0013LQD7Y']\n",
      "AMO1MLSIJSQOF ['B00390JT1O', 'B000FJUMWC', 'B004XNLR16', 'B00CRJWW2G', 'B002VR6A9K']\n",
      "AMUP8DYE7EAN2 ['B000N99BBC', 'B00829TIA4', 'B001DJ64D4', 'B000Q82PIQ', 'B0009K9FZW']\n",
      "AENULRBQ2IE5I ['B005QI5DZI', 'B004XC6GJ0', 'B003BLQHN4', 'B003I4FD9I', 'B001G04VJO']\n",
      "A3G5MOHY1U635N ['B00081NX5U', 'B004G6002M', 'B00005T3G0', 'B004HIN7SI', 'B00007FWP2']\n",
      "ACY9QYNDFLVBI ['B003ZSHNGS', 'B007SZ0E1K', 'B003MTTJOY', 'B00829THK0', 'B003ELVLKU']\n",
      "ANEXFROORI6F6 ['B0010Z294O', 'B0016SN49Y', 'B000P1QJXQ', 'B0029F21LA', 'B001Q2FM5E']\n",
      "A1ZA5SXZS8Z3CK ['B003S68Q0Y', 'B007Q45EF4', 'B007PJVB3Y', 'B007QWIA52', 'B006M1MW1Q']\n",
      "A30R8VFR16RE32 ['B0019EHU8G', 'B003ES5ZUU', 'B00HNJWSH4', 'B002KKZFJO', 'B00829THVO']\n",
      "AFR9GYKAHM37U ['B000S5Q9CA', 'B005J7YA4G', 'B0002EQU6C', 'B000KO0GY6', 'B0038OMEQI']\n",
      "A8P6GIIQ6YQV8 ['B00609B3J2', 'B000AAN76Y', 'B001MSU1HG', 'B005EJH6RW', 'B008ORT9OY']\n",
      "A2PJH18W4XHTZW ['B003L1ZYZ6', 'B000M2TAN4', 'B002WE6D44', 'B0009K9FZW', 'B001423GZO']\n",
      "A2ZY49IDE6TY5I ['B008ULPA2O', 'B003B3N258', 'B004RDWVUS', 'B000I6F0T2', 'B00746YZS6']\n",
      "AGOH8N902URMW ['B000N99BBC', 'B001DJ64C0', 'B005DIQ2OC', 'B005JW6WQU', 'B006TAP096']\n",
      "A2VCXIAWCPQ13P ['B001MSU1FS', 'B004G6002M', 'B0010Z28XG', 'B000LRMS66', 'B000L9635G']\n",
      "A2CIQEY05SPHTZ ['B002V88HFE', 'B001QTXL82', 'B002LEVGMO', 'B000O8WE66', 'B001DQKHX0']\n",
      "A2N75ADJSRW0AH ['B000VUIXOO', 'B001KELVS0', 'B005EJH6Z4', 'B00CDS9HTM', 'B001RB24PK']\n",
      "A1VHCO8RQFIGQJ ['B00007GQLU', '9983891212', 'B003SQEAY0', 'B007I5JT4S', 'B002LTWDSK']\n",
      "A5A4374R8I7NB ['B004LNXO28', 'B001ELK2NY', 'B0055OPXZ8', 'B00494XZ1Y', 'B004YPK5ZW']\n",
      "A39137LW12KK7B ['B003ES5ZUU', 'B004G6002M', 'B00829THO6', 'B000VZCEUI', 'B002VPE1Q6']\n",
      "A3IRA0BHI9NE9U ['B0036Q7MV0', 'B003VAHYNC', 'B000067SG2', 'B000P910OG', 'B005PYD2RE']\n",
      "A14I1F2H7NOYDC ['B003L1ZYZ6', 'B00029U1DK', 'B001KB6Z2U', 'B000K4V4X8', 'B000VKCIJU']\n",
      "A3QDY9I0CNMD2W ['B001TH7GUU', 'B0009PAVI2', 'B001SJVU24', 'B007Q5JMQA', 'B000VIQ6AO']\n",
      "A2V2URLB31HG59 ['B009YQ8BTI', 'B002TLTE6Y', 'B007PJ4P4G', 'B00COEBCXY', 'B007X3VC7W']\n",
      "A1Z4GII5CHCDG7 ['B006QB1RPY', 'B000E6G9RI', 'B005CT56F8', 'B004QQY2JO', 'B00267S7XW']\n",
      "A3S5WYWYKSAI9C ['B00B99JU5M', 'B007KZQM9G', 'B0002SQ2P2', 'B006WHPQD6', 'B000EMWBT2']\n",
      "AG6TX1ZJHLMO7 ['B00C20KWP4', 'B00EHZYWGM', 'B0015VW3BM', 'B00004TWM6', 'B000FJJASO']\n",
      "A6VPK7X53QNAQ ['B004XZHY34', 'B0013FRNKG', 'B003WKOENO', 'B001HSOFI2', 'B000EMWBT2']\n",
      "A1GW7V6S6XSXX3 ['B000IF51UQ', 'B00HFRWWAM', 'B00546JKJC', 'B004VM0SE6', 'B00834SJSK']\n",
      "A1KDUQ2HU0WD68 ['B005KAK2FI', 'B00IVFDZBC', 'B00DR6DQZA', 'B002VPE1WK', 'B00B3PDHBU']\n",
      "A2503LT8PZIHAD ['B003XIJ3MW', 'B0079UAT0A', 'B00DQZQHBW', 'B008MF3X9K', 'B004OVECUA']\n",
      "A3V15SFD7918WZ ['B006JINHYS', 'B005C95NCY', 'B001T9NX9Q', 'B00275XTSQ', 'B00EN27TCI']\n",
      "A1QRST0A3IQIEF ['B004Q81CKY', 'B007R67FNA', 'B000HKDA0U', 'B004G8QO5M', 'B00372X8UC']\n",
      "A32O5FZH994CNY ['B003L1ZYZ6', 'B000B6D39I', 'B00829TIEK', 'B0040IO1RQ', 'B004YKXGIK']\n",
      "A149RNR5RH19YY ['B001OOZ1X2', 'B000089GN3', 'B001F51G16', 'B000MK4GGM', 'B00005NBR6']\n",
      "A3RGHO0Q938FRS ['B0000B006W', 'B000N99BBC', 'B00EOI2SR2', 'B002HWRJY4', 'B009E6J1BU']\n",
      "A3AGQAXTX6VRJ3 ['B0007QKMQY', 'B0019EHU8G', 'B000N99BBC', 'B001KUL012', 'B0007WK8LC']\n",
      "A2X06FP2PQ6EK0 ['B006W8U2MU', 'B003ES5ZUU', 'B004LSNF04', 'B000VE2RP6', 'B004G8QO8E']\n",
      "A27H61OHW44XA7 ['B001TH7GSW', 'B004J3V90Y', 'B004Q3R9AQ', 'B000H0IF2S', 'B000MF4N42']\n",
      "ABDR6IJ93HFIO ['B000N4Z4JK', 'B003NSBLOK', 'B004G8QO5C', 'B002WE4HE2', 'B003XKWLSS']\n",
      "AJL3U764D7NI3 ['B005ES0YYA', 'B007SZ0E1K', 'B000UO6C5S', 'B003LPUWT0', 'B000CKVOOY']\n",
      "AT09WGFUM934H ['B007WTAJTO', 'B008EQYRRY', 'B005H3Q57M', 'B0036WTDHK', 'B009L7E838']\n",
      "AGR1V15L6FLMA ['B009OBCAW2', 'B005DKZTMG', 'B004S4R5CK', 'B003WOL4VK', 'B002RM08RE']\n",
      "A2CWIYIETNBAK3 ['B00BOHNYTW', 'B00834SJSK', 'B00FZ9SMVU', 'B00829THEG', 'B002J9HCV0']\n",
      "A2UCDLO7V7DG6 ['B00009R9EO', 'B001O4EPHA', 'B003Y322RO', 'B000T93UR2', 'B001JD3R7U']\n",
      "A3LPL35P7FH78Y ['B000Q8UAWY', 'B009WA115M', 'B003FVJYF8', 'B006W8U2MU', 'B002WE4HE2']\n",
      "A30XZK10EZN9V4 ['B000QUUFRW', 'B003L1ZYZ6', 'B004Q3R9AQ', 'B005L38VPC', 'B004AGX4YO']\n",
      "AHF4I1FSIHABC ['B002NEGTTW', 'B00006I53W', 'B00009XVCZ', 'B0002Y5WZM', 'B002FRLEIS']\n",
      "AO2EURP2Y4JZM ['B0034CL2ZI', 'B001CIREXA', 'B000LB7G00', 'B00829TIEK', 'B002SZEOLG']\n",
      "A3EWJX7W1X7E79 ['B003NE5K50', 'B002QDQ67A', 'B003CJTQJC', 'B0002E51CQ', 'B005X64MN2']\n",
      "A3GX0FAMEXV6FB ['B000QUUFRW', 'B00267S7XW', 'B005DLDTAE', 'B005S0XYKK', 'B0064FS7HI']\n",
      "A1NGFGBX2VCQS8 ['B008HO9DIG', 'B000F28DP2', 'B004W2JKWG', 'B009YQ8BTI', 'B0062XB9FE']\n",
      "A3D5B2CBFNJB0K ['B009YT6PPC', 'B007PTCFFW', 'B009WA115M', 'B00FRMAOIO', 'B00B59NO5S']\n",
      "AOEDWQLH2WKKW ['B00BQ4F9ZA', 'B005ES0YYA', 'B004C9M7UG', 'B00HFRWWAM', 'B00007E7JU']\n",
      "A2WB7LZ595CR50 ['B00429N18S', 'B001TH7GUU', 'B001OI2Z4Q', 'B001TH7T2U', 'B001B8EOMU']\n",
      "A2MOJANFPX353G ['B009USAJCC', 'B0035FZJHQ', 'B000VZCEUI', 'B0011E324K', 'B0093HMKVI']\n",
      "A3SU7JSTPH9CC9 ['B0034WR71G', 'B003ZTKFEE', 'B002ZIVKAE', 'B003TLSXMO', 'B003TM600U']\n",
      "AVBLGXSWRN666 ['B005JN9310', 'B000F7QRTG', 'B0013FRNKG', 'B001N9X4CS', 'B00EO96W2I']\n",
      "AA3FTJYJYX55C ['B003FVVMS0', 'B005CT56F8', 'B0060B7NCG', 'B0031ESKJA', 'B0041OYS36']\n",
      "A379DLIAF0MFM5 ['B000N99BBC', 'B001TH7GSW', 'B001OOZ1X2', 'B000EMWBT2', 'B001SJVU24']\n",
      "A3J8A5L5AF5TX9 ['B000OGX5AM', 'B000JMJWV2', 'B00001P4ZH', 'B0012MMW7E', 'B0009Y7APU']\n",
      "A1HYH206E18XVC ['B00EO96W2I', 'B00FZ9SJLS', 'B002M3SOC4', 'B000VJWJW2', 'B001I45BQK']\n",
      "A2FRKEXDXDN1KI ['B008EQZ25K', 'B000RZQZM0', 'B00FAYL1YU', 'B000VZS2EU', 'B0002Y5WZC']\n",
      "A3V0YR50F1XSKP ['B005LIDU5S', 'B0088PUEPK', 'B000OGX5AM', 'B0002VAQR4', 'B00BWF5U0M']\n",
      "A1F7YU6O5RU432 ['B001AW8W7A', 'B00G4UQ6U8', 'B004GF8TIK', 'B002IO2UM2', 'B0044YPN0A']\n",
      "A2NB2E5DXE319Z ['B0000BZL1P', 'B0052SCU8U', 'B007R5YDYA', 'B005ES0YYA', 'B009LRR5AQ']\n",
      "A17W0GMB0YY83M ['B0076NA716', 'B001CIREXA', 'B007C861WO', 'B0098OCKDE', 'B0007LJHVK']\n",
      "AS269J1OGZT1V ['B0011U65F2', 'B002YU83YO', 'B008K24BKU', 'B003NUNKU6', 'B0056TYRMW']\n",
      "A2CWUM49ZWMGEY ['B0059H60SK', 'B00DJAAFVW', 'B000050AUJ', 'B009A6PJKQ', 'B0040G5KY6']\n",
      "AGGAQLXPVGM5D ['B000VR3P9K', 'B001A4LVYY', 'B000SQYZE8', 'B0014S5FVQ', 'B00006L4FX']\n",
      "A2AEZQ3DGBBLPR ['B00006JU62', 'B0000VYJRY', 'B000085BD7', 'B00004Y2MM', 'B005MZU0R6']\n",
      "A3VBZDYGHF4NK8 ['B002MCZJ78', 'B0018P0S1M', 'B001BO7R00', 'B00AXVXXNC', 'B000XNR6RY']\n",
      "A37IRE9GZ0CZ7I ['B003ES5ZUU', 'B005I6EVUG', 'B003LSTD38', 'B000067RC4', 'B000JE7GPY']\n",
      "ADZF3QDGSZE7K ['B001TH7GSW', 'B0076W9Q5A', 'B005CT56F8', 'B0093HGD2K', 'B007STXESQ']\n",
      "A3J029KBNG5MNP ['B00D5Q75RC', 'B00D429Y12', 'B0034CL2ZI', 'B009YT6PPC', 'B00829THK0']\n",
      "AT8V3JOZD3KWK ['B002WE6D44', 'B004Y1AYAC', 'B00889ST2G', 'B00768SBAU', 'B001144JQU']\n",
      "A2ARDVMUGDFED6 ['B002TMRZOQ', 'B000KZ70JE', 'B001M4HXB2', 'B001FWBUUG', 'B000652M6Y']\n",
      "A28N2AWOVO2PB ['B009YT6PPC', 'B000O8WE66', 'B0090IA4FO', 'B007FPIQ0E', 'B000V9T2JA']\n",
      "A110VKXAVLAYKY ['B004G6002M', 'B003WPTBAK', 'B002ZIMEMW', 'B002OV1VJW', 'B00009VQJ7']\n",
      "A213J54E63SYOP ['B001MSU1FS', 'B002V88HFE', 'B0088PUEPK', 'B000CRFOMK', 'B0068LACFI']\n",
      "A18A5VSD0IPN14 ['B003VSTDFG', 'B00426C57O', 'B008ZGKWQI', 'B0049SCB2Y', 'B000YB862E']\n",
      "A3JUHP1E3WUHEA ['B003ES5ZUU', 'B002K9IHGI', 'B004CLYEDC', 'B004BLK24S', 'B00IAKLM54']\n",
      "A1VQHH85U7PX0 ['B00IVFDZBC', 'B000NP3DJW', 'B003CJTQJC', 'B007PJ4PKK', 'B0000BZL5A']\n",
      "A1Z3598J0371ND ['B0019EHU8G', 'B000WXSO76', 'B005JE3VYY', 'B004IEALDK', 'B00EZ2E8KC']\n",
      "A3QRW0UJPKIAX7 ['B007KZQM8W', 'B0019M6GP6', 'B0093H4VBU', 'B002LF2PQO', 'B009WG6JF8']\n",
      "A1MCH5RXDOH87H ['B008EQZ25K', 'B00006B7HB', 'B00CK4OZGO', 'B003ES5ZSW', 'B001D60LG8']\n",
      "A2XCCN239AR1XK ['B001TH7GSW', 'B007KZQM9G', 'B004CLYEFK', 'B008LTBITY', 'B003L76BJS']\n",
      "A2ZGDHLJ85T6AD ['B0034CL2ZI', 'B001TH7GVE', 'B00EU9V3S0', 'B0058SRNZ4', 'B009VV56TY']\n",
      "A2IFGGXG3YV3Y6 ['B003ES5ZUU', 'B0035FZJHQ', 'B00D5Q75RC', 'B00004RC2D', 'B009B0MZ8U']\n",
      "A1ZPUEHF4AES86 ['B005ES0YYA', 'B0019EHU8G', 'B0015YJOK2', 'B00746LVOM', 'B003RG13FK']\n",
      "A1G3DKT38DNZJP ['B001TH7GUU', 'B00004YZLX', 'B004ABQAFO', 'B002SZEOLG']\n",
      "A1EH2S92FHWZRP ['B003ES5ZUU', 'B000PO3CTM', 'B00000J4FS', 'B004BLIQDC', 'B000M2GYF6']\n",
      "A1EVV74UQYVKRY ['B006ZT4VA0', 'B00E3FHXYO', 'B000EVSLRO', 'B00G4V0QSK', 'B00FSA8VQ2']\n"
     ]
    },
    {
     "name": "stdout",
     "output_type": "stream",
     "text": [
      "A1DQHS7MOVYYYA ['B000PCX780', 'B000VJRUKS', 'B00387EW1K', 'B000EXS1BS', 'B0058SRNZ4']\n",
      "A2LF07KCXDR70D ['B0002Z240M', 'B00548SKMI', 'B00BCGRRWA', 'B00CH643A8', 'B00BAVZRHO']\n",
      "A3MU9G6YWKTGTA ['B000092TT0', 'B003UE52ME', 'B003N12TSY', 'B001UADEPC', 'B005HMKKH4']\n",
      "A1F0KPA232MTYC ['B001QUA6RA', 'B0002LEMWE', 'B00829TIEK', 'B00005TQKQ', 'B001EZRJZE']\n",
      "A1V4VVBQBFXRHC ['B003SGCO3E', 'B000KO0GY6', 'B0027CTQC2', 'B00APCMMDG', 'B0011NVMO8']\n",
      "A8FKL1DHTHC12 ['B002NO7PWC', 'B0062EUE54', 'B000V5P90K', 'B003XIJ3MW', 'B004LTEUDO']\n",
      "A34VRVI4CSI5RQ ['B00D429Y12', 'B00IRRDHUI', 'B00CE590Z0', 'B006VJT1K4', 'B009AU2JT6']\n",
      "A2YW6XOID7GV6G ['B002WE6D44', 'B0017KH6OU', 'B003Z4TPPO', 'B0058FAYPI', 'B000M3LSOM']\n",
      "ANTGGAQYPSWHF ['B004Q3R9AQ', 'B006EKIQYM', 'B00006JLOT', 'B004J3V7RO', 'B002E4UWWQ']\n",
      "AGVWTYW0ULXHT ['B00BOHNYU6', 'B00829TIA4', 'B005FDXZJU', 'B004I5FL1G', 'B00HFRWWAM']\n",
      "A2LW5AL0KQ9P1M ['B00EOE4G4E', 'B008MF3X9K', 'B00DQZQCUI', 'B008X9ZBVI', 'B008X9Z8NE']\n",
      "A16J281SJ9QXIQ ['B007KEZMX4', 'B00FNPD1VW', 'B003XIJ3MW', 'B000O8I474', 'B009W8EWOG']\n",
      "AHR86ZEYETLJI ['B006W8U2MU', 'B004LVMCMS', 'B006DKEQL0', 'B0073HSH8U', 'B0090T8ESM']\n",
      "A2UOHALGF2X77Q ['B001Q3MA80', 'B005DIQ2OC', 'B00B588HY2', 'B002WE6D44', 'B002V88HFE']\n",
      "AFNG8O2DXRCUV ['B000M17AVO', 'B001TH7GUU', 'B007WTAJTO', 'B00CKK8GEU', 'B000AOTLP6']\n",
      "A2YEZ8Z3BW2SKG ['B00017LSPI', 'B004CLYEFK', 'B000AOTLP6', 'B00JP12170', 'B003ES5ZSW']\n",
      "A3A15L96IYUO6V ['B005L38VPC', 'B004XZHY34', 'B001DJ64C0', 'B00001P4XA', 'B000KBG51W']\n",
      "A8WEXFRWX1ZHH ['B00006B9CR', 'B009APBY0G', 'B0096YOQRY', 'B000E5E6KG', 'B000HNJ96Q']\n",
      "A2LLSFQO8O8XNW ['B00429N18S', 'B000083KIH', 'B002Z2QDNE', 'B0033BU0F8', 'B0036WT4JW']\n",
      "A32QOZWIKQDNZX ['B003ES5ZUU', 'B0000C8817', 'B0000CEOYI', 'B0012QCYNM', 'B000MANFIC']\n",
      "A3EZEP0FX5BC1P ['B00005LEN4', 'B0051G5SBY', 'B00FJRS5BA', 'B00030DEQE', 'B001T9CTRS']\n",
      "AK3GKIV8DEY8B ['B0009Y7APU', 'B000NBBWNU', 'B00B3YSTI2', 'B001CCLBSU', 'B00009R6JT']\n",
      "A2TVJ0YDW3QO63 ['B004CLYE8C', 'B004GUT1QO', 'B00829TIEK', 'B00858I4F2', 'B00005S8KM']\n",
      "A23R3EOZ837242 ['B0034CL2ZI', 'B0052SCU8U', 'B00EN27TCI', 'B003CJTQJW', 'B0049SCB2Y']\n",
      "A361U4SXK7FCQE ['B00BOHNYU6', 'B005KFONIU', 'B002TLTE7I', 'B00D1GYNT4', 'B000B9RI14']\n",
      "A11EYMH9UV9XG7 ['B000N99BBC', 'B000165AOY', 'B00093IIRA', 'B005DIPWFC', 'B005EM6IAA']\n",
      "A2L9OPJAAEK08Q ['B000089GN3', 'B0016MF7W2', 'B007PJ4P4G', 'B000ZJZ7OA', 'B002OB4BK8']\n",
      "AC1YLEFC9AN5X ['B0034CL2ZI', 'B005HSDLCO', 'B007K3SB6K', 'B004G8QO8E', 'B001TOD7ME']\n",
      "A3M82NO6OU1FHS ['B006W8U2MU', 'B0018QNYSK', 'B003BQ91Y6', 'B00366KE3I', 'B0093HKFYW']\n",
      "A2WCFDOCS73PNB ['B00BOHNYTW', 'B006EKIQYM', 'B001EYV9TM', 'B0034CL2ZI', 'B007KZQM8W']\n",
      "A1M7HP5CHDXXOU ['B00426C57O', 'B00D429Y12', 'B008OEHPKM', 'B001EZRJZE', 'B008LTBITY']\n",
      "A3963R7EPE3A7E ['B001BM5XB2', 'B00D5Q75RC', 'B000HPV3RW', 'B0042FZ50O', 'B000UN8MKM']\n",
      "A2LEIANN1UZTHP ['B004Q3R9AQ', 'B0017K6BD2', 'B000067SG2', 'B00212NO6W', 'B00E055H5O']\n",
      "A16RI68PS6T5CA ['B000N99BBC', 'B0099SMFVQ', 'B001DJ64D4', 'B00CI3BIWQ', 'B0042FZ50O']\n",
      "A5KMMY627T3W ['B000MP831G', 'B00006I53X', 'B003ZSHNGS', 'B00FF8ZRR8', 'B009SYZ8OC']\n",
      "AEL6CQNQXONBX ['B0040723AO', 'B000JO7PIM', 'B002VPE1X4', 'B0034XRDU0', 'B000OV85NE']\n",
      "A24HWYHR28JJ7A ['B000V5P90K', 'B0036AWR8E', 'B00004XOM3', 'B004S4R5CK', 'B002YTDE5I']\n",
      "A2V0I904FH7ABY ['B003L1ZYZ6', 'B001TZWNF0', 'B001DJ64D4', 'B001TH7GSW', 'B009YQ8BTI']\n",
      "A3SMD3T0QTN109 ['B001UI2FPE', 'B006EKIQYM', 'B002TLTE6O', 'B003FBQKZ0', 'B0012Y2LLE']\n",
      "AW6J9IILGOZY3 ['B0089E5R0W', 'B009F7IBZK', 'B003NR57BY', 'B00884WH74', 'B00DTPYQBM']\n",
      "AEJAGHLC675A7 ['B0045TYDNC', 'B004Q3R9AQ', 'B003ZKG10K', 'B004CLYEDC', 'B000UXDHOI']\n",
      "A1GYEGLX3P2Y7P ['B002K9IHGI', 'B00JC5Y6WM', 'B000VX6XL6', 'B004CLYEDC', 'B000Q74102']\n",
      "A2LTYEYGKBYXRR ['B008YRG5JQ', 'B00ISGCAJM', 'B00J5174TU', 'B00H7PBWK8', 'B00K4VQZCM']\n",
      "A38V76R24EJSHA ['B00713DPM4', 'B000WH6H1M', 'B0089WLYQ0', 'B007MW13PA', 'B00HQZGZ38']\n",
      "ABE5E8B3J7MKY ['B0019EHU8G', 'B003UI62AG', 'B000QUUFRW', 'B00006B81E', 'B00AXWOLO6']\n",
      "A23WPWLYT3P1CZ ['B002UVNW5W', 'B008OHNZI0', 'B002MCZJ78', 'B001F7AJKI', 'B005FYCFG8']\n",
      "A25FL6VLD7S23S ['B00005B6UF', 'B00180LGX6', 'B00D429Y12', 'B004BLK24S', 'B0011UIXLG']\n",
      "A233TZONT1OGR0 ['B0001XGQTA', 'B000OG88KY', 'B0002MQGOA', 'B00005T3G0', 'B003P2V52M']\n",
      "AQ2FC1DLKVD8H ['B002WE4HE2', 'B00006RVPW', 'B00JF0D7RE', 'B0002J2TLC', 'B00EH5UGR6']\n",
      "A2QNS95WGN35G9 ['B003WUBIZQ', 'B000JLK5PK', 'B0036WT4EW', 'B0013FLTNS', 'B002J9HCV0']\n",
      "A2FWZ58M6IQMD7 ['B007R5YDYA', 'B000N99BBC', 'B00FW6T36Y', 'B004XC6GJ0', 'B000VVVMQY']\n",
      "A1R377IPZOKLMM ['B002K9IHGI', 'B00007IFED', 'B008HK3QII', 'B003WJ218U', 'B003XDU2Y0']\n",
      "A1IG1I6MR3HAWA ['B00316263Y', 'B002HWRJY4', 'B000U5TUWE', 'B0001VQEYY', 'B001QUA6R0']\n",
      "AUITG1DJ3QUGK ['B0058UUR6E', 'B003LPTAYI', 'B003N12TSY', 'B004HO59M4', 'B00ATE7SZM']\n",
      "A2NLI1M5K2MQ5E ['B00AAIPT76', 'B00FRHTSMW', 'B003WGNSTE', 'B00142VMMS', 'B003XCDA9A']\n",
      "A6VXZ1EEPRTLV ['B000UHQVOW', 'B00CIZ2238', 'B0011ZCDKS', 'B002VFFA5M', 'B0015AE4CE']\n",
      "A1CM4HI4S5P0WO ['B000RHZJN4', 'B003FO4UHW', 'B000069EUW', 'B003VAGXZC', 'B00066Z9XG']\n",
      "A28LUOEY0ECT9G ['B003CKC8W8', 'B000KE48CM', 'B006W494ZA', 'B009724NGO', 'B009A4B5VA']\n",
      "AL9WKVMRI6GFB ['B003ES5ZUU', 'B001NS828K', 'B00CKAOJA0', 'B00G4UQ6U8', 'B00FPKDPZC']\n",
      "A3NHUQ33CFH3VM ['B0034CL2ZI', 'B00BOHNYU6', 'B000JE7GPY', 'B009YQ8BTI', 'B006ZH0KVG']\n",
      "A1C47ROOK7BSVL ['B001VFUN82', 'B0041UJVI2', 'B005Q5TP5U', 'B00454YCWY', 'B007RFW1NA']\n",
      "A3LDLV1GWQJLEQ ['B00BOHNYTW', 'B00DT04I9W', 'B00346I5LI', 'B00829TIEK', 'B002PAX9QU']\n",
      "A23ONMGKEWDG4M ['B000EXRSVM', 'B0002SQ2P2', 'B00009USW3', 'B0015EMZU8', 'B005BI5WMW']\n",
      "A186697K4XKXQL ['B0052SCU8U', 'B002LF2PQO', 'B001S4OTS6', 'B0042X8NT6', 'B007PTCFFW']\n",
      "AQR4HPVSOPS08 ['B003L1ZYZ6', 'B005FYNSPK', 'B003FVVMS0', 'B000V1LX40', 'B000068O34']\n",
      "AQIJ3ZEEVCIKU ['B003CFATT2', 'B002JQNXZC', 'B005J31BCO', 'B00FZ9SMVU', 'B004CLYEDC']\n",
      "A5CDMTW6JKV5G ['B0019EHU8G', 'B00BOHNYTW', 'B001UEBN42', 'B00829TIA4', 'B0019HGTLC']\n",
      "A3P1508PZ0UADD ['B00170MYIS', 'B000I1ZWRC', 'B0015VW3BM', 'B005HY4U46', 'B000KIDBO4']\n",
      "A1B4MIXYVIKMU2 ['B00BOHNYTW', 'B00829TIEK', 'B00CD8ADKO', 'B003N2POXK', 'B00829THK0']\n",
      "A11FX8HL2ANK6T ['B00D6XW62I', 'B003ES5ZUU', 'B001F7AHOG', 'B003VAHYTG', 'B005CLPP8E']\n",
      "A4IEUHNRFZO0 ['B003FVVMS0', 'B003ZUIHY8', 'B0074024XU', 'B0031GK3OI', 'B0084OIY0M']\n",
      "AN81JUYW2SL24 ['B003ES5ZUU', 'B004CLYEDC', 'B000S5Q9CA', 'B000EVSLRO', 'B005HEUUEA']\n",
      "ANW6EGY12V5XS ['B002PAX9QU', 'B00IVPU7DG', 'B004QVPGXK', 'B00AU0HMGA', 'B003VGUGBS']\n",
      "A3KZEGBTPH6MMF ['B00DR6DQZA', 'B004N627KS', 'B0015AFOR8', 'B000FBK3QK', 'B00ESLEAFI']\n",
      "A31N0XY2UTB25C ['B000Q85WRC', 'B007NZGPAY', 'B008AST7R6', 'B000M2TAN4', 'B001E1Y5O6']\n",
      "A3F7F7QKQP2FKT ['B001CBFTFM', 'B0060GEZ0E', 'B000SMVQK8', 'B006U5W49O', 'B000EYRLXQ']\n",
      "A1OMXVXXP07F05 ['B0046TJG1U', 'B0002LEMWE', 'B0079UAT0A', 'B002RWJHBM', 'B004Q3R9AQ']\n",
      "A1DO9LRCO23EOM ['B001T9NUJE', 'B00006HSML', 'B00DR9V1T0', 'B00134VVKU', 'B000K2NWLC']\n",
      "A2XU6J41ZQOJ2V ['B003M2YT96', 'B00007E7JU', 'B000F0ELOG', 'B001F7AJKI', 'B006YP41I2']\n",
      "AFICF7DKHTQ87 ['B009YQ8BTI', 'B0018ZDGAC', 'B0002ILKWM', 'B000WY8JRU', 'B0076AYNXM']\n",
      "A3EZFFPVS34AMO ['B001XURPR2', 'B001KELVS0', 'B004TS2AP2', 'B005A0B3FG', 'B000EW9Y4M']\n",
      "A1B6O7SAIYG2N0 ['B008PQAFR4', 'B00829TIEK', 'B002TLTE6O', 'B008RF7I5K', 'B0046HAO40']\n",
      "A1F9Z42CFF9IAY ['B001TH7GSW', 'B00001WRSJ', 'B000M17AVO', 'B002EEP3MK', 'B00DB9WCR6']\n",
      "A124WZCUIH2T7W ['B003RRFWRY', 'B001C6IWME', 'B0002L5R78', 'B000PTF66Y', 'B001TP6TDW']\n",
      "A1G5MI2KREPEIB ['B003NR57BY', 'B000JE7GPY', 'B00212NO6W', 'B00E055H5O', 'B00006HSML']\n",
      "A2BCDZO1XQLDH ['B005X9Y0YU', 'B000VDF5RO', 'B000GABCY2', 'B0018ZDGAC', 'B000RHZJN4']\n",
      "A2GKMXRLI7KLFP ['B002SQ9ZX2', 'B00426C56U', 'B001DVZXC0', 'B001U3S5S0', 'B0033TJPJW']\n",
      "A2J3VCGBNDLAKF ['B000QUUFRW', 'B007RZB3KM', 'B009SKPVO8', 'B0041MY32Y', 'B00009XVA3']\n",
      "A10ZBR6O8S8OCY ['B00E87E1OM', 'B00834SJSK', 'B00FISD9DO', 'B0015AARJI', 'B004CLYEH8']\n",
      "AEWYUPCNDV7HY ['B004CLYEDC', 'B0006I1TRY', 'B0009YDP7W', 'B001TZUS98', 'B002MCZJ78']\n",
      "A23QII83UGZP5U ['B0034CL2ZI', 'B005L38QLQ', 'B008O515CK', 'B006ZOI9OY', 'B0073K64NM']\n",
      "A2QI2JHSIQ3SN3 ['B0019EHU8G', 'B006U3O566', 'B005SZ66XM', 'B002XN3OL4', 'B001F6YRNO']\n",
      "AFH97KY1SBP2C ['B001U3ZH7W', 'B0025T1HM4', 'B001LQSFKY', 'B007B31IAK', 'B005058B56']\n",
      "A2NVQZ4Y7Y0J1R ['B002VPE21A', 'B0039BPG1U', 'B000O8WE66', 'B000EMWBV0', 'B0001AU6H6']\n",
      "A335QXPTV1RIV1 ['B0051WAM1O', 'B002EEP3MK', 'B005CWHZP4', 'B005OA3BSY', 'B000Y6GUI6']\n",
      "A328GLDSDNFYII ['B0015AARJI', 'B005K7192G', 'B002OOWC3S', 'B002RM08RE', 'B002ZCXJZE']\n",
      "A2WW57XX2UVLM6 ['B0045TYDNC', 'B002G1YPH0', 'B0007GIXS8', 'B001DJ64CA', 'B001JEPBTQ']\n",
      "AT53ZTTO707MB ['B004I5FL1G', 'B00GJYJFKM', 'B00JF0D7RE', 'B0082E9K7U', 'B007OY5V68']\n",
      "AHQRU3MRORIWQ ['B00CB2F65O', 'B00BBAFWQA', 'B000W2Z5M4', 'B0017HF3XO', 'B0095P2F1S']\n",
      "A22CW0ZHY3NJH8 ['B000JMJWV2', 'B00483WRZ6', 'B00BERGFV6', 'B00FR6VL50', 'B000QWEN5K']\n",
      "A1HSM98KUGTHNY ['B000RZQZM0', 'B000JLKIHA', 'B007VGGFZU', 'B00102ZOQC', 'B003B20JDW']\n",
      "A203OCQQ12MAVT ['B0013LQD7Y', 'B000068O16', 'B000083KIH', 'B000S5Q9CA', 'B0002GRUJ6']\n",
      "A2D1LPEUCTNT8X ['B0010Y414Q', 'B003OBUJIK', 'B002Y6CJJ8', 'B004M8ST36', 'B000SMVQK8']\n",
      "AMKNPIDFLRFMP ['B001U3ZH7W', 'B00E3W15P0', 'B00004SB92', 'B004CADY9I', 'B0036WT3RU']\n",
      "A1AH8033GWKBY7 ['B000BTL0OA', 'B00FNPD1VW', 'B009MAKWC0', 'B00E98O7GC', 'B00192VWVY']\n",
      "A3GVXKCTFN3YDN ['B00834SJSK', 'B00HFRWWAM', 'B006JINHYS', 'B00BOHNYTW', 'B00829TIA4']\n",
      "A357B3PUHSVQA ['B00834SJSK', 'B00077AA5Q', 'B005HEUUEA', 'B009F7IBZK', 'B0031RGKVC']\n",
      "ATS2855497V0I ['B0010Y414Q', 'B000N99BBC', 'B007I5JT4S', 'B003XIJ3MW', 'B004GUT1QO']\n",
      "A377LPVLLAI42D ['B0001G6U5W', 'B0002XQJFA', 'B0002YE6G8', 'B000JLP5UK', 'B000B622CW']\n",
      "A194Y47BF3CUTJ ['B0031RFVJ4', 'B001E1Y5O6', 'B000KU5CN0', 'B001EM9JXC', 'B0012R9WHW']\n",
      "A3MQ15651KGVLJ ['B007PTCFFW', 'B004CLYEFK', 'B0079UAT0A', 'B0009MX5R4', 'B007YXA5TC']\n",
      "A1MZL91Z44RN06 ['B00834SJSK', 'B00006HSYC', 'B00E87E1OM', 'B009NHWVIA', 'B002WE6D44']\n",
      "AL1XV4L25FZ2S ['B000N99BBC', 'B001QUA6R0', 'B002Y6CJJ8', 'B004RO9L4Q', 'B0002D03ZW']\n",
      "A1FDV3WPOHREY9 ['B005IMFX2K', 'B000P1O73A', 'B000NHZSHK', 'B0019I1K0G', 'B0030UL7IG']\n",
      "A2BLFCOPSMBOZ9 ['B006LW0W5Y', 'B003ES5ZQE', 'B00IKCQ0EK', 'B00BLCVD9I', 'B00GNGCX6O']\n",
      "A3AVJCB1ZD6ZY5 ['B00D1GYNT4', 'B00GHY5F3K', 'B00BQHD4B8', 'B006MRAVFE', 'B000CSP8IO']\n",
      "A2YEOR4XJ8N3QE ['B003O1UYHG', 'B002JQNXZC', 'B008C1JC4O', 'B0066636AS', 'B00871SR68']\n",
      "A12R3YGEHW7D8G ['B007WTAJTO', 'B004GYVPGE', 'B00489SLEQ', 'B0099SMFVQ', 'B0099SMFP2']\n",
      "AU3GYRAKBUAEU ['B009CP99GK', 'B005HSG446', 'B0036VO67I', 'B006LP0FXA', 'B0056C4VRK']\n",
      "A8CKH8XB33XGN ['B001TH7GUU', 'B001QUA6RA', 'B002V8C3W2', 'B000ID7QNI', 'B006EKIQYM']\n",
      "A1L5TA5UQF7EWE ['B007PTCFFW', 'B00CKK8GEU', 'B00A9NE84C', 'B005CG2ATQ', 'B00CSIOLXY']\n",
      "A2J8DE8R94ZB02 ['B008EQZ25K', 'B00IVPU786', 'B003VAHYNC', 'B00DUTIZJG', 'B002OOWC42']\n",
      "A1UQBFCERIP7VJ ['B00GO4GMAI', 'B004CLYEFK', 'B004CLYEH8', 'B00GMTN96U', 'B003ZBZ64Q']\n",
      "A2C8I2RQ0WG940 ['B000VDCTCI', 'B003S68Q0Y', 'B0037MH5W4', 'B00144KS6W', 'B007CS9WYI']\n",
      "A33775AIB1A664 ['B000N99BBC', 'B000V1PB2K', 'B002QEBMAK', 'B0041OUA38', 'B009YGGKXC']\n",
      "A1NMM0RDRF6R84 ['B00007IFED', 'B0040JHVC2', 'B002KETE24', 'B008RPGP9K', 'B00F6S0XGW']\n",
      "A1VVRA3P6G1TWH ['B000EXRSVM', 'B000I1ZWRC', 'B000PNGM18', 'B0018ZDGAC', 'B000Y16TY6']\n",
      "A3KZ7OH4VRL048 ['B004CLYE8C', 'B008PQAFR4', 'B0034CL2ZI', 'B0015DYMVO', 'B000A2BLEC']\n",
      "ACHTDPEQYSEQL ['B000V5P90K', 'B0021AFZOI', 'B00D429Y12', 'B000NVX7EC', 'B004065DAC']\n",
      "A3F8T3BRXRX5P3 ['B001UI2FPE', 'B000Q82PIQ', 'B000M17AVO', 'B001PS9E5I', 'B005DVJJWQ']\n",
      "A1PN2U0AWXGVML ['B000JMJWV2', 'B004Q0PT3I', 'B000V5P90K', 'B000ENPDSW', 'B0021AFZOI']\n",
      "A3K91X9X2ARDOK ['B00B3PDHBU', 'B0015AARJI', 'B006LW0W5Y', 'B000F34FVM', 'B00G6IJ5NI']\n",
      "AEAFHD09X8044 ['B004VM1T5S', 'B000IJY8DS', 'B0017H4G0A', 'B001L1H0SC', 'B0031U1AT6']\n",
      "A3S0EHEIR52HP1 ['B0061RJSWC', 'B007PRHNHO', 'B001H9O73O', 'B003VAGXZC', 'B002F9NSMQ']\n",
      "AWNJAY0M5UI70 ['B000S5Q9CA', 'B002RCNX8K', 'B0036Q7MV0', 'B001TH7GUU', 'B008R6OPJQ']\n",
      "A141R97FHSSUQ0 ['B000FFISV8', 'B004ZMV2GA', 'B003M0NURK', 'B001HZUPD4', 'B000Z80ICM']\n",
      "A2ZWJVKITA32OV ['B004XC6GJ0', 'B003CJTQJC', 'B002RL875A', 'B00752R9SM', 'B002OGMNT4']\n",
      "A31RULW0KNYJ5H ['B004QK5N5W', 'B002VPE1XE', 'B0025VKUQQ', 'B0040723AE', 'B004YW7WCY']\n",
      "A1E3OB6QMBKRYZ ['B0072XQI2W', 'B001I45T9O', 'B00DT04I9W', 'B001FA1NZU', 'B00BPHH8MA']\n",
      "A2J0IBS4PFRO2C ['B002TMRZOQ', 'B000AO3L84', 'B004CLYJ0K', 'B000JV9NL2', 'B000A3WS84']\n",
      "A3CW0ZLUO5X2B1 ['B003ES5ZUU', 'B003OBUJIK', 'B006LW0W5Y', 'B00L3YHF6O', 'B000WH6H1M']\n",
      "A21S26XYPGXJZX ['B00EO302SO', 'B001TOD7ME', 'B001XURPQI', 'B005IHAIC0', 'B002GP7ZT6']\n",
      "A11KZ906QD08C5 ['B000NP3DJW', 'B00IVFDZBC', 'B001TZWNF0', 'B000JV9LUK', 'B000JMJWV2']\n",
      "A32NEDX6UVV8DE ['B003FVVMS0', 'B000092TT0', 'B000LRMS66', 'B000ONZTMW', 'B004CQGAYS']\n",
      "A3BVN2QBNPBHCR ['B009NHWVIA', 'B000VE2RP6', 'B003ELOSIW', 'B001W26TKU', 'B000WXSO76']\n",
      "A1BVE2ZIBKJ7YI ['B00889ST2G', 'B001PIBE8I', 'B00426C57O', 'B006I0KL6Y', 'B000YEMKGY']\n",
      "A1ZPY91VE3IDN1 ['B00834SJNA', 'B000NLLXVQ', 'B000H84LBE', 'B0097CZHAU', 'B002C1BHIO']\n",
      "A3LQUEB84IR3VO ['B0046TJG1U', 'B001UEBN42', 'B0015DYMVO', 'B000UHE8Y2', 'B000E312X2']\n",
      "A3SQCTNYQFVBWM ['B007WTAJTO', 'B00585CLSQ', 'B00006JPWW', 'B001IBMLKM', 'B00291F4RM']\n",
      "A1H7Y5XKPGT0OS ['B00EOE4G4E', 'B003M0NURK', 'B002VPE1YS', 'B00A81ICCE', 'B00008L3IS']\n",
      "A2BX8DDQGCCG2J ['B00746W3HG', 'B003GIJTR8', 'B003TFDUJ6', 'B004UR16ES', 'B0014JFXSK']\n",
      "A3HH340REI4J47 ['B000BQ7GW8', 'B004BBC2RS', 'B004XFYGNK', 'B005AZ7B4S', 'B005ZUTAUG']\n",
      "A105S56ODHGJEK ['B00IVFDZBC', 'B002TLTE6Y', 'B001NTFATI', 'B001CBFTFM', 'B0015HYPOO']\n",
      "A2IMLOJ2Z2QEU2 ['B004CLYEFK', 'B00CYX26BC', 'B004JMZPK0', 'B00125MHVM', 'B0036V9AGU']\n",
      "AROQO2VDODT7 ['B0000BZL1P', 'B001F51G16', 'B00007B4DM', 'B00009R6WU', 'B004J3Y9U6']\n",
      "A15CL28ALB7MTZ ['B0052SCU8U', 'B008ALA6DW', 'B000JMJWV2', 'B00HFRWWAM', 'B00007EDZG']\n",
      "ABXANRX4GPYRZ ['B00746W3HG', 'B000I6P1I2', 'B005I6EU48', 'B003XIJ566', 'B000W8SSXQ']\n",
      "A2R1HUYHXV7H18 ['B004CLYEFK', 'B0079UAT0A', 'B006JH8T3S', 'B002ZIN9DU', 'B00HSQAIQU']\n",
      "A30X750M8V1XXW ['B0000BZL1P', 'B001TUYTZM', 'B005KAK2FI', 'B0002VAQR4', 'B002CWZ29S']\n",
      "A1MNN0ZMHYPJDU ['B00B588HY2', 'B004TPPWT6', 'B004BLIQEG', 'B008TT7CXW', 'B000ZD067Y']\n",
      "A2UTZ4O5E2W4DK ['B004W2JKWG', 'B007WTAJTO', 'B0010Z28XG', 'B000F28DP2', 'B001H8DF0G']\n",
      "A30C8WHQ2CYFO4 ['B001BTCSI6', 'B0033PRWSW', 'B000053HBB', 'B005IHAIEI', 'B0012GDOQS']\n",
      "ADKZOXAOV8EXD ['B002RCNX8K', 'B001CCLBSA', 'B002OOWC4C', 'B003YL412A', 'B003WO7MZC']\n",
      "A5Q1FK0FWU7DH ['B000LRMS66', 'B00005N6KG', 'B001KP3NZS', 'B001FA1O0E', 'B0015VW3NK']\n",
      "A2LXX47A0KMJVX ['B000VX6XL6', 'B00CSDMWGW', 'B00BERGFV6', 'B000L9OIQ2', 'B00834SJSK']\n",
      "A1W415JP5WEAJK ['B003GALRIA', 'B002VPE21A', 'B0082E9K7U', 'B00DTZYHX4', 'B003N12TSY']\n",
      "AVJORH3ACR2A5 ['B003ES5ZUU', 'B0019EHU8G', 'B000MX48VM', 'B00081A2KY', 'B004EDPYHI']\n",
      "AHNHLGKIZ2N3B ['B00BOHNYTW', 'B0043M668G', 'B0000DB4D1', 'B00AJHDZSI', 'B004XNLR16']\n",
      "APOGXH3A74CM3 ['B00BP5KOPA', 'B00829TIA4', 'B0002L5R78', 'B001TOD7ME', 'B002SFDJMQ']\n",
      "AQNSQW4495SG0 ['B00009XVCZ', 'B001M4HXB2', 'B00004XOM3', 'B00FNPD1VW', 'B005IQSSJG']\n",
      "A1NNMOD9H36Q8E ['B001TUYTZM', 'B00119T6NQ', 'B00007EDZG', 'B002K4512Q', 'B00006B9H8']\n",
      "A17UNMURMLX0ZE ['B009NHWVIA', 'B009YQ8BTI', 'B009YT6PPC', 'B00FR6VL50', 'B0079UAT0A']\n",
      "A3FS3FJPD3RJTD ['B004CLYEH8', 'B00009RDIF', 'B008X1BV2Y', 'B004MMEI6Y', 'B0035ERKYW']\n",
      "AJEOFP6ZWY0MK ['B00017LSPI', 'B00067LYFW', 'B0009MFTSW', 'B00603RTC8', 'B000JE7GPY']\n",
      "A3NYBI5VMVEEIK ['B004SUO068', 'B001TDL34Y', 'B005Q6MX7G', 'B0028AVGEO', 'B003EO1H7E']\n",
      "AU627A4UGIW6V ['B0058G40O8', 'B001G4NBSC', 'B00006I5J7', 'B009SGB3KI', 'B002T4I4US']\n",
      "AIBRTGBN07D6A ['B00COF7DGS', 'B003YTROIU', 'B001EPVOQY', 'B002VPE21A', 'B005Z451KK']\n",
      "AAR7CEPXYJA0T ['B003HIXOOG', 'B003ELOSIW', 'B003N7NMO8', 'B002QEBMAK', 'B0030MITDK']\n",
      "A2J96FILPQA01 ['B008C1JC4O', 'B004WQVTLC', 'B00DIFIM36', 'B003819S8S', 'B003B3P2BK']\n",
      "A2X8KN82L07RSK ['B004VM1T5S', 'B007PJ4P4G', 'B005PUZOYM', 'B00GO4GMAI', 'B000IMSK8Y']\n",
      "A3775OP5VTX5ON ['B000CRFOMK', 'B000JMJWV2', 'B001TH7GUU', 'B000WOIFO2', 'B003L76BJS']\n",
      "A3NG7X4APIV649 ['B0002VAQR4', 'B005IA843W', 'B00829TIA4', 'B000N99BBC', 'B00310PJM0']\n",
      "AZ8XSDMIX04VJ ['B000QUUFRW', 'B005FYNSPK', 'B0018MPQBM', 'B0047T79M2', 'B000096B01']\n",
      "A25WJCAP606YMP ['B0034CL2ZI', 'B009YT6PPC', 'B002DUCMQU', 'B000652M6Y', 'B000LRMR26']\n",
      "AFM7FK7NFEKFZ ['B003QHXZM4', 'B0000642RX', 'B008ZGKWQI', 'B000X1S3VO', 'B0000EI9VR']\n",
      "A2SKEQT0WTB954 ['B004Y1AYAC', 'B00008N6VM', 'B0013CDZDI', 'B002XZLURC', 'B000EGI7V4']\n",
      "A2PZXXPGLXXKZU ['B00E055H5O', 'B0013FRNKG', 'B005DLDO4U', 'B0054JJ0QW', 'B003VAHYTG']\n",
      "A3HXGSMCIOZEW8 ['B003ES5ZR8', 'B003OC6LWM', 'B003WV5DJC', 'B006Y44DAY', 'B007PA1K84']\n",
      "A3EP26M3QHINXT ['B00IVPU786', 'B00013J89K', 'B005SPQ8XK', 'B006DUDWXI', 'B005749HQC']\n",
      "ARC5ASW9CUAGP ['B00E3W15P0', 'B00483WRZ6', 'B000EVLS4C', 'B0099QUSGM', 'B005TQES58']\n",
      "AUK79PXTAOJP9 ['B001CIREXA', 'B007I5JT4S', 'B003GSCS3U', 'B00763WKZW', 'B008AJLPYS']\n",
      "A3HSDV9Y0TV5Z2 ['B001MSU1FS', 'B009OBCAW2', 'B001E1Y5O6', 'B001RCTA8I', 'B0011U65F2']\n",
      "AWSK1ZAEU1KFL ['B000067RT6', 'B007WTAJTO', 'B004JISIE4', 'B004T4FAZI', 'B0000C6E3P']\n",
      "A10PEXB6XAQ5XF ['B007R5YDYA', 'B00829TIA4', 'B00622AG6S', 'B0079UAT0A', 'B009X01C64']\n",
      "A14NA0W8ESGDSI ['B008WXKYX0', 'B000FOYMKU', 'B008EWNVI4', 'B004UKRRD4', 'B001VFUN82']\n",
      "A2JWF9IG8PJAOA ['B005TUQV0E', 'B00B4QESVQ', 'B004Q0PT3I', 'B005FVNGRI', 'B00698WP50']\n",
      "A1J75JJ0Q2OEJN ['B0034CL2ZI', 'B00DT04I9W', 'B002M3SOC4', 'B004CLYEH8', 'B0015L0T3G']\n",
      "A10AFVU66A79Y1 ['B0074FGLUM', 'B002Y6CJJ8', 'B00603RTC8', 'B009QV72VY', 'B001DEYVXO']\n",
      "A3DWO5RJDA430F ['B006W8U2MU', 'B000VX6XL6', 'B000L47AHG', 'B0011N17RU', 'B00F4A8FQM']\n",
      "A36K2N527TXXJN ['B002TMRZOQ', 'B00CHH0JF0', 'B00BOHNYTW', 'B00EDCF0MY', 'B00829TIEK']\n",
      "A21T0D2F7SKG5S ['B00007GQLS', 'B00006I53X', 'B00006HOAQ', 'B000FKQ8LA', 'B000AZ57M6']\n",
      "A3CG93783LP0FO ['B00G4V0QSK', 'B000JMJWV2', 'B001E1Y5O6', 'B002V88HFE', 'B004Q7J4W8']\n",
      "AW5JSQCHC2ZJO ['B000JMJWV2', 'B008MF3X9K', 'B00EOI2SYK', 'B001PUQ7PG', 'B00006JPWT']\n",
      "A3FOSLM5G1BO63 ['B00JC5Y6WM', 'B0034CL2ZI', 'B009NHWVIA', 'B0057UUB1G', 'B0094R4PBU']\n",
      "A1WG97A0EFHYXN ['B000Q85WRC', 'B005LIDU5S', 'B000097O5F', 'B001CHQ52W', 'B002YIG9AQ']\n",
      "A2RIXSMGE9VIBG ['B000UZCR56', 'B00D5T3QK4', 'B009NHAEXE', 'B0098QSTFK', 'B00429NVQA']\n",
      "A2HMF8ZR67BNZS ['B000MX48VM', 'B002TMRZOQ', 'B002WE4HE2', 'B00483WRZ6', 'B001TH7GUA']\n",
      "A376OJHLE6SU9Q ['B001342KM8', 'B004CLYEDC', 'B0043M668G', 'B002W3IXZW', 'B00HFRWWAM']\n",
      "A1BJOHHLG0D965 ['B00CKAOJA0', 'B001L1H0SC', 'B005FE7URM', 'B004CLYEDC', 'B001E1Y5O6']\n",
      "A253IOATGMT2UP ['B0000BZL1P', 'B007R5YDYA', 'B0015DYMVO', 'B000L47AHG', 'B000PTFDYO']\n",
      "A3S5EXYZDEBF3K ['B006EKIQYM', 'B004ELA0SS', 'B009YT6PPC', 'B00CKAOJA0', 'B003WUBIZQ']\n",
      "AE88D7OM7YU99 ['B00CKAOJA0', 'B000Q8UAWY', 'B007PTCFFW', 'B001S0PWWC', 'B002LEVGMO']\n",
      "A10ZFE6YE0UHW8 ['B000N99BBC', 'B003LVZO8S', 'B005GTNZUM', 'B000FVDD30', 'B001T9CTRS']\n",
      "A32AK8FOAZEPE2 ['B0038KLDPA', 'B001U3YIT0', 'B000NAXC6G', 'B0007LJHVA', 'B001XURP7W']\n",
      "A28P7V9KI7MXP ['B00AAIPT76', 'B002VPE1WK', 'B0058AH2US', 'B003U7SR0U', 'B000VZS2EU']\n",
      "A3NCIN6TNL0MGA ['B0002OZXGU', 'B000G6M91G', 'B005LS2GPI', 'B000MUXJCO', 'B001GS8G24']\n",
      "A1BT6TL7UCIC5Y ['B002TLTE6Y', 'B004CLYEFK', 'B00829TIEK', 'B002K9IHGI', 'B009SYZ8OC']\n",
      "A3CMO216CWOF5N ['B00006IS4X', 'B00006HOLO', 'B00008AYBF', 'B0007LOZH6', 'B001GS8G0Q']\n",
      "A2UQK3DAZ8NO2T ['B0009OAFI4', 'B000DZDTKU', 'B000HAOVC6', 'B000LXZKQK', 'B00007E7JU']\n",
      "A1MFPAM9TTRTXN ['B003WGJYCY', 'B0065DUJ0C', 'B00B4GGW5Q', 'B000O8I474', 'B005YXD4I8']\n",
      "A3SVYWA9O1KUQV ['B002M3SOCE', 'B00425S1H8', 'B0000CE1UO', 'B001CB0RSG', 'B0012JCZYM']\n",
      "A25KKXUQQ0OLWB ['B00829THVO', 'B004RO9L4Q', 'B008GGH5HQ', 'B0074BW614', 'B00605XASS']\n",
      "ACJT8MUC0LRF0 ['B00FSA8VQ2', 'B0036AWR8E', 'B008MF3X9K', 'B00HZWJGS8', 'B0057UUB1G']\n",
      "A3OZA8HNJM26DC ['B001TUYTZM', 'B00F3SOHNU', 'B00FJXVRM8', 'B0028R3NCU', 'B001QKI2DA']\n",
      "AY4EXFOO43C3S ['B004GF8TIK', 'B008ZGKWQI', 'B0058UUR6E', 'B00119T6NQ', 'B000I5KSNQ']\n",
      "A38KK0SZYEH5UD ['B00429N18S', 'B001BTG3OQ', 'B002IO2UM2', 'B001FWBUUG', 'B0038OMEQI']\n",
      "A3KCKECEO3E2AN ['B002FB684E', 'B003VAHYTG', 'B002MCZJ78', 'B007R8U5R6', 'B004GUT1QO']\n",
      "A3872Y2XH0YDX1 ['B007KEZMX4', 'B0028ACYMC', 'B000VWKSHM', 'B0036V9AGU', 'B00511PS3C']\n",
      "ABIVKBMSIPEDY ['B0034CL2ZI', 'B009LL9VDG', 'B0039VYN1Y', 'B0009HTB0Y', 'B004N625BO']\n",
      "A3QJU4FEN8PQSZ ['B001OI2YNS', 'B007GMPZ9Q', 'B00CD8ADKO', 'B00DUTIZJG', 'B00ER52ES0']\n",
      "A2YRX8J4WM5BRX ['B001TZWNF0', 'B005J2E2US', 'B005DKZTMG', 'B002JPITXY', 'B00CMMG7I8']\n",
      "A3SOJO7Z7R9WIA ['B002WE4HE2', 'B002QUZM0U', 'B00104XCVO', 'B0025EWXEU', 'B00HPMCNXI']\n",
      "A2SATO5BNKWY3Y ['B000M2TAN4', 'B000O5N5AI', 'B003FVVMS0', 'B000GU88CQ', 'B003Z4G3I6']\n",
      "A2PSC7LUNIDEAH ['B003VAK16O', 'B0089E5R0W', 'B00AQUO5RI', 'B001NJ0WCS', 'B00BWL33H8']\n",
      "A3E3EQ39FZTZEK ['B001TH7T2U', 'B005PQTYHE', 'B009YCASK2', 'B00I8Y6V9E', 'B004FJV8EE']\n",
      "A1ASWDAEDTTY5I ['B000EXS1BS', 'B001F7AJKI', 'B000MFG44Y', 'B00GWBBWOY', 'B0092THNDW']\n",
      "A3MMR2WDKAK0PA ['B001I45T9O', 'B006ZH0KVG', 'B005O81U9S', 'B002WN30IM', 'B003B20F5E']\n",
      "A2L42QEWR77PKZ ['B001QUA6RA', 'B0002D6QJO', 'B0041Q38NU', 'B0027IVMBY', 'B005540H5E']\n",
      "AT6CZDCP4TRGA ['B009NB8WR0', 'B002JQNXZC', 'B0000511U7', 'B00137NMMW', 'B000NB05MO']\n",
      "A3OA4DV4L81N1D ['B002WE4HE2', 'B002WE0QN8', 'B006JINHYS', 'B00862522A', 'B001CCAISE']\n",
      "A1C82BC5GNABOA ['B003L1ZYZ6', 'B000AZ57M6', 'B0013FRNKG', 'B00009XVCZ', 'B004LEAYXY']\n",
      "A2ZRMCRLDSUX6R ['B000N99BBC', 'B00829TIA4', 'B001GTT0VO', 'B000067RT6', 'B0032HM6JG']\n",
      "A1NJHKPHD4YWZV ['B0019CSVMW', 'B003QLE4M0', 'B004XNLR16', 'B00158OJ9O', 'B00863L2MS']\n",
      "A2I2KPNJDQ9SL0 ['B003ES5ZUU', 'B0000TSJVI', 'B002HJXGFS', 'B0035JL35O', 'B003IE49T8']\n",
      "A18S2VGUH9SCV5 ['B005DIQ2OC', 'B0001DBEM4', 'B005NGKR54', 'B001RNOHDU', 'B00511PS3C']\n",
      "A17V9XL4CWTQ6G ['B0099XGZXA', 'B0082E9K7U', 'B001ENOZY4', 'B0051BG48U', 'B00A81SXHI']\n",
      "A2Y739CRM15WDL ['B001T9NUJE', 'B000TKHGL2', 'B0016BVKAQ', 'B001HSOFI2', 'B009614ANM']\n",
      "A3VI2VETB90ZG5 ['B00IVFDZBC', 'B002YU83YO', 'B00JC5Y6WM', 'B003CFATT2', 'B002PWHOYG']\n",
      "A1PVX61PRPVX27 ['B000U0S304', 'B002FA5WE2', 'B00009RA60', 'B004SP0WAQ', 'B007TYUUPK']\n",
      "A2JRDFIGWTX50J ['B0002ZW5W4', 'B0009HGVZW', 'B0002JY6TK', 'B0002QWU3W', 'B000AY0IT4']\n",
      "A3G007LQX6KGOD ['B000O8WE66', 'B00834SJSK', 'B002MCZJ78', 'B00EOI2SR2', 'B00HRQB28Y']\n",
      "A37CEYB95LK6R6 ['B000CRFOMK', 'B00009XVCZ', 'B000067RT6', 'B0038FNIBW', 'B00429N18S']\n",
      "A21I62TCDL4754 ['B001S2RCWI', 'B000LRMS66', 'B00AWKC0EC', 'B003VVH8Y6', 'B00127VAW2']\n",
      "A3U029B8Z5WGI2 ['B004Q3R9AQ', 'B007KEZMX4', 'B000NDBRJC', 'B0092ML8QW', 'B004JMZPJQ']\n",
      "A2MOD50IHEDH3G ['B0019EHU8G', 'B002FB684E', 'B006ZH0KVG', 'B0028AD7BE', 'B0035FZJKI']\n",
      "A2AX2UGB167J31 ['B000N99BBC', 'B000EVSLRO', 'B004C9P9TM', 'B00CIY0KOM', 'B001D1UTC4']\n",
      "A15J9K7O10A3M6 ['B009WU5XUG', 'B00969J3EU', 'B004SBBD8U', 'B005IA843W', 'B003VTZFNE']\n",
      "A1VLE2SH9J8WYS ['B001MSU1FS', 'B005FYNSPK', 'B00009W3TY', 'B0012S4APK', 'B0018YHZHI']\n",
      "A1QOIHVQC5XWCJ ['B00126V8WU', 'B001TK89L2', 'B001TKE25E', 'B0015AE4CE', 'B002Y3139I']\n",
      "A1NRMTQ5SZPZA ['B005J31BCY', 'B00CDS9HTM', 'B004QHI3ZW', 'B008MWBY6W', 'B00139W0XM']\n",
      "A32482Z7XIKDQX ['B000S5Q9CA', 'B00009XVCZ', 'B00A9NE84C', 'B00GTGETFG', 'B009W34X5O']\n",
      "A1OH33MR6K4G5J ['B0025UHKNS', 'B000LTNIZE', 'B000X9O8SI', 'B000X3KOD2', 'B0074BW614']\n",
      "A11R5VW7IM6ISQ ['B001TH7GUU', 'B006QB1RPY', 'B002VPE1WK', 'B0041OSQ9I', 'B0001FTVE0']\n",
      "AYNAH993VDECT ['B00CD8ADKO', 'B004SBBD8U', 'B009LL9VDG', 'B002VJL0OS', 'B00F6E8OUS']\n",
      "A2TKWMX4563NR6 ['B000S5Q9CA', 'B006W8U2MU', 'B003LR7ME6', 'B009NHAEXE', 'B00A35WYBA']\n",
      "A2L90SGUP36KGA ['B00029U1DK', 'B004GF8TIK', 'B000L47AHG', 'B002ZIMEMW', 'B000I1X3W8']\n",
      "A1PM7HH4F77NEH ['B00080G0BK', 'B001E5CDSW', 'B00ESUOMFW', 'B004R7A9NU', 'B000A6NUU6']\n",
      "A20DZX38KRBIT8 ['B000J47W12', 'B00BGA9WK2', 'B000J43HJ8', 'B000QDBOCY', 'B0009WKBGC']\n",
      "A3D2VIUT2HWP0Z ['B000204SWE', 'B000SDW84K', 'B00834SJSK', 'B000UY1MB2', 'B001NJ3H0C']\n",
      "A1BBYSMT9YCODI ['B00IVPU786', 'B00A83I8G2', 'B001IBMLKM', 'B004SBBD1C', 'B00CF7E0R0']\n",
      "A3UW23DBF2KHWC ['B00BQHD4B8', 'B0082E9K7U', 'B0002JY712', 'B00F3F0EIU', 'B00008NG7N']\n",
      "A17BUUBOU0598B ['B000JMJWV2', 'B001DJ64D4', 'B004CLYEFK', 'B000VIHFZ4', 'B0013WNVU0']\n",
      "AC6Z7DP1Z5GHD ['B001E3XLZS', 'B002UVNW5W', 'B00007EDZG', 'B0041EL7JY', 'B003D5MZUW']\n",
      "AOQLV2LSI9B2W ['B001TZWNF0', 'B001F7AHOG', 'B002S3YL3Y', 'B004E10KFG', 'B003TFEHMU']\n",
      "A370XYLIZCSK1Y ['B00005T3G0', 'B001QUA6RA', 'B001MSU1FS', 'B000UHQVOW', 'B000IJY8DS']\n",
      "ABVYGB2TKBO8F ['B00BOHNYU6', 'B005OB2L7U', 'B002WE6D44', 'B000ASTKWQ', 'B000WIK61I']\n",
      "A1TQZUSOU22E9M ['B00HZWJGS8', 'B001OI2YNS', 'B00FPKDPZC', 'B0062XB9FE', 'B0031RG2JC']\n",
      "A1VFX417XDNWIU ['B002TLTE6O', 'B00B99JU5M', 'B001URY8CI', 'B0055QZ216', 'B007NSR0AK']\n",
      "AVTJEWTCJ3PBE ['B004YW7WCY', 'B002QC6RI4', 'B0002GRUV4', 'B0001GAMQK', 'B003L137Y6']\n",
      "A3E9O1VNJ3U324 ['B0019EHU8G', 'B003JH7KT0', 'B000QBPUKS', 'B004Z8VCEG', 'B001DZ6CDU']\n",
      "A1I96OYAUJ3HQE ['B002SSL920', 'B007NLSGOQ', 'B00007B4DM', 'B000GX484U', 'B00CF5OHZ2']\n",
      "A2ROZACRW31PC2 ['B001QUA6RA', 'B005LIDU5S', 'B003WUX6PG', 'B004MU8VCS', 'B009H0XQPA']\n",
      "A2HKUM9OEBQKDW ['B001E1Y5O6', 'B000BSN4UY', 'B00B4GGW5Q', 'B00609B3J2', 'B00029U1DK']\n",
      "A9DYWY9VOSP1P ['B002Y6CJJ8', 'B007PJ4P4G', 'B004J3ZV62', 'B000H0QIDG', 'B0001G6U9I']\n",
      "A3D1TZH619NKHN ['B00HVT27B8', 'B001TH7GSW', 'B000Q82PIQ', 'B00834SJSK', 'B009PK2MNY']\n",
      "AW6A4PPENVZY3 ['B005LDLP8W', 'B000VDCT3C', 'B00B7E1D7W', 'B000068O3C', 'B00829THK0']\n",
      "A3V6Z4RCDGRC44 ['B000M17AVO', 'B0007CZ70Y', 'B0030XXH1S', 'B001FA1NZK', 'B000V5P90K']\n",
      "A3VONQL7YW8UPM ['B008LCYIEI', 'B009K62HQ0', 'B007WTAJTO', 'B0043EV20Q', 'B0074BW614']\n",
      "A1R6RKKE44AYA8 ['B0043WJRRS', 'B000QUUFRW', 'B002IKLJU0', 'B003WUBIZQ', 'B00BRI4YM4']\n",
      "A2WJ5XSE4I9F55 ['B007WTAJTO', 'B008M9U3BM', 'B002W2Y8PC', 'B005IQSSJG', 'B0032JRRXO']\n",
      "A3V5F050GVZ56Q ['B0052SCU8U', 'B00DTZYHX4', 'B00IX2VGFA', 'B002V88HFE', 'B00DK2JQOQ']\n",
      "AOMEH9W6LHC4S ['B00E3RH5W2', 'B007KZQM8W', 'B002VPE1X4', 'B003X7TRWE', 'B006MPUTBC']\n",
      "A24P4E3RJ6AX94 ['B003XM1WE0', 'B002V88HFE', 'B00DTZYHX4', 'B001E1Y5O6', 'B00CTUIT20']\n",
      "A2NP9CGUSFP22E ['B0052SCU8U', 'B0036Q7MV0', 'B000F9YN22', 'B007I5JT4S', 'B00DW374W4']\n",
      "A27M75LRSJ788H ['B007M506WS', 'B002RCNX8K', 'B002NO7PWC', 'B009SYZ8OC', 'B00007IFED']\n",
      "A30UP2KKD5IQEP ['B003ES5ZUU', 'B001TH7GSW', 'B000TKHBDK', 'B005KAK2FI', 'B005PUZOYM']\n",
      "A36MP37DITBU6F ['B00D6XSRL2', 'B0034CL2ZI', 'B004CLYEFK', 'B008MF3X9K', 'B004GUT1QO']\n",
      "A35KBAQ4VBNQ6L ['B000QUUFRW', 'B001C271MA', 'B0079M711S', 'B0051XDOZO', 'B00A40GPM8']\n",
      "A15TABNGK6L4N3 ['B001N9X4CS', 'B003HFCDLY', 'B004Q3R9AQ', 'B002V41X2M', 'B00723KZTY']\n",
      "A3N4VTNFPMTHEF ['B004CLYE8C', 'B001NTFAOS', 'B005MIDB7E', 'B0015DYMVO', 'B002HWRJY4']\n",
      "A2AF0NOCM71J0B ['B002V8C3W2', 'B00BW6KCTU', 'B004CLYEDC', 'B00CB2F65O', 'B00871SR68']\n",
      "A3L9E0YI7C5G0W ['B000QUUFRW', 'B00DK2JQOQ', 'B003FVVMS0', 'B000652M6Y', 'B0061RJSWC']\n",
      "AUUV3XDYB16X5 ['B005LFT3GG', 'B00AAU54TW', 'B004T1YAEI', 'B0016120M8', 'B003XP9G6S']\n",
      "A3BNMHRW2R35LK ['B009OBCAW2', 'B00CAAJDP6', 'B002K9IHGI', 'B004CLYEDC', 'B0007G6RZE']\n",
      "AAQ9NJ480N9W5 ['B0043WJRRS', 'B000QUUFRW', 'B000NP3DJW', 'B000MX48VM', 'B002VPE1WK']\n",
      "A2OWR5G2OAQF7C ['B003TXRTNG', 'B001UEBN42', 'B003SX0NG2', 'B00829THVO', 'B00CAFPF26']\n",
      "A36A1ZYZH8568P ['B000AYJDD6', 'B002V88HFE', 'B002WE4HE2', 'B004Q3R9AQ', 'B00GHY5F3K']\n",
      "A1VEELTKS8NLZB ['B00CSMYBFS', 'B00007E7C8', 'B004TC4TVQ', 'B003BT6BL4', 'B005UBT7LW']\n",
      "AYOMAHLWRQHUG ['B002K9IHGI', 'B004Q3R9B0', 'B009YT6PPC', 'B002CWZ29S', 'B005IHAIEI']\n",
      "A386LG0LRWKJZP ['B001QUA6RA', 'B000BV8604', 'B009H0XQQY', 'B000TYL27M', 'B001EYV690']\n",
      "A353U0L2HAMSHV ['B002TLTE6Y', 'B00316263Y', 'B0043M668G', 'B000JE7GPY', 'B001TOD7ME']\n",
      "A35HUT8MQMT21L ['B000PTFDYO', 'B000CKVOOY', 'B0012Y2LLE', 'B000IF51UQ', 'B005LZR0DO']\n",
      "AATWFX0ZZSE6C ['B002EVP85K', 'B00358PRCA', 'B000RZNI4S', 'B000CSWCQA', 'B009SDH1AM']\n",
      "A22S7D0LP8GRDH ['B002MZUNXU', 'B009E6J1BU', 'B00AAHT8JC', 'B00GA55OGE', 'B00D349WB8']\n",
      "A2HNH4PKE5DPSI ['B00829THVO', 'B0012Y6HC8', 'B001OI2YNS', 'B0000CE1UO', 'B000FQ2JLW']\n",
      "A204K1OFE8OB9Y ['B001B7H39W', 'B0007U00X0', 'B0009204RI', 'B0097252UK', 'B007CKQMPI']\n",
      "A1CYTBE7LLUQ8F ['B001EZRJZE', 'B000MP831G', 'B00622AG6S', 'B0002IWC9C', 'B0001G6U52']\n",
      "A2VJ5ALN1BIV3B ['B002WE4HE2', 'B007WTAJTO', 'B000YBH4YU', 'B002HWRJY4', 'B00829THK0']\n",
      "A4U27URFECK1U ['B00BOHNYU6', 'B000N99BBC', 'B004CLYEFK', 'B005A0B3FG', 'B002Q88CGI']\n",
      "A274MXTX3DYLUV ['B005NGQWL2', 'B007YXA5TC', 'B002B8WVVU', 'B00005N5X2', 'B000SDZ0K4']\n",
      "A3MQAQT8C6D1I7 ['B0012GK3MQ', 'B000N99BBC', 'B00006RVPW', 'B000092TT0', 'B0000CE1UO']\n",
      "A11IXJ8M1JO296 ['B009SYZ8OC', 'B004LSNF04', 'B00007KDVK', 'B00BQ5RY1G', 'B002K9GCU6']\n",
      "A1IBKN1GXYJ3K4 ['B009NHWVIA', 'B0002DG9XW', 'B00829THK0', 'B004I44EXI', 'B009CQNPYQ']\n",
      "A2XAKGRUHIE2ZA ['B0002SQ2P2', 'B001P05NKG', 'B001PIBE8I', 'B000CRFOMK', 'B0015YJOK2']\n",
      "A145B8OHVNNFAJ ['B0052SCU8U', 'B003ES5ZUU', 'B00G4UQ6U8', 'B006LW0W5Y', 'B00829TIA4']\n",
      "A1BC62X6HZJGZR ['B000QUUFRW', 'B00BQ4F9ZA', 'B0067I4Z6O', 'B005DKZTMG', 'B00BY3XN7E']\n",
      "A2IIAQ7VVAHXTD ['B003FVVMS0', 'B001TH7T2U', 'B000VX6XL6', 'B00894YP00', 'B002K40R6G']\n",
      "A2JMJVNTBL7K7E ['B005L38VPC', 'B00DSGLM50', 'B009F7IBZK', 'B009N8M2P6', 'B00DQKQ7U8']\n",
      "A1RPTVW5VEOSI ['B001QTXL82', 'B001TZWNF0', 'B004CLYEH8', 'B001ISKNKA', 'B0002ZAILY']\n",
      "A365PBEOWM7EI7 ['B001MSU1FS', 'B001TH7GUA', 'B001RNOHDU', 'B0043CG3QG', 'B003IZFCFW']\n",
      "A2F92M62KN324B ['B005DSPLCQ', 'B007I5JT4S', 'B002QQ8H8I', 'B002YIG9AQ', 'B004CRSM4I']\n",
      "ABQWMANK4AR63 ['B002YU83YO', 'B002WE6D44', 'B004RORMF6', 'B008ALAHA4', 'B007KZQM8W']\n",
      "A3E049PVKG7NDK ['B007R3Z44U', 'B00DTPYRTI', 'B0031ESKJA', 'B00FX9WJNO', 'B004PGMFG2']\n",
      "A215WH6RUDUCMP ['B0082E9K7U', 'B009NHWVIA', 'B008MF3X9K', 'B0079UAT0A', 'B00EDCF0MY']\n",
      "AGATRDOFW48DK ['B001E0RZ3U', 'B000KZ70JE', 'B000JJM7S0', 'B005MLAHYG', 'B0013WM0BQ']\n",
      "A3VC74TJ06WDDD ['B004CRSM4I', 'B000O5N5AI', 'B000O8I474', 'B000V0BIWI', 'B002EOD52A']\n",
      "AYMD77ITD15PT ['B004CLYE8C', 'B00BGA9WK2', 'B00871SR68', 'B0007MWE28', 'B00006B9H8']\n",
      "A3P4T1DKRWTL36 ['B006IC3GHS', 'B008TT7CXW', 'B006H06TVG', 'B009SYZ8OC', 'B005TUQV0E']\n",
      "A2IT7S59GSASN7 ['B00D5Q75RC', 'B00829TIEK', 'B003ES5ZUU', 'B004CLYEDC', 'B0002ZAILY']\n",
      "A1BXVZSQOJE6UE ['B00117LECY', 'B00FSA8VQ2', 'B007SHJIO2', 'B0062XB9FE', 'B0092KRAVQ']\n",
      "A3MFORLOKIOEQY ['B00HVT27B8', 'B003L1ZYZ6', 'B007X3VC7W', 'B000Y634SU', 'B003SGCO3E']\n",
      "A2WF58BAWLVI95 ['B0075SUK14', 'B007T28JK0', 'B0057AVXP4', 'B00CM0XHNS', 'B00F6AVFK8']\n",
      "A2OKRGHIYTBQ6P ['B002NO7PWC', 'B004ELA0SS', 'B003MTTJOY', 'B000BQ7GW8', 'B005IMFX2K']\n",
      "A16WP8NTPYB0ZM ['B0092HP3GS', 'B000LP4RMG', 'B006Z0Q2SI', 'B000BSJFJS']\n",
      "A25C2M3QF9G7OQ ['B00G4V0QSK', 'B003ELOSIW', 'B002WE6D44', 'B00CHH0JF0', 'B001UI2FPE']\n",
      "A18FLOC8YQY0P8 ['B001FA09WI', 'B006W8U2MU', 'B005WXQO3W', 'B00BP5KOPA', 'B004FEEZHQ']\n",
      "A39K52QDP4C3ZS ['B004RORMF6', 'B00000JI4F', 'B001CIREXA', 'B0058AH2US', 'B003A7C9WM']\n",
      "A33HIV8RXRDM88 ['B0000BZL1P', 'B00005LEN4', 'B002WE4HE2', 'B009YT6PPC', 'B00EOE4G4E']\n",
      "A3R33KMESG0XGQ ['B000IF51UQ', 'B000VX6XL6', 'B00G024X32', 'B002HWRJBC', 'B00019OWU4']\n",
      "A1YEPFLLH42OU1 ['B0052SCU8U', 'B00BOHNYU6', 'B0043WJRRS', 'B007PTCFFW', 'B0034CL2ZI']\n",
      "A11LNPG39A2ZV4 ['B0041OSAZ8', 'B00434OWDA', 'B0012GQZZU', 'B004J13VW0', 'B004H3XNB4']\n",
      "A2NU9H8H5MJZSL ['B000083CUA', 'B003UE52ME', 'B000WG6XW6', 'B004068AWU', 'B0000ALPBJ']\n",
      "A1KKE6VX8VPWZK ['B002TLTE6Y', 'B001FWBUUG', 'B001FN14RE', 'B000RZ8WHG', 'B0015AARJI']\n",
      "A291XTI6NO7DEG ['B000EMWBT2', 'B000N254LU', 'B000ANRP82', 'B0064YWOQY', 'B0002O77T6']\n",
      "A3TA1UJWRJF9NC ['B000R9AAJA', 'B0015ACUKC', 'B00008VFBE', 'B0016IGN2Y', 'B000AM6QHE']\n",
      "ARIDN94LOCQFD ['B000BQ7GW8', 'B007WTAJTO', 'B0002CPBUK', 'B0079UAT0A', 'B00829TIA4']\n",
      "A3T4OHEAHOJ700 ['B0011Z2402', 'B0007LJHVA', 'B006ZZ2V9M', 'B001TOD7ME', 'B004ULOZPQ']\n",
      "AFHYEO3Y1IIDD ['B003LVZO8S', 'B004TS2AP2', 'B0035P4C06', 'B000NW3M2S', 'B004N625B4']\n",
      "A16HXVNPU5TCGE ['B000YB862E', 'B006Y0YZZ6', 'B00DZYEXPQ', 'B000OPB4U6', 'B004N627KS']\n",
      "A1TR1R2QKWRSRA ['B004CLYEH8', 'B009X01C64', 'B004CLYEDC', 'B00829THEG', 'B00DR0C96S']\n",
      "A1PEXTGNF36I1Q ['B001TH7T2U', 'B0014Z29OU', 'B002K4E7TE', 'B000JLK5NW', 'B00139VKU6']\n",
      "A1L0P1ZP5FD6EC ['B0000BZL5A', 'B00FA4Y7N2', 'B00BFRKYVM', 'B00BC4SJEC', 'B008GVM9K4']\n",
      "A1ZBEIL78MLR9Z ['B001QTXL82', 'B00139JBU2', 'B003TXRTNG', 'B008OHNZI0', 'B00GO1UV4E']\n",
      "ABMN74TBW5UWE ['B00009XVCZ', 'B0041MY32Y', 'B004HREPCQ', 'B003EWGD1Q', 'B007P4VOWC']\n",
      "A4UGMKUSX9XHI ['B0036Q7MV0', 'B001CCAISE', 'B003DZJQQI', 'B005JLQL26', 'B002JP92K8']\n",
      "A2NT3W1F1XYBFZ ['B004HO59M4', 'B001FA0AM2', 'B00CFCTDD6', 'B005OGR3DM', 'B002NEGTTM']\n",
      "A3IK2VCQ007CJ ['B00429N18S', 'B00IRRDHUI', 'B0058AH2US', 'B004ZMVQRA', 'B006UMM1PO']\n",
      "AHS6PX6H22WW1 ['B001OC6DCW', 'B00JC5Y6WM', 'B00006HSYC', 'B00007FGU7', 'B0046HAO40']\n",
      "A37D1ZP8GBHE38 ['B00BOHNYU6', 'B001OI2Z4Q', 'B0043M668G', 'B0015DYMVO', 'B00834SJNA']\n",
      "A2UKE7GIVC7XFW ['B001TOD7ME', 'B00KFAGCUM', 'B004FHO5Y6', 'B00FRMAOIO', 'B009A6CZYY']\n",
      "AXP8GO5Q3AXSA ['B003ES5ZUU', 'B000N99BBC', 'B000204SWE', 'B0093H4WT6', 'B001M56DI0']\n",
      "A3JNBO7H2SPL44 ['B003ES5ZUU', 'B005GGTTZ0', 'B004C9P9TM', 'B0079MX4Q4', 'B00006IRRY']\n",
      "A28621TSIR5EOG ['B004Q3R9AQ', 'B007WTAJTO', 'B002V88HFE', 'B000E65DG6', 'B007GFX0PY']\n",
      "A1TDR7Y90SVCHL ['B003HFCDLY', 'B000EVSLRO', 'B000F9YN22', 'B002JQNXZC', 'B004Q7LHVE']\n",
      "AV10H5K6VPQIJ ['B00316263Y', 'B000HPV3RW', 'B00029U1DK', 'B00ATQF0BO', 'B003ES5ZSW']\n",
      "A1LYMYNURB9EWW ['B000N99BBC', 'B003CFATT2', 'B002FU5QMK', 'B002DUCMQU', 'B00ISIG690']\n",
      "A1VGXHHR08G044 ['B005EOWBKE', 'B000JMJWV2', 'B001F51G16', 'B0023B14TK', 'B001FB578I']\n",
      "A1IU7S4HCK1XK0 ['B00JC5Y6WM', 'B00BW6KCTU', 'B003S5SOLG', 'B00DHKKI16', 'B003NR57BY']\n"
     ]
    },
    {
     "name": "stdout",
     "output_type": "stream",
     "text": [
      "A178M2AHNWQZB0 ['B007IV7KRU', 'B001TI9F8U', 'B00137NMMW', 'B000652M6Y', 'B001G4NBNC']\n",
      "A2NSMJVQY0RV9S ['B000QUUFRW', 'B000NP3DJW', 'B002V88HFE', 'B004FA8NOQ', 'B00009R6WY']\n",
      "AG5WSXI52FPKH ['B004W2JKWG', 'B0058UUR6E', 'B004EBUXHQ', 'B0088PUEPK', 'B002RM08RE']\n",
      "A2PY5ED630H0QJ ['B001QUA6RA', 'B006EKIQYM', 'B008DWH00K', 'B000NOR89Y', 'B00009XVCZ']\n",
      "A20WUUD9EDWY4N ['B005LFT3GG', 'B0064P5I1G', 'B0097BEECI', 'B00BI9X7UC', 'B007R9M6PO']\n",
      "A1UCAVBNJUZMPR ['B0002J2P2A', 'B0017JY5FE', 'B00DBA9YD0', 'B00AHPSTJW', 'B000FGNM6I']\n",
      "A1U5NWJOYH2QQH ['B005LJQNQU', 'B0013IWYHU', 'B0007LJHVA', 'B001JTQUYG', 'B008L1OCF4']\n",
      "A3JAH5WW61N2EK ['B001CCAISE', 'B0016P5ASK', 'B001EYV9TM', 'B00B2166BS', 'B002RCLYXG']\n",
      "A2DXENZNO2JT4F ['B00BOHNYTW', 'B007PTCFFW', 'B007ABIY4Q', 'B009F7IBZK', 'B00CI3BIWQ']\n",
      "ARXU3FESTWMJJ ['B000053HC5', 'B00D6XW62I', 'B001P05NBA', 'B00003CWDG', 'B000M5U9GI']\n",
      "A3V6QSTG2T9MIO ['B004CLYEDC', 'B006W8U2MU', 'B00840353W', 'B00067LYFW', 'B0058SRNZ4']\n",
      "A2JCJJNY43QQIV ['B001HSOFI2', 'B005SNPTRS', 'B0015EWMX8', 'B000ETY3LO', 'B00JP12170']\n",
      "A1CMD08Z49PGKQ ['B007R5YDYA', 'B003WUBIZQ', 'B00483WRZ6', 'B0048IATQ0', 'B000ENUCR4']\n",
      "A24J2Y1O22JYZX ['B00077AA5Q', 'B00451ZTBA', 'B00AEMGGU2', 'B0017I1PVC', 'B004LNOSQO']\n",
      "A2WYF4POBUXL2O ['B000BYCKU8', 'B001ENW61I', 'B0013AV4M4', 'B0000BZLBA', 'B001QWF01K']\n",
      "ABMNX856X89CS ['B00IVFDZBC', 'B001FWBUUG', 'B001VZ1W5U', 'B008DWCRQW', 'B0079TOI8K']\n",
      "A2TMFC9O3ZCNKE ['B003ES5ZUU', 'B00609B3J2', 'B002S53LJ2', 'B001W28L2Y', 'B005PAINXQ']\n",
      "A27QXQQOLAMRRR ['B003L1ZYZ6', 'B001TUYTZM', 'B002K9IHGI', 'B00HVT27B8', 'B00829TIEK']\n",
      "A16SRDVPBXN69C ['B00007GQLS', 'B0084FM5JC', 'B000FKQ8LA', 'B000I1X3W8', 'B003EEMDMC']\n",
      "ACSX5AIZE3MJ9 ['B004CLYEDC', 'B0055MBQOM', 'B00EHZYWGM', 'B000V01RLK', 'B000ZSUQ9M']\n",
      "AEN44U6T9R93 ['B0007TOR08', 'B002KETE24', 'B0014C0IAK', 'B001DAIW74', 'B007YKUWN4']\n",
      "A247L282PID4PE ['B00A35WYBA', 'B003NUIK4M', 'B0046S54GC', 'B00FEA01O6', 'B004I0FK6M']\n",
      "AW6FQE5QRF2LM ['B006W8U2MU', 'B000UHQVOW', 'B009USAJCC', 'B003Z4G3I6', 'B004HHICKC']\n",
      "A22I55P15NSAOX ['B00COF7DGS', 'B002TLTE6O', 'B0039BPG1U', 'B000EN8A7S', 'B004BDOGL6']\n",
      "A19HT7YC1UW3D6 ['B002WE6D44', 'B004V4IWHY', 'B000S5Q9CA', 'B000HPV3RW', 'B00632SOD4']\n",
      "A2RIL2NXHE00AQ ['B005IVUWHW', 'B0023Y9EQC', 'B001J8BPYM', 'B000SB9K5W', 'B00064V6SK']\n",
      "A2SZLNSI5KOQJT ['B00HWMPRKM', 'B003WJR694', 'B005J31BDS', 'B002SZEOLG', 'B009XNBFJK']\n",
      "A3RMEU4GNP60BM ['B0051A8TG6', 'B0077CR5RK', 'B00DR0C96S', 'B0058VIWTM', 'B004SBI2MU']\n",
      "A3IJL9A50KVVZ1 ['B007WTAJTO', 'B00068YUN4', 'B002NEGTTW', 'B002QAUN2M', 'B00AQUMZRA']\n",
      "A3977M5S0GIG5H ['B000BTL0OA', 'B002V88HFE', 'B000H4CLXS', 'B001FWBUUG', 'B009MAKWC0']\n",
      "AY3D7DG5L5WCK ['B004CLYE8C', 'B008CXTX7S', 'B00BWHILCY', 'B0058FAYPI', 'B004BDOGL6']\n",
      "A3L6L5O89JTX2T ['B000MDZKUU', 'B004W81AI2', 'B00328HR7G', 'B0009WU65I', 'B0001LRIT4']\n",
      "A19UTUEBWKIZFT ['B004CLYEFK', 'B00BOHNYU6', 'B004CLYEDC', 'B00829THVO', 'B001GIPSA2']\n",
      "ASJSX783R5HTZ ['B001BTCSI6', 'B0065DUJ0C', 'B001TH7GVE', 'B00003CWDG', 'B002HWRJY4']\n",
      "A38Z6QG6988WS7 ['B001TH7GSW', 'B003ES5ZUU', 'B009EADB2Q', 'B000VX6XL6', 'B005KSAG3S']\n",
      "A2PL06HW6KZH2 ['B006W8U2MU', 'B008EQYRRY', 'B003LSTD38', 'B0039BPG1A', 'B001E1Y5O6']\n",
      "A3EXWV8FNSSFL6 ['B001UI2FPE', 'B0000BZL1P', 'B005IMFX2K', 'B0062EUE54', 'B008R6OPJQ']\n",
      "A3KTWUXXB8KKC7 ['B000RZQZM0', 'B000EDK8V4', 'B006DDT6JO', 'B000EWHH7I', 'B000H6I7EI']\n",
      "A16QODENBJVUI1 ['B00829TIA4', 'B00EO302SO', 'B002FU5QMA', 'B002FU5QM0', 'B005ELBSWO']\n",
      "ANXEW7IDYDJEH ['B00HVT27B8', 'B006W8U2MU', 'B00GTGETFG', 'B000S5Q9CA', 'B008F4NL04']\n",
      "A2W9GX82SLKROQ ['B001TH7T2U', 'B00007GQLS', 'B004Q3R9AQ', 'B004R7P28W', 'B004WB8EYM']\n",
      "A32JCI4AK2JTTG ['B000F0ELOG', 'B00007IFED', 'B00AF22NTY', 'B003EEMDMC', 'B005EIGUD4']\n",
      "A3077MQTAKOVFZ ['B003ES5ZUU', 'B0088PUEPK', 'B001F7AHOG', 'B0049MOK92', 'B00D77U5US']\n",
      "A3TNM3C9ENUCFW ['B00FPKDPZC', 'B007PTCFFW', 'B0038KN114', 'B001DJ7Y2O', 'B008X1BV2Y']\n",
      "A54S9CIUV5VNB ['B001TH7T2U', 'B003XM1WE0', 'B00429N18S', 'B000RZQZM0', 'B0000510ZO']\n",
      "A2BUQ240COLAOP ['B005UBNH18', 'B007SVHFXO', 'B004OOQ8CW', 'B005CFLMNC', 'B0055CL5XE']\n",
      "A100UD67AHFODS ['B005PQTYHE', 'B00108UNEY', 'B003O8682Y', 'B00A39PPCG', 'B004YLCFCM']\n",
      "A3FEGTOLCWXSV4 ['B003ES5ZUU', 'B008EQZ25K', 'B005J31BCO', 'B003ZSHNGS', 'B000AZ57M6']\n",
      "A1RL1OTV8IJMVD ['B005DQG5SC', 'B00D6XW62I', 'B005KFONIU', 'B004CLYEFK', 'B0036RFGKS']\n",
      "A3R1GJY2MY8041 ['B000QUUFRW', 'B000GHD73Y', 'B00006IW1X', 'B00BFDHV9E', 'B0056DV0L4']\n",
      "A3QQCEQ33O0GJU ['B000O8I474', 'B001CY0P7G', 'B004ALYGI2', 'B004Q81CKY', 'B004MU8VCS']\n",
      "A1C5TCCR2IGKBU ['B0019EHU8G', 'B001HSOFI2', 'B004TJ6JH6', 'B0002SAE56', 'B000EHWCDW']\n",
      "A2MSBIA18RXYQC ['B00719CH0O', 'B001EUG3II', 'B00JLADOGW', 'B003LT8OPU', 'B007LK5S0E']\n",
      "AZOK5STV85FBJ ['B00068YUN4', 'B000O5N5AI', 'B000GL3MOY', 'B00A85ANCW', 'B000ERAOMS']\n",
      "A38C12950IM24P ['B00DTZYHX4', 'B00G4UQ6U8', 'B00BCGRTFK', 'B00BCGROFU', 'B005GI18EI']\n",
      "A22MANL4US4RMY ['B0052SCU8U', 'B00FJRS5BA', 'B0036Q7MV0', 'B000FFQ1VM', 'B004YKXGIK']\n",
      "A1EKSETIBS9ETQ ['B000M17AVO', 'B00BGA9WK2', 'B00005LEN4', 'B0099XGZXA', 'B005755U0I']\n",
      "AP53MVRC8ZEW2 ['B002NEGTTW', 'B000UHQVOW', 'B005FYNSPK', 'B006EKIQYM', 'B002NO7PWC']\n",
      "ALRCAGJOJ9583 ['B0036Q7MV0', 'B0015AE4CE', 'B004LNXO28', 'B00923G46U', 'B000NOEDGK']\n",
      "AEFTIUQHSVUFX ['B0000BZL1P', 'B001CCAISE', 'B007WTAJTO', 'B009B0MZ8U', 'B005HWC6PI']\n",
      "A2MCRCK1V61FWQ ['B00862522A', 'B0042RUSY0', 'B003INFE16', 'B000219896', 'B0002Y5WZM']\n",
      "A35Q0RBM3YNQNF ['B00G4UQ6U8', 'B0079UAT0A', 'B004CLYE8C', 'B00310PJM0', 'B0002LEMWE']\n",
      "A3AG5QAT8L0I3R ['B00D1GYNT4', 'B007LLYAIO', 'B0058SRNZ4', 'B00D96LZ6K', 'B000WGSITC']\n",
      "A185O1MX1RP964 ['B005GGTTZ0', 'B008HK50ZA', 'B004ZMG55I', 'B001J0K9RO', 'B007136BMA']\n",
      "A1XB7JGJ459ERP ['B000CRFOMK', 'B009SYZ8OC', 'B0049SCB2Y', 'B0098O9TRO', 'B0015DYMVO']\n",
      "A3PU3EDJ2FG1AW ['B001MSVPM6', 'B001NJ0WCS', 'B001954DPI', 'B003ELVLKU', 'B004FLL58Q']\n",
      "A9ELHLPXF7JKD ['B000N99BBC', 'B0034CL2ZI', 'B000WOIFO2', 'B00829THEG', 'B00000J4FS']\n",
      "A212MDP6K4VJS5 ['B003ES5ZUU', 'B001OC6DCW', 'B004LSNF04', 'B00005B8HO', 'B009A6CZ30']\n",
      "A3BKNXX8QFIXIV ['B001TH7GSW', 'B002VPE1X4', 'B004SKBJ5S', 'B001AGM2VI', 'B000MF4N42']\n",
      "A2V1J3JT5OOZFO ['B00426C57O', 'B001FWBUUG', 'B00FAYL1YU', 'B000P6M6HY', 'B0038W0K2K']\n",
      "A2NN1KIYEM2SKS ['B00BQ4F9ZA', 'B007WTAJTO', 'B000S5Q9CA', 'B005FYNSPK', 'B0036V9AGU']\n",
      "A1OO9N1MRNQ7K0 ['B003BKW2K2', 'B005FYNSPK', 'B003XMROKG', 'B00193U3O0', 'B0030F5ND6']\n",
      "A2VC48WIMY6L6E ['B003ES5ZUU', 'B000F7QRTG', 'B00EFILHB4', 'B001VEAI74', 'B0062AYFWG']\n",
      "A3B20R4ZAH0Y2Y ['B003ES5ZUU', 'B00DR6DQZA', 'B008ALAHA4', 'B00DQKQ7U8', 'B0056YNA2A']\n",
      "A1J87SYB3JPQWH ['B004RORMF6', 'B0036Q7MV0', 'B0027JPW8M', 'B001AHALEC', 'B001KBZ3QO']\n",
      "A2BMZRO0H7TFCS ['B00001WRSJ', 'B0036Q7MV0', 'B009NHWVIA', 'B002K9IHGI', 'B005FYNSPK']\n",
      "APBB297H3ZA5E ['B002NU5UW8', 'B000089GN3', 'B000HDFXU2', 'B001PIBE8I', 'B003A4GZUC']\n",
      "A1IDAKX7OM3QIE ['B009TCCTSQ', 'B000I6JZGQ', 'B004YHXXKO', 'B009CN8VNY', 'B002JMYCTC']\n",
      "A96JD9312DHWC ['B009NHWVIA', 'B00CB2F65O', 'B00CKAOJA0', 'B00829THVO', 'B002J9HBSE']\n",
      "A3M7R4PD0FEPUB ['B002TLTE6O', 'B00829THK0', 'B001SER460', 'B00634PLTW', 'B001542UQW']\n",
      "A35SNSDRNE9P8Q ['B007QOX5A0', 'B005JN9310', 'B005BOMTT0', 'B00740MR78', 'B0043M6F14']\n",
      "A259MPG6SOL02P ['B002WE4HE2', 'B00006RVPW', 'B002U1N95K', 'B000BFNOT8', 'B009SYZ8OC']\n",
      "A2UEB48LAWFUCW ['B009YT6PPC', 'B001L1H0SC', 'B0013LRLUM', 'B003VAHYTG', 'B00829THK0']\n",
      "A2PK64OVZA1U8Z ['B001OC6DCW', 'B000M17AVO', 'B00829THH8', 'B000023VUL', 'B00634PLTW']\n",
      "A12LH2100CKQO ['B000VX6XL6', 'B00007IFED', 'B003BLQHN4', 'B002M3SOC4', 'B00006B8BS']\n",
      "AQ3IN3MRXQ5KH ['B001O4EPHA', 'B004OB0EBQ', 'B000U5TUWE', 'B004CLYEH8', 'B000E6NGBU']\n",
      "A1EXGL6L0QQ0M5 ['B008EQZ25K', 'B003ES5ZR8', 'B004CLYE8C', 'B0034CL2ZI', 'B007KXI2R8']\n",
      "AUCISQA1YXX86 ['B0002INUIY', 'B000MX48VM', 'B000MWVMRG', 'B000F5FKHI', 'B00066EK36']\n",
      "APGQTZZ4ZFPHO ['B000CKVOOY', 'B0036E8V08', 'B000V04RQM', 'B0019SHZU0', 'B000TYR5R8']\n",
      "AONUCJBC85BL ['B0039BPG1U', 'B005J31BDS', 'B001TK3ACA', 'B00BJVJV9A', 'B00COHALOM']\n",
      "A3O4OIBCML0683 ['B002RCNX8K', 'B001E1Y5O6', 'B005KQ0S8S', 'B0037H8AB4', 'B004Z0S6RU']\n",
      "A3VL4RXCWNSR3H ['B00A81SXHI', 'B00F4MELE0', 'B0000ALPBA', 'B0035APGP6']\n",
      "A198CCH4NNLI2E ['B0002ZW5W4', 'B002C744K6', 'B001OI2YZQ', 'B0006VJ7TI', 'B001EJN2GA']\n",
      "ACP9S40H3SHY1 ['B00836JHVQ', 'B006K551TO', 'B005XEE5IG', 'B004V6BQ3O', 'B00B7N9BRW']\n",
      "A1Y85GQ09Y95JL ['B00007IFED', 'B000CKVOOY', 'B00B4GGW5Q', 'B00EOI2SR2', 'B0014KOB6Y']\n",
      "A1BZIM4WGZ6DZP ['B003MVZ60S', 'B005F778JO', 'B001QUA6R0', 'B007B60SCG', 'B003HFG6S0']\n",
      "A32O98PFC3OP7K ['B003LSTD38', 'B004TS2AP2', 'B003DTLV8K', 'B000R9AAJA', 'B000F2PHDI']\n",
      "A37PV5GMP2ILJC ['B000TKHBDK', 'B001BTG3OQ', 'B0034WR19Y', 'B003656Q7C', 'B0046SUPQQ']\n",
      "A1FMU4CJLIDHR9 ['B000AP05BO', 'B0054JJ0QW', 'B001IF252M', 'B004VM0SE6', 'B000J43HJ8']\n",
      "A27AF4DLLOBQDQ ['B002M3SOCE', 'B006TT91TW', 'B00E055H5O', 'B00313JD06', 'B003L76BJS']\n",
      "A3LWC833HQIG7J ['B002MPPHKY', 'B001T9NUJE', 'B000FOYMKU', 'B006BUN6ZE', 'B001U3Y6AQ']\n",
      "A11P105WVK5240 ['B001T9NUJE', 'B005L38VPC', 'B00006RVPW', 'B003FMUMN0', 'B007KPIMXK']\n",
      "A3FPSY1M6G7XIB ['B003ZSHNGS', 'B000144I2Q', 'B000HJPK2C', 'B000BY52NK', 'B00004WCIA']\n",
      "A3LDFTSXU3UPBO ['B009X3UW2G', 'B004NBZ8DQ', 'B003YFE1H6', 'B00722JCMQ', 'B009YZE2A6']\n",
      "A34JKODTSKCGEN ['B000I5JHB0', 'B002TG3K14', 'B0002KKIUA', 'B0012WDMNC', 'B002BW6DBU']\n",
      "APQQK1V695AUE ['B00140DBRY', 'B000G6M916', 'B000BYVA8Q', 'B00066D1GI', 'B0007MXZB2']\n",
      "A16C19G0I2DE8S ['B009JP461G', 'B003WGJYCY', 'B00D856NOG', 'B001Q3MA80', 'B0088PUEPK']\n",
      "A2NJQF2UI60VGT ['B0010Y414Q', 'B004NY9UV4', 'B004GF8TIK', 'B007SM7O2U', 'B001J8BPYM']\n",
      "A319Y83RT0MRVR ['B0007KQWDM', 'B0097CZHAU', 'B0046HAO40', 'B00E6ONJJU', 'B00D96LZ6K']\n",
      "A1NZLRAZJGD99W ['B001OC6DCW', 'B0012GK3MQ', 'B008C1JC4O', 'B00006JPRQ', 'B00004Z5QU']\n",
      "A2K6CDQ9HZ359G ['B007IV7KRU', 'B003LSTD38', 'B0007Y791C', 'B00114PN1U', 'B005UF3G2Y']\n",
      "A1XK4VP74IB9TQ ['B002N2EHVQ', 'B001F7AHOG', 'B00452YFZU', 'B0039825LM', 'B0009HN57Y']\n",
      "A27GITTN6AVW5I ['B001OI2YNS', 'B009YT6PPC', 'B000KE48CM', 'B000NVR9SM', 'B006Z0Q2SI']\n",
      "AV8MDYLHHTUOY ['B007PTCFFW', 'B00829TIA4', 'B004CLYEDC', 'B0034CL2ZI', 'B007E2M3SY']\n",
      "A2W9I628I6SE1U ['B000TKHBDK', 'B000ANCPNM', 'B0082E9K7U', 'B000R805L4', 'B000GHTGES']\n",
      "A2XXBZPQT5EXHV ['B003DZJQQI', 'B001TH7GSW', 'B000VE2RP6', 'B00483WRZ6', 'B0013FRNKG']\n",
      "A35OIWPVTGW3UC ['B00722JCMQ', 'B004MSMCSO', 'B008MB6YX6', 'B00728ZAEY', 'B0011Z44UA']\n",
      "A3TP31S61PPE3G ['B00BFO14W8', 'B008OHNZI0', 'B008X9Z8NE', 'B000ID37EA', 'B0094R4PBU']\n",
      "A1X3DA7C61WZLQ ['B0015AARJI', 'B003O8682Y', 'B00005853Z', 'B0068INSUM', 'B00000J061']\n",
      "A3CJ7MHAS9IMAM ['B001CCAISE', 'B001G5ZTPY', 'B00009R6WO', 'B00065ANYW', 'B00109Y2DQ']\n",
      "A2ZFFSJ0VM6KSJ ['B004LEAYXY', 'B000BNY64C', 'B000IDCDZY', 'B0017U0WM8', 'B004AZ38Z0']\n",
      "ASJLXOX1VD4DF ['B004CLYEFK', 'B00E87E1OM', 'B00G4UQ6U8', 'B00EOE4G4E', 'B0052WPUI8']\n",
      "A1SDPA1J98UP4L ['B002WE6D44', 'B00029U1DK', 'B000MX48VM', 'B0015AARJI', 'B00B99JU5M']\n",
      "A33ZYFE8XMKKR1 ['B001UHOR88', 'B0039XRUBM', 'B001LYUG3A', 'B009UEAZ84', 'B000I42QO6']\n",
      "A20H1M28WLI9J2 ['B005KQ0S8S', 'B00180LGX6', 'B0002L5R78', 'B001B96HLU', 'B000GOUE7Y']\n",
      "A4S2WAQVQR6PI ['B002YU83YO', 'B0006I1TRY', 'B001CB0RSG', 'B0019X20R8', 'B0028R3NCU']\n",
      "A3NEAETOSXDBOM ['B000F9YN22', 'B004GF8TIK', 'B0000668YX', 'B001TH7GUK', 'B001GIOQBE']\n",
      "A3QQGPI3CTV9SX ['B000L7INLU', 'B000HJPK2C', 'B000LU8A7E', 'B004OOODPG', 'B000WS5VNQ']\n",
      "A240FRPD4MEXND ['B00DTZYHX4', 'B00834SJSK', 'B007OY5V68', 'B00GO1UV4E', 'B003X26LYG']\n",
      "A1MRRMHGV3PN5W ['B000N99BBC', 'B00FG38L16', 'B00829THEG', 'B001S2PPT0', 'B003HIXOOG']\n",
      "A3PJJTAKISAFI9 ['B004QVPGXK', 'B00824948U', 'B0056KEPVO', 'B002GU5XKE', 'B006SOLITY']\n",
      "AMFXXAOVV4CPJ ['B001QUA6RA', 'B0056IB3DY', 'B008MDSWI4', 'B00005TQKQ', 'B003CP0KCS']\n",
      "A3V2EZ6MA32FF6 ['B002S53LJ2', 'B008LCYIEI', 'B002FB684E', 'B00A9NE84C', 'B002FB7IX4']\n",
      "A2RWHTNM5P3I8Y ['B005HSDLCO', 'B004XZHY34', 'B003DTLV8K', 'B00829TIEK', 'B009HQCAPQ']\n",
      "AM9APPMIE1BHZ ['B004S4R5CK', 'B001OOZ1X2', 'B004CLYEDC', 'B00CD1FB26', 'B00ESYW40S']\n",
      "A2WXURU33RBGQS ['B00B4GGW5Q', 'B001EH8FZA', 'B00505EZZ6', 'B000AL7A0C', 'B002Q7IKYS']\n",
      "A28I5UM0FT3I6T ['B00CPGYNV4', 'B008MDSWI4', 'B003WV5DJC', 'B00006HOAQ', 'B007JPVT8G']\n",
      "A3QU3O79AGNWCY ['B001W26TIW', 'B0002HBOMO', 'B000E5CYW8', 'B00007E7JU', 'B00004WCID']\n",
      "A12EVK82QUTSA6 ['B003ES5ZUU', 'B002YU83YO', 'B007PTCFFW', 'B002WE6D44', 'B001KB6Z2U']\n",
      "A2DKQQIZ793AV5 ['B009USAJCC', 'B007WTAJTO', 'B004XW2NEW', 'B00GO4GMAI', 'B00AHBKW2S']\n",
      "A359MYLPLEOF7N ['B009NE7B06', 'B00067OLOS', 'B0056BPUQC', 'B00006I5SQ', 'B009YONZEG']\n",
      "A2QDOJFFLFGF18 ['B001TH7GVE', 'B0002L5R78', 'B0007Y79AI', 'B004CLYEH8', 'B005DOUJL8']\n",
      "A27T4RQ3XA661C ['B009F1I1C4', 'B0068ALV8Q', 'B00FGOTBQO', 'B005HSDL4M', 'B004T1YAEI']\n",
      "A2EN82VBJT44QP ['B00017LSPI', 'B00BT7RAPG', 'B005HQ50SO', 'B00426C56U', 'B001PIBE8I']\n",
      "A3SRDVCD2ATIIS ['B003ZSHNGS', 'B000JMJWV2', 'B007I5JT4S', 'B005TUQU00', 'B00385XUG0']\n",
      "A18YMFFJW974QS ['B00E1CZRHY', 'B00DUKJ5CQ', 'B00E6N9GS4', 'B0013IWYHU', 'B00CSDMWGW']\n",
      "A11T807LX2EF00 ['B00BOHNYU6', 'B001QUA6RA', 'B004CLYEDC', 'B0007LJHVA', 'B009SYZ8OC']\n",
      "A1DB5QPH7WO488 ['B0012Y6HC8', 'B000N99BBC', 'B004QK7HI8', 'B007VL8Y2C', 'B000EW8074']\n",
      "A14MZJTZAQS6CV ['B005L38VPC', 'B007FGYZFI', 'B007WTAJTO', 'B00011KM38', 'B00B4GGW5Q']\n",
      "A3V8P0O224OBDB ['B001OC6DCW', 'B002QEBMAK', 'B005G3066Y', 'B003ZDLATE', 'B0001JSSLI']\n",
      "AGYH5U11ZKPFB ['B006U3O566', 'B002MZUNXU', 'B0002GX0ZE', 'B003X7TRWE', 'B005KSAG3S']\n",
      "AG8YP2XTC5X1I ['B002WE6D44', 'B005H3Q57M', 'B00B5HE3UU', 'B009NHAEXE', 'B004UM7124']\n",
      "A33GNK4YENACDJ ['B0058G40O8', 'B000AYJDD6', 'B000EITTLE', 'B00B3YSTI2', 'B00B5HE3UU']\n",
      "A14JBDSWKPKTZA ['B000N99BBC', 'B00IX2VGFA', 'B000BPRGK6', 'B001TH7GVE', 'B0036WT3TS']\n",
      "A2RGA7UGAN3UL7 ['B000OGX5AM', 'B00483WRZ6', 'B000067RT6', 'B003ZSP0WW', 'B004PYD9I2']\n",
      "A2RG1B0K8YBJ4A ['B002YU83YO', 'B000UIA6YM', 'B005HXEPI8', 'B005JRGOCM', 'B000W3QLLW']\n",
      "A2KZOIOFXXMC1H ['B002BH3Z8E', 'B00125Y0NU', 'B009NHAF5G', 'B0009HTB0Y', 'B009NHAEXE']\n",
      "A21INUA35HX4XQ ['B0052SCU8U', 'B007R5YDYA', 'B001E1Y5O6', 'B003DWXST2', 'B001CBFTFM']\n",
      "A303SNZ4AR7TDQ ['B007SZ0EHE', 'B0036Q7MV0', 'B005LIDU5S', 'B005869A16', 'B0002SQ2P2']\n",
      "A35HOUWHAYZZN6 ['B00E9YIFKA', 'B00829TIEK', 'B001TOD7ME', 'B002TLSOGA', 'B007GNN0AG']\n",
      "AOJA1LC8PN7K1 ['B002RWJHBM', 'B0002MQGRM', 'B00005T3BD', 'B0001GNJWY', 'B0007LZGD8']\n",
      "A3QMJMTLJC34QC ['B005KFONIU', 'B000BQ7GW8', 'B005ELBSWO', 'B000652M6Y', 'B001FA1O18']\n",
      "A1YE1IK0JYSIIE ['B001TH7GUU', 'B00D18U63O', 'B0076POAJE', 'B00EB7812C', 'B007FELOZO']\n",
      "AVU1ILDDYW301 ['B00310PJM0', 'B00GHY5F3K', 'B004HCO4GI', 'B0045XV2CI', 'B005O0R99Q']\n",
      "AAW7X3GRD8GY9 ['B008C1JC4O', 'B000CRFOMK', 'B000EHCYBC', 'B0054JJ0QW', 'B000227PLS']\n",
      "AGEWOMQ90BV8R ['B0012W7HQK', 'B0014Z29OU', 'B00603RTC8', 'B00A47U22U', 'B002N8JJ04']\n",
      "A20951I210L0IB ['B005K7192G', 'B007PPZ2I8', 'B005CT56F8', 'B009GF6F9U', 'B001TX9P6W']\n",
      "A1ZM846Y7AUYD ['B000TKHBDK', 'B0008D76L0', 'B0002JY712', 'B000JLP5UK', 'B0000CCVC9']\n",
      "A34C9AFFZOI45T ['B000PCX780', 'B004BLIQDC', 'B00305N48C', 'B001RBXV20', 'B003WV5DJC']\n",
      "A3U6J0DLLDEWM2 ['B007R5YDYA', 'B002DMKPQ2', 'B00829THK0', 'B00B3329WA', 'B002YIG9AQ']\n",
      "A3VTOLNB5N6FVP ['B00546JKJC', 'B00634PLTW', 'B007X3VC7W', 'B00COEBCXY', 'B000A3WS84']\n",
      "A3FFZQKCA7UOYY ['B001TH7T2U', 'B002JQNXZC', 'B0019EHU8G', 'B000OGX5AM', 'B008UGPBXM']\n",
      "ADHA1W879JNT0 ['B001TH7T2U', 'B000FQ2JLW', 'B006U3O566', 'B0000DZET4', 'B0019EQ1RW']\n",
      "A18EA7MNLXP9H5 ['B000067RT6', 'B000UHQVOW', 'B003VAHYNC', 'B002Y6CJJ8', 'B0098FSJ92']\n",
      "A2I357I10ZY7CI ['B001TH7GUK', 'B001F51G16', 'B003SQEAY0', 'B0009BX0AM', 'B0093H4VBU']\n",
      "A1X2LENOF84LCQ ['B001TUYTZM', 'B0055QZ216', 'B0000A2QBX', 'B00884WH74', 'B0039BPG1A']\n",
      "A3DOPYDOS49I3T ['B002K9IHGI', 'B009A6CZ30', 'B000BOLHH0', 'B000EOMXM0', 'B000QUUFRW']\n",
      "A2YHXGPCTENZY3 ['B0001WW3F2', 'B007FEFQDA', 'B0013FK9U2', 'B000JLI4Q2', 'B0000UV0JA']\n",
      "A1VRANSQ0WF1YS ['B0010Y414Q', 'B0007A1IRC', 'B000QJ4ZE2', 'B001WGX15W', 'B00006I53S']\n",
      "A3DGJMO6VPG6FJ ['B000N99BBC', 'B00EO302SO', 'B003ES5ZUU', 'B003QKBVYK', 'B009B0MZ8U']\n",
      "A2PICNZWHEINQC ['B008EQZ25K', 'B005HVPYNU', 'B009SYZ8OC', 'B005OL2ID2', 'B00E055H5O']\n",
      "A1WJ3P43SZUNDM ['B000067RT6', 'B001FVI91U', 'B0013CED4I', 'B00ALK3HF4', 'B00310K9VQ']\n",
      "A1MRPX3RM48T2I ['B001TH7GSW', 'B000VE2RP6', 'B00H09BOXQ', 'B00BEWF4R2', 'B00ER52ES0']\n",
      "A3CIET1UO3G51E ['B0043WJRRS', 'B0081SS5C8', 'B001G445Q4', 'B000652SZO', 'B003M3A1BK']\n",
      "A12O5SEIF162P8 ['B001E1Y5O6', 'B000XUMR6C', 'B000JLK5NW', 'B007ABIY4Q', 'B000E5GGQI']\n",
      "ARX7Z3NI6O0F7 ['B002NEGTTW', 'B000AZ57M6', 'B0093HKFYW', 'B0007Y791C', 'B009D79VH4']\n",
      "AIJQU979J6UFY ['B00BOHNYU6', 'B001T9NUJE', 'B000HPV3RW', 'B00834SJSK', 'B005HY4U46']\n",
      "A2QRXQPHDMFCQV ['B009NB8WR0', 'B000N99BBC', 'B001OI2Z4Q', 'B00FJRS5BA', 'B008HO9DK4']\n",
      "A2VH0UT5EQFB6P ['B005EJH6Z4', 'B00CDS9HTM', 'B007X3VC7W', 'B000BI2162', 'B001S0PWWC']\n",
      "A25TNBMJ4ZO7RD ['B00IVPU786', 'B0055PH0XA', 'B003NSC2WU', 'B0056QBXKY', 'B001V3B8YC']\n",
      "A1PI8VBCXXSGC7 ['B00DTZYHX4', 'B009X01C64', 'B0062XB9FE', 'B00G4UQ6U8', 'B000Q8UAWY']\n",
      "A32T2H8150OJLU ['B003ZYF3M8', 'B004V4IWHY', 'B000ZMCILW', 'B00829TIEK', 'B003HIXOOG']\n",
      "AZAC8O310IK4E ['B003ZSHNGS', 'B00426C57O', 'B009SYZ8OC', 'B001FWBUUG', 'B003BLQHN4']\n",
      "A3DL29NLZ7SXXG ['B001IANWCO', 'B0072NPFH6', 'B00D1847NE', 'B00CROTNGO']\n",
      "A1JUBRIZMO0RJV ['B002P3KH80', 'B00CD8ADKO', 'B0007Y798U', 'B008LCYIEI', 'B004GUT1QO']\n",
      "A24QFMD1RXLJMB ['B004VM1T5S', 'B001AW8W7A', 'B000V7AF8E', 'B002ISXBFI', 'B000JQ17WK']\n",
      "A1SC5OXLQNGPLN ['B0019EHU8G', 'B0007U00X0', 'B000KJQ1DG', 'B0011NVMO8', 'B006TAP096']\n",
      "AZCE11PSTCH1L ['B004J3V90Y', 'B00003CWDH', 'B005869A16', 'B000V0IE6G', 'B0040JHMIU']\n",
      "A22NKFOH9RATRC ['B004286VMW', 'B00029U1DK', 'B007RMAS1K', 'B005058B56', 'B009RVYEZ0']\n",
      "A1N5FSCYN4796F ['B0015L0T68', 'B005DSPLCQ', 'B000W09ZTK', 'B002Y6CJJ8', 'B00CE590Z0']\n",
      "A26LD9FQHTM8ZH ['B00BF9MUAS', 'B004Q3R9B0', 'B005HMKKH4', 'B00GO1UV4E', 'B006K551TO']\n",
      "A1E1LEVQ9VQNK ['B005GI2VMG', 'B003ES5ZR8', 'B000VX6XL6', 'B00CPGYNV4', 'B000HZGQ9C']\n",
      "A3CKI6VEH0HBMJ ['B00829THVO', 'B001NTFAOS', 'B004SBBD8U', 'B000NDA5E0', 'B000I04WWY']\n",
      "A25UZ7MA72SMKM ['B003DZJQQI', 'B003CFATT2', 'B00065ANYW', 'B006ZH0KVG', 'B0018LX0DY']\n",
      "A30ADSBTWCORYC ['B0002L5R78', 'B0081SS5C8', 'B00604YSNK', 'B0056KEPVO', 'B004AB4Z10']\n",
      "A1REY92IEZJUSX ['B000053HH5', 'B0010HE2CY', 'B002W3IXZW', 'B00A35WYBA', 'B00009R6WO']\n",
      "A298GL2D0BHGKZ ['B003ES5ZUU', 'B0015AARJI', 'B00001WRSJ', 'B000S5Q9CA', 'B004HHICKC']\n",
      "A19RW25Q6206I3 ['B007WTAJTO', 'B002NO7PWC', 'B003ZUXXVU', 'B000OFSN4G', 'B003N2POXK']\n",
      "A1ATVMMJZP3Q4X ['B003EYVHH4', 'B0039XQQX0', 'B00007E7JU', 'B0015PKGH6', 'B00102T3VY']\n",
      "ABSYIF0ONC2AF ['B003ES5ZUU', 'B002YU83YO', 'B0073K64NM', 'B000U5TUWE', 'B00829TIA4']\n",
      "AK9BXHEXOOM6Z ['B006EKIQYM', 'B0001FTVE0', 'B00000J1UQ', 'B002HFER6O', 'B004LU1U2M']\n",
      "A2X78O6G89CB30 ['B003ES5ZUU', 'B001VL572I', 'B000KZ70JE', 'B0049HKKPK', 'B002K46DDC']\n",
      "A1CST2WUA32GP0 ['B0000X0VCY', 'B003ES5ZUU', 'B000HPV3RW', 'B007SM7O2U', 'B005HXFARS']\n",
      "A23GFTVIETX7DS ['B00IX2VGFA', 'B003DZJQQI', 'B000TKHBDK', 'B001EYV9TM', 'B005OA24PU']\n",
      "A2ED50E3KWKUKW ['B00004XOM3', 'B00003CWDG', 'B0046TDJJK', 'B0015VW3BM', 'B000JLK5PK']\n",
      "ANEDXRFDZDL18 ['B0071BTJPI', 'B009NHWVIA', 'B001ELK2NY', 'B00829THEG', 'B00EOI2SR2']\n",
      "A2GYV87WW0DMSN ['B003ES5ZUU', 'B001E1Y5O6', 'B008EQYRRY', 'B00D856NOG', 'B000FIDTYG']\n",
      "A1G650TTTHEAL5 ['B00G4UQ6U8', 'B00G4V0QSK', 'B009UNZ5WQ', 'B00A628QYE', 'B00AYQ433U']\n",
      "A361M14PU2GUEG ['B000QUUFRW', 'B000MX48VM', 'B002JQNXZC', 'B0015AARJI', 'B00009R6K7']\n",
      "AKT8TGIT6VVZ5 ['B0007WK8KS', 'B00BOHNYTW', 'B000BY52NK', 'B00004XOM3', 'B000EOSHGQ']\n",
      "A1X3ESYZ79H59E ['B004CLYEFK', 'B00829THEG', 'B007KZQM9G', 'B008ULPE70', 'B005I6EVUG']\n",
      "A257X1MQJO82P2 ['B004W2JKWG', 'B009NHAEXE', 'B001GCU0MY', 'B008EC4O76', 'B001DYC0CS']\n",
      "A2KHG3JOFXQ4CE ['B000RZQZM0', 'B0009ON12G', 'B000TKHGL2', 'B003B20F54', 'B0031RG29M']\n",
      "A1VTCSCH8FFC76 ['B002WE6D44', 'B002669XKY', 'B003FWEQDM', 'B002KG6HZO', 'B000058EGT']\n",
      "A1H6SBO7R007I8 ['B008ALA6DW', 'B005JLQL26', 'B002MUAEX4', 'B009QV72VY', 'B006ZH0J30']\n",
      "ANYC38I00IRVK ['B00A83I8G2', 'B0058P0I2C', 'B003MX4D0U', 'B004C9P9TM', 'B00BHC7ZT4']\n",
      "A2X61KKXXR6WNP ['B0089E5R0W', 'B000J43HJ8', 'B001DJ64C0', 'B0000AKVHF', 'B001F7HLRC']\n",
      "A2HDTOF8222KN3 ['B003O1UYHG', 'B007BYLO4E', 'B0007LCKJQ', 'B0009WU65I', 'B00AWKC0EC']\n",
      "A225G2TFM76GYX ['B000NP3DJW', 'B00119T6NQ', 'B0034CL2ZI', 'B00871SR68', 'B001GJADP6']\n",
      "A32AFX2PUJ82HG ['B00029U1DK', 'B00001WRSJ', 'B005GGTTZ0', 'B003LZYXYU', 'B0049SCB2Y']\n",
      "A1R19YYR5OR26T ['B004ELA0SS', 'B003X7TRWE', 'B002WP2QGM', 'B003DZJQQI', 'B007B31IAK']\n",
      "A1D9V11QUHXENQ ['B004LSNF04', 'B00475K64E', 'B00GHY5F3K', 'B000067SMH', 'B000UD6E48']\n",
      "AFQBS241UKPAZ ['B006ZBWV0K', 'B0094S35W4', 'B00BFO14W8', 'B003XM73P2', 'B0007Y79E4']\n",
      "A34CKIMZ969UW7 ['B005HKIDF2', 'B0055QZ216', 'B001S2PPT0', 'B001XURP7W', 'B0030F5ND6']\n",
      "A3CLWR1UUZT6TG ['B005NC8BF6', 'B006QB1RPY', 'B0093HGD2K', 'B005J4C820', 'B0036WT4JW']\n",
      "A3JLOIXFM75QNV ['B00IKF2H12', 'B005DOUJL8', 'B00083XXTY', 'B0001F21IS', 'B001UHOX2I']\n",
      "A1RDHBBZE1NPS3 ['B00BGA9WK2', 'B003ES5ZQE', 'B00IAKLM54', 'B00BQ5RY1G', 'B001AMSPQI']\n",
      "A3UR2N0ATGBCU8 ['B006QB1RPY', 'B005B3VO24', 'B00G0MP05W', 'B009HP42HQ', 'B00CXACPN0']\n",
      "A3JU990UTN5RQP ['B009JZ09PI', 'B003VSTDFG', 'B001TGUYI2', 'B004R6J2KW', 'B002LITI8E']\n",
      "AGX2K0FMS0IVL ['B002WE6D44', 'B007WTAJTO', 'B00008WIX5', 'B000YB862E', 'B004I5ERUW']\n",
      "AL5CUWBFBMWYQ ['B000FITKK8', 'B001B8EOMU', 'B000K52CY2', 'B00023JJV6', 'B007JUFKLI']\n",
      "AAA0TUKS5VBSA ['B005IMFX2K', 'B00CD8ADKO', 'B00E87E1OM', 'B002TLTE6Y', 'B0079UAT0A']\n",
      "A2Z9S2RQD542CP ['B001F7AHOG', 'B002VPE1WK', 'B0047PGSI2', 'B001D60LG8', 'B000HDZAUA']\n",
      "A1KSNK256G46GX ['B0020ZDI5C', 'B004GW25WY', 'B00CTUIT20', 'B001VO4MOY', 'B00752R9PK']\n",
      "A2Q7OJTVPIO2XH ['B00017LSPI', 'B0043WJRRS', 'B00004ZCJE', 'B0090QXFP2', 'B00ATM1MVA']\n",
      "A1QNYLBG73QRNF ['B002FB684E', 'B00AANMVNQ', 'B0006B486K', 'B000092TT0', 'B000NB05MO']\n",
      "A1JBEKU5TYIWE7 ['B0019EHU8G', 'B005J7YA4G', 'B0051PMWY6', 'B0013AV4M4', 'B000IMSK8Y']\n",
      "A3EPJSPH03AS29 ['B009F7IBZK', 'B000EPNES6', 'B00013MSUQ', 'B001FVLTNA', 'B005FRI50K']\n",
      "A2D1ZQEFS1NBH2 ['B000E6G9RI', 'B0074BW614', 'B004HHAE9Y', 'B005J2E2US', 'B008GVM9K4']\n",
      "A3NVZTGPORNPRW ['B004S4R5CK', 'B002QAUN2M', 'B003VAK16O', 'B000EW2XQ8', 'B001QUA6R0']\n",
      "A28X0LT2100RL1 ['B002WE4HE2', 'B001TH7GUU', 'B003ES5ZSW', 'B003NREDG4', 'B00009R9A1']\n",
      "AELK0E5DK7LIZ ['B00COF7DGS', 'B00BOHNYU6', 'B006EKIQYM', 'B000N99BBC', 'B0034CL2ZI']\n",
      "A10X9ME6R66JDX ['B002YU83YO', 'B0052SCU8U', 'B002V88HFE', 'B0012GK3MQ', 'B00483WRZ6']\n",
      "A7EU2BWLLCJY2 ['B003FMUMN0', 'B00FSA8VQ2', 'B000HDJT4S', 'B0058FAYPI', 'B007E2M3SY']\n",
      "A3PGVJF37JSHFO ['B005LDLP8W', 'B001V9KG0I', 'B00029U1DK', 'B00A9NE84C', 'B000N5PYQM']\n",
      "A2XJMQ2COPGWJH ['B0019EHU8G', 'B0000B006W', 'B001NPEBEC', 'B004X6ABTM', 'B003YH9DWC']\n",
      "A38QEATH3NODFM ['B000204SWE', 'B000BONJXU', 'B00142MUEM', 'B000BT2PZS', 'B000EHCUIE']\n",
      "A2LB4FLRZG6CUV ['B005OA3BSY', 'B00426C57O', 'B001GCVA0U', 'B003XU6H8I', 'B00BQ4F9ZA']\n",
      "AD9ZL63H0VKCZ ['B009DJ1OFY', 'B00APQA572', 'B009YE462G', 'B008B488DI', 'B003XCDA9A']\n",
      "ALUNVOQRXOZIA ['B002TLTG9E', 'B000050NON', 'B000EVS4YE', 'B009PK9SA4', 'B004HYG9XC']\n",
      "A2LF16F0KX9L7P ['B00DT04I9W', 'B00JC5Y6WM', 'B00B3PDHBU', 'B002AEU3EW', 'B00834SJNA']\n",
      "AGHZXQL9F94T9 ['B000BFNT0W', 'B0000645C9', 'B0002ZAEYA', 'B0007VMROE', 'B0001KWGP6']\n",
      "A2SPV96SGOEO2 ['B002NEGTTW', 'B00BP5KOPA', 'B00CB2F65O', 'B00CI3BIWQ', 'B000JE7GPY']\n",
      "A33XMCG1UFDSY2 ['B000TKHBDK', 'B0014Z29OU', 'B000TXEE14', 'B008OHNZI0', 'B005DLDO4U']\n",
      "A3284KYDZ00BZA ['B00BOHNYTW', 'B000N99BBC', 'B006EKIQYM', 'B009F7IBZK', 'B00EO302SO']\n",
      "A3IMALU0RM8UT9 ['B000QUUFRW', 'B003FVVMS0', 'B006LW0W5Y', 'B003FVJYF8', 'B004YDUZ22']\n",
      "A2JAEZ0FMAMJVW ['B0034CL2ZI', 'B005JLQL26', 'B00C4Q61Z6', 'B0002SQ2P2', 'B00IVPU7DG']\n",
      "A3J3ZHGDUDPCFL ['B00D96LZ6K', 'B0088CJT4U', 'B0016P5ASK', 'B003E49GRC', 'B000RZUV9S']\n",
      "A3QAO3QBCQF89T ['B000N99BBC', 'B003X26VV4', 'B002SY5GRS', 'B008C1JC4O', 'B002MCZJ3C']\n",
      "A3EQQHWJ1EEYEU ['B004G6002M', 'B00354MVP0', 'B000R0FG5W', 'B0068LACFI', 'B008MPB9YQ']\n",
      "A2ALRZ0ENQLYY5 ['B002V8C3W2', 'B00AAIPT76', 'B00005T3G0', 'B002VPE1Q6', 'B0041OYS36']\n",
      "ATFBVUXDIRXT6 ['B00B588HY2', 'B00829THEG', 'B00310PJM0', 'B003WOWB5S', 'B000HPZ97W']\n",
      "A1P4XD7IORSEFN ['B00003CWDH', 'B003GAJ67Y', 'B000IMDPS4', 'B006OS71TA', 'B002XISRJS']\n",
      "A3QD59N3M7O7KB ['B004CLYE8C', 'B00316263Y', 'B0036Q7MV0', 'B000N99BBC', 'B003WJR69E']\n",
      "A1Z7SC7HH1BJKA ['B0000VYJRY', 'B000M2GYF6', 'B0034CL2ZI', 'B002YIG9AQ', 'B0064I1NRG']\n",
      "A3TBMGNSEQBWIL ['B004CADY9I', 'B004V93U26', 'B000LRMS66', 'B004R7A9NU', 'B009K6GQEY']\n",
      "A2LFWJ8X817QGX ['B002WE4HE2', 'B00BGA9WK2', 'B004QJ9JLW', 'B006QB1RPY', 'B004LGNB0A']\n",
      "A1CMWB7AWQUQH4 ['B002BH3Z8E', 'B002G1YPH0', 'B009ZIILLI', 'B009H0XQPU', 'B0056G10WK']\n",
      "A1EOTB1WHLSW6G ['B000ABB4HC', 'B004M8SWBU', 'B002K450QI', 'B002XN3OL4', 'B00829THH8']\n",
      "A2RTVGR9B1M600 ['B002Y6CJJ8', 'B000I20AJ6', 'B000093UDQ', 'B000BH5OW6', 'B002Z2QDNE']\n",
      "A2TA40MV2H4O6F ['B00007GQLU', 'B007BXD66E', 'B00007E89K', 'B007477COO', 'B00009XVA3']\n",
      "A1WXG10FJ353K0 ['B00AJHDZSI', 'B00HFRWWAM', 'B0090Z3QG6', 'B0090IA4FO', 'B00BWF5U0M']\n",
      "A19XMHRB3G4DIR ['B004CLYEFK', 'B005HY4U46', 'B000W09ZTK', 'B0079UAT0A', 'B00155RGYM']\n",
      "A1FXT4VNDA25LY ['B0000BZL1P', 'B000CKVOOY', 'B004AGX4YO', 'B003U6Y1OC', 'B0041Q38NU']\n",
      "AN2IZT80ZUNJN ['B004TJ6JH6', 'B003EHCBDA', 'B005TUQU00']\n",
      "A26CPEEWB2WKRE ['B003XIJ3MW', 'B00829TIA4', 'B0091PEC3Q', 'B00004W3ZQ', 'B00011KHTM']\n",
      "A33PVCHCQ2BTN0 ['B001TH7GSW', 'B00829TIA4', 'B00829TIEK', 'B002Y6CJJ8', 'B000TXNS6G']\n",
      "A2J8T58Z4X15IO ['B003CFATT2', 'B00D429Y12', 'B00CB2F65O', 'B000N99BBC', 'B00ATM1MHO']\n",
      "A35HNL2VEDK9Z1 ['B000VDCT3C', 'B000VDCTCI', 'B0099XGZXA', 'B006TAP096', 'B005A0ETXY']\n",
      "A2QIC4G483SQQA ['B005H3Q57M', 'B0049PQTLQ', 'B00596CP9E', 'B0042IEVD8', 'B008RJZQSW']\n",
      "A3IOQ7NVVLAUEE ['B001TH7T2U', 'B000IF51UQ', 'B000I20AJ6', 'B000V0DY70', 'B000NPZ4D0']\n",
      "A2JP9E1H0SF392 ['B00009EHJV', 'B000CKVOOY', 'B0002SQ2P2', 'B004JMZPJQ', 'B000E6NGBU']\n",
      "A26877IWJGISYM ['B004YLCKYA', 'B005QUQPDA', 'B003AM8S3G', 'B004UKRRD4', 'B00114162K']\n",
      "A2T3S3VTW65VO5 ['B001TH7GUU', 'B0034CL2ZI', 'B00212NO6W', 'B0018BQR84', 'B000VWKSFE']\n",
      "A23D13HKTA95WX ['B001MSU1FS', 'B004IZN3K2', 'B000CRFOMK', 'B0063K4NN6', 'B002UVNW5W']\n",
      "AGLT3L7ALL4O4 ['B00316263Y', 'B003S6AXVO', 'B000VZS2EU', 'B005PYD2RE', 'B000L47AHG']\n",
      "A3U5HKDHPYBAK3 ['B00316263Y', 'B0019EHU8G', 'B006LW0W5Y', 'B00DQZQPNM', 'B00313JXE2']\n",
      "A1V3TRGWOMA8LC ['B00JC5Y6WM', 'B00DTZYHX4', 'B0082E9K7U', 'B00E87E1OM', 'B0001CNMFM']\n",
      "AKSFZ4G1AXYFC ['B0046TJG1U', 'B008XV7VTG', 'B000068O16', 'B000CNPK3M', 'B000068O3T']\n",
      "A35C2IVVQR1HTK ['B004RORMF6', 'B0002Y5WZM', 'B00139W0XM', 'B0002HA7FY', 'B003AJXUTQ']\n",
      "A2RGWCT6K2C3EZ ['B00HYAL84G', 'B001RNOHDU', 'B004MTE7EK', 'B005NGKR54', 'B003Y5FRNS']\n",
      "A1MJMYLRTZ76ZX ['B000021YUO', 'B00005AWCL', 'B00004RC2E', 'B000GABVOS', 'B00005AWBJ']\n",
      "A22R9L5DAVYYWR ['B002WE6D44', 'B00007KDVK', 'B0002MSTW2', 'B001IEXU68', 'B002IOT5PW']\n",
      "A2TVH2OBNXYXHV ['B00HFRWWAM', 'B004GUT1QO', 'B00486UR2I', 'B001GAOYCS', 'B00FA4Y7N2']\n",
      "A2FSOHSM9X13JT ['B0045KGZOG', 'B000HJPK2C', 'B0036AWR8E', 'B0060B7NCG', 'B007RZB3KM']\n",
      "A1LHMSY3Q46PJS ['B005HARR2W', 'B000VWOKQM', 'B00D601UC8', 'B003MB0YDC', 'B006K55662']\n",
      "A1U4GOVZWL8ZTL ['B005LFT3GG', 'B0079M711S', 'B000XX7XWW', 'B008V9959O', 'B007BY3PBE']\n",
      "AGJRUK27RBVYS ['B00FG38L16', 'B007ZZ6OW6', 'B008HK3QII', 'B009JPBPWO', 'B003RAE19Q']\n",
      "A2OBDNQ5ZYU1L8 ['B004286VMW', 'B00BOHNYU6', 'B0019EHU8G', 'B0082E9K7U', 'B008DVMRXG']\n",
      "A1H55L0BLPCWYF ['B000QUUFRW', 'B00BP5KOPA', 'B00489SLEQ', 'B003USPOLO', 'B000NB05MO']\n",
      "A3O1FVLUD9X1XC ['B004QBUL1C', 'B001F7AJKI', 'B00461E7JE', 'B0057FRTPW', 'B0080I06WQ']\n",
      "A1TQBAHI3M4ZBQ ['B000JMJWV2', 'B000CRFOMK', 'B0007A1IRC', 'B002V88HFE', 'B00020S7XK']\n",
      "A20L63B48RPSOH ['B002TLTE6O', 'B003LSTD38', 'B005IHAIC0', 'B002TLTE7I', 'B002AEU3EW']\n",
      "A3CJOB7CHOSZUG ['B000FQ2JLW', 'B005NGKR54', 'B002WE4HE2', 'B001KB21KA', 'B005O81U9S']\n",
      "A2VODABWSVHV8E ['B00005LEN4', 'B005FYNSPK', 'B004RE5ZCI', 'B009SK57IS', 'B000H02B6O']\n",
      "A2QI2NTDTMK2FV ['B000N99BBC', 'B001EYV9TM', 'B004CLYEDC', 'B003X7TRWE', 'B002UVNW5W']\n",
      "A226VGZWOEBPGL ['B000N99BBC', 'B002TLTE6Y', 'B002TLTE6O', 'B00834SJSK', 'B009WG6JF8']\n",
      "AL42PIIG5DXYD ['B001OOZ1X2', 'B001QUA6R0', 'B000AAN76Y', 'B004HKIB6E', 'B003D1606G']\n",
      "A15U64VGUV6RBF ['B004Q3R9AQ', 'B003ES5ZR8', 'B00CPGYNV4', 'B005JACJ50', 'B002669XKY']\n",
      "A7EJERNB7IK3Z ['B002Y6CJJ8', 'B000RY2PLQ', 'B000UIA6YM', 'B0001FTVE0', 'B0012Z4QXO']\n",
      "A1B0NL8UWAELI7 ['B000NP3DJW', 'B000BVC0WO', 'B004UTQRHW', 'B002JP92K8', 'B000CD6B6W']\n",
      "A12DQZKRKTNF5E ['B001TH7GUU', 'B000VX6XL6', 'B004GF1PC2', 'B00DK2JQOQ', 'B009SYZ8OC']\n",
      "A2OT3PDH1AWLTG ['B004NBZ98K', 'B003NZSX7G', 'B00AWKBZ16', 'B000PCH3FI', 'B000F8DBF8']\n",
      "A1R3GN9MEJFXM3 ['B009USAJCC', 'B001QUA6RA', 'B004VEJYEO', 'B00000JDF5', 'B0023NVS30']\n",
      "A3L1VJMHFWONCB ['B000HPV3RW', 'B002V88HFE', 'B004RORMF6', 'B0054YQO5C', 'B008ZGKWQI']\n",
      "A27B1U3OWCU14J ['B0001G6U4S', 'B00007IFED', 'B005HSDLCO', 'B00160TYR8', 'B000NZVR3Q']\n",
      "A3KCETSIJNOK56 ['B000067RT6', 'B0054YQO5C', 'B005UNFRU0', 'B003GU1028', 'B001QWWXA6']\n",
      "AG0PM9IAHQ06C ['B001CCLBSA', 'B008TLQ5RY', 'B005KJH8WO', 'B003HC8V9A', 'B000CS40WY']\n",
      "AKX9EQ37PAYMY ['B00029U1DK', 'B0045KGZOG', 'B0002L5R78', 'B000UEZ36W', 'B00011KM38']\n",
      "A10Y058K7B96C6 ['B00017LSPI', 'B001I45T9O', 'B001QUA6RA', 'B004VM1T5S', 'B0036AWR8E']\n",
      "A84FLVDK2R5JF ['B007ILFFS6', 'B002TLTE6O', 'B004ROOCO0', 'B0090IA4FO', 'B002C1BHIO']\n",
      "A13WREJ05GMRA6 ['B000MX48VM', 'B0044XTJ10', 'B005UBNKWO', 'B0015ACUKC', 'B0053YM70Y']\n",
      "ABMF4UC4Z00NT ['B001V9KG0I', 'B001PIBE8I', 'B007WTAJTO', 'B000FFRZ1W', 'B00392CI7E']\n",
      "A2NSXY5L42ZUGO ['B0012IJYZQ', 'B000092TT0', 'B001E1Y5O6', 'B001ELK2NY', 'B002LTWDSK']\n",
      "A74UT8IQCM0I2 ['B000092TT0', 'B006U3O566', 'B00DKBU5W4', 'B00E055H5O', 'B008RM235I']\n",
      "A267FU71Z01CIH ['B004CLYE8C', 'B009X01C64', 'B00EOI2SR2', 'B00ISRUFSY', 'B00829THK0']\n",
      "A2WBVO6X3KPMDT ['B005GGTTZ0', 'B003FVJYF8', 'B008M9U3BM', 'B0061RJSWC', 'B004Z94BA2']\n",
      "A1CSRR7FCKBL9M ['B000CKVOOY', 'B0034CL2ZI', 'B005NGKR54', 'B00CXACPN0', 'B001LYUG3A']\n",
      "AKCZIJ6ZHE41D ['B0019EHU8G', 'B000V1XICU', 'B0015EA3NO', 'B004CADY9I', 'B000WOIFO2']\n",
      "A2NX6PABLIJLP1 ['B007R5YDYA', 'B003LZYXYU', 'B0009S5HQA', 'B002B3YCQM', 'B00013BNLQ']\n",
      "A20OBCQWBKCGZT ['B00IVFDZBC', 'B001DJ64D4', 'B0058FAYPI', 'B0043M668G', 'B000E6G9RI']\n",
      "AR1T36GLLAFFX ['B00005NIMR', 'B004Q3R9B0', 'B004H8FNBC', 'B001DZFYPW', 'B004YHXXKO']\n",
      "A3MUSWDCTZINQZ ['B009YQ8BTI', 'B00834SJNA', 'B0057UUB1G', 'B008ULPE70', 'B008ULPA2O']\n"
     ]
    },
    {
     "name": "stdout",
     "output_type": "stream",
     "text": [
      "A314KKDIJWCNMV ['B002V88HFE', 'B004LSNF04', 'B004GF8TIK', 'B00011KM38', 'B004R7P28W']\n",
      "A3F9CMU8KNAY1M ['B001TH7GSW', 'B0079UAT0A', 'B002HWRJY4', 'B00HMREOLK', 'B004SGJCCO']\n",
      "A1V5TRJXTI6F01 ['B002WE6D44', 'B005NGKR54', 'B003LSTD38', 'B0037H8AB4', 'B0064L8Q1E']\n",
      "A54SG05AV6S4H ['B001VEAI74', 'B007SZ0EOW', 'B00001ZWXA', 'B0016P5ASK', 'B0017JY5FE']\n",
      "ASRA2UZ3JV87B ['B001TUYTZM', 'B0028R3NCU', 'B00E3RHS6A', 'B000EWD4TS', 'B001PTH0VW']\n",
      "A3G7BEJJCPD6DS ['B002GP7ZT6', 'B009YT6PPC', 'B00HRQB28Y', 'B007LBOCVY', 'B008X9Z9S8']\n",
      "A3INN916E4VION ['B007WTAJTO', 'B000AY5YI4', 'B001CBFTFM', 'B007PY3ZPG', 'B000JE7GPY']\n",
      "AAEVGE52KL0DJ ['B006EWUOL8', 'B00B5DHZMM', 'B002BH3Z8E', 'B004GF8TIK', 'B00009R6K7']\n",
      "AG2YXYIQ8TLTA ['B001GIPSA2', 'B0055QZ216', 'B002I3OZB2', 'B00F3SIQKK', 'B003X26LYG']\n",
      "A2JE071UW97J2A ['B003CJTQJC', 'B002Y6CJJ8', 'B002NEGTT2', 'B001G5ZTZO', 'B002K4GDGY']\n",
      "A2R6RA8FRBS608 ['B00006IBLQ', 'B000RA7IZS', 'B0012MI7N2', 'B0007SL4IW', 'B000IF51UQ']\n",
      "A2RW587355CMVA ['B007X3VEX4', 'B002SZEOLG', 'B005KSAG3S', 'B005O88CY4', 'B000UY1MB2']\n",
      "A2JKM8KF3296CW ['B009NHWVIA', 'B00829TIEK', 'B00EXK1L38', 'B00GRNUO2I', 'B00E5UHRIO']\n",
      "A3SX5MZTCZRQLF ['B006EKIQYM', 'B001OI2Z4Q', 'B0007QKMQY', 'B00066FH1U', 'B007PJ4P4G']\n",
      "A2Z2MUP8JRJXEU ['B00BXA7N6A', 'B002NEGTTW', 'B001FA1O18', 'B000ID7QNI', 'B004QQXDVC']\n",
      "A20G074MWH9U7O ['B0043WJRRS', 'B00CB2F65O', 'B000QGBC8C', 'B003U7SR0U', 'B000OK6T9W']\n",
      "A2TRXEZYU9GYY8 ['B004YLCBRG', 'B003XM1WE0', 'B00483WRZ6', 'B003ZM7YTA', 'B004G6002M']\n",
      "A2HV76MYH7UL3S ['B007SZ0EHE', 'B006VCP72W', 'B006588Z7G', 'B00EDSI8HW', 'B00BZB0I3W']\n",
      "A506HOOCVL8GW ['B003XM1WE0', 'B00483WRZ6', 'B000G3KLPA', 'B000I1ZWRC', 'B004J3V7RO']\n",
      "A1URXSRV6WDHVY ['B004CLYEDC', 'B003GALRIA', 'B004MSI7UQ', 'B006ZH0KVG', 'B008EQYRRY']\n",
      "AZNUHQSHZHSUE ['B000N99BBC', 'B009UEAZ84', 'B000E6NGBU', 'B000JE7GPY', 'B002XVUTPK']\n",
      "AIFLY2HF8NS8U ['B00829TIA4', 'B00JC5Y6WM', 'B0079UAT0A', 'B00CQ35C1Q', 'B0095P2F1S']\n",
      "AY3XPKRAMKKY7 ['B00005NIMJ', 'B000EVS4YY', 'B000V1XICU', 'B003ES5ZSW', 'B0002ZW5W4']\n",
      "A294BKN913UOGP ['B000HJPK2C', 'B00005LEN4', 'B000VDCT3C', 'B000BQ7GW8', 'B00FP3OX3C']\n",
      "A2SL5IW096Z2BL ['B000TKHBDK', 'B000CKVOOY', 'B002J46IYW', 'B000E6G9RI', 'B003GIJTR8']\n",
      "ALQ4USPEQ9L5N ['B003WUBIZQ', 'B004XNLR16', 'B00F6E8OUS', 'B0077SAYY0', 'B009APBY0G']\n",
      "A2AY4YUOX2N1BQ ['B0033PRWSW', 'B00316263Y', 'B000F7QRTG', 'B00DK2JQOQ', 'B002BU8LIK']\n",
      "AQSV34W54L0VO ['B00E3W15P0', 'B0031ESKJA', 'B0083WYD9Q', 'B0083J8D90', 'B005ARQV6U']\n",
      "A35IX2GE0VC0JP ['B00D6XSRL2', 'B005X64MN2', 'B004BDOGL6', 'B007PRHNHO', 'B00884WH74']\n",
      "ABAPF3XY1W6JX ['B004286VMW', 'B003ZG9T62', 'B00752R89C', 'B000Q8UAWY', 'B003M567V6']\n",
      "ATDQ9CGCWTT8D ['B003X26VV4', 'B0034KO59U', 'B0046RE3M4', 'B007JOO4YS', 'B0001VWHH2']\n",
      "A3SDJ70H00OQCJ ['B002ZLOR56', 'B005CLPP8E', 'B0015F0AB8', 'B004XC6GJ0', 'B000YEMKGY']\n",
      "A1L64KDYO5BOJA ['B0019EHU8G', 'B00DMS0GTC', 'B00180LGX6', 'B00009EHJV', 'B0015L0T68']\n",
      "ASFW4ZMNZJKDA ['B001TH7GSW', 'B003ES5ZUU', 'B004AK154Q', 'B0081TXIQA', 'B003FSTAFK']\n",
      "A2ZR3YTMEEIIZ4 ['B000EVT0XS', 'B000N50S5Y', 'B000GBGPAW', 'B000NKJ2X8', 'B002OB4BK8']\n",
      "A2WC9NFLG57W4H ['B000O8WE66', 'B005A0B3FG', 'B00829TIEK', 'B004HVW0ZQ', 'B0055QZ216']\n",
      "A3SP7T2PZ3HSDE ['B00829TIA4', 'B003CJTQJW', 'B00COEBCXY', 'B001U3Y8O0', 'B000QJ6U40']\n",
      "AG7EF0SVBQOUX ['B000067RVL', 'B0034CL2ZI', 'B000F7QRTG', 'B000WOIFO2', 'B001TZUS98']\n",
      "A1GQRGB8FGSLIZ ['B003ES5ZUU', 'B000N99BBC', 'B00E055H5O', 'B00310PJM0', 'B0092ML8QW']\n",
      "A1Q5P5ML3176C0 ['B001CCAISE', 'B0048IATQ0', 'B00007E7JU', 'B003B3P2BK', 'B00166EUI0']\n",
      "A2SR7S6ZJJDGNB ['B005LJO7JK', 'B00CGVF8E4', 'B006JG2IPY', 'B00D02AHEO', 'B00GQDBS7O']\n",
      "A1QLQCJVGCQPP0 ['B002V8C3W2', 'B009SYZ8OC', 'B0015DYMVO', 'B00263D7A4', 'B0001M2FZK']\n",
      "A1RJKTYC03L0JY ['B005IHAIEI', 'B003VS9UP4', 'B004MKNJ84', 'B0056KCSCM', 'B00004WCID']\n",
      "A3QRR8PSCBI07C ['B002RCNX8K', 'B000BQ7GW8', 'B000067SG2', 'B00AAKLE00', 'B003ES5ZSW']\n",
      "A15J71JLC29KPW ['B00FJWKYYG', 'B000I6P1I2', 'B000063574', 'B004SGJCCO', 'B007YXA5TC']\n",
      "A3REK3OFONWB1Q ['B007BXD66E', 'B0000BZL5A', 'B000AZ57M6', 'B00009USW3', 'B006ZBWV0K']\n",
      "A9LNWA25IM2DX ['B0052SCU8U', 'B008LCYIEI', 'B009SYZ8OC', 'B00A0JUNWQ', 'B0031RG29M']\n",
      "AXYM52DNK6NDF ['B002V88HFE', 'B002QAUN2M', 'B002RM08RE', 'B006TT91TW', 'B00009VQJZ']\n",
      "A21VM9WVF8EOSJ ['B000OG88KY', 'B005N8W1MO', 'B00413PHEQ', 'B00000K13L', 'B00713DPM4']\n",
      "A1OGCPMSIVK7G4 ['B000QUUFRW', 'B000HPV3RW', 'B005H3Q57M', 'B007FDE4Y8', 'B008NENG1A']\n",
      "A3639Z6O5JBLIZ ['B00068YUN4', 'B00081A2KY', 'B00001P4XH', 'B001S0NTMC', 'B00GUPZ7JS']\n",
      "A29GWIJL72GXXZ ['B00009W3BQ', 'B00000K13A', 'B001M56DI0', 'B001DL9WDG', 'B000IN72KK']\n",
      "A3CEUT263RNUDO ['B00007GQLS', 'B00COF7DGS', 'B00009XVCZ', 'B001CCAISE', 'B001ENW61I']\n",
      "A2ME89MSWVG9NF ['B009YT6PPC', 'B00AWRPIWQ', 'B009N8M2P6', 'B00EPQ97C2', 'B00ER52ES0']\n",
      "A1WF4QNIE2Z3I7 ['B009O7YUF6', 'B00AEGRGNO', 'B001DXGBII', 'B005OB2L7U', 'B009VV56TY']\n",
      "A34DQINHT6NYJU ['B00829TIA4', 'B008MWBY6W', 'B003FMUMN0', 'B003VWW3Q8', 'B0046HAO40']\n",
      "A1YN5I4FINMBTI ['B004W2JKWG', 'B0019EHU8G', 'B0036Q7MV0', 'B006OGMGVA', 'B009PJ3AZ4']\n",
      "A2T24Z5QP2OMXU ['B003ES5ZUU', 'B00D5Q75RC', 'B002YU83YO', 'B008ALAHA4', 'B009WU5XUG']\n",
      "A16RL0RMRF974O ['B007WTAJTO', 'B002K40R84', 'B000V9NU2A', 'B001A1RMXG', 'B004FLJVXM']\n",
      "A2VIYTWXANL343 ['B00B588HY2', 'B000GBO9IM', 'B0013AV4M4', 'B002BZA54S', 'B0012YCTZM']\n",
      "ATMQEI1LKR6VB ['B00EOE4G4E', 'B009SYZ8OC', 'B00CB2F65O', 'B002MPPHKY', 'B001O94GNS']\n",
      "A2SYAQXJGRY3XE ['B000144I2Q', 'B0064P5I1G', 'B002SXMRTE', 'B002YC3K9A', 'B00427ZLRO']\n",
      "AGFSSC5DBY2HU ['B00AJHDZSI', 'B00829THK0', 'B00829TIEK', 'B002IKLJVE', 'B001T0HFNA']\n",
      "A2HPJKM7L4EOQB ['B00004Y2MM', 'B00007KDVK', 'B000A7XSSY', 'B00005UKBD', 'B004PA8706']\n",
      "A87N6UTYA6NOB ['B002NO7PWC', 'B00029U1DK', 'B002NEGTTW', 'B000067RVL', 'B002U1N95K']\n",
      "A3Q1J68QY1MZQ9 ['B000KJQ1DG', 'B0050IE1O8', 'B00GO1UV4E', 'B000N49WPW', 'B00310PJM0']\n",
      "AWZR0O65DL2Q ['B00005NIMJ', 'B00395ZQMK', 'B001GX6MJ8', 'B000XY6N5Y']\n",
      "A4GGT6O0GQNV2 ['B00BGA9WK2', 'B002VPE1Q6', 'B00004SY4H', 'B00FJXVRM8', 'B007Q45EF4']\n",
      "A25RTRAPQAJBDJ ['B00BCA41PW', 'B00009WBYL', 'B00DUTIZJG', 'B003YNO0LA']\n",
      "A33152QEGO2MZN ['B00622AG6S', 'B008AST7R6', 'B000WKW69Q', 'B002K3Z3E8', 'B004YP3JD2']\n",
      "A2WPL6Y08K6ZQH ['B00HFRWWAM', 'B000U5TUWE', 'B007IS3EMI', 'B00BGGDVOO', 'B001VEJEGK']\n",
      "A3EK2KTYHJCPB9 ['B008EQZ25K', 'B000N99BBC', 'B0099SMFVQ', 'B005KFONIU', 'B001T9NX9Q']\n",
      "AQCJWSMSURQI2 ['B003CFATT2', 'B004CLYEDC', 'B009Z7KMUM', 'B007PJ4PKK', 'B00E5UHRIO']\n",
      "A1435P5AMCPB3X ['B000204SWE', 'B000BT2PZS', 'B005SN3INA', 'B000H7FXHG', 'B000EF3D64']\n",
      "A1F5O1USOUOOXI ['B000N99BBC', 'B00HSQAIQU', 'B000FOYMKU', 'B00BIP816Q', 'B0099SMFP2']\n",
      "A1VQBEW0G4IH1J ['B00IVFDZBC', 'B007NSR0AK', 'B0096W1OCG', 'B003IT985S', 'B004YHXXKO']\n",
      "AQM0K7MBBT4AY ['B00FR6VL50', 'B000B9RI14', 'B0009Q56N6', 'B00829TIEK', 'B0093H4VBU']\n",
      "A2NYOY6H42SORF ['B0069R0R10', 'B00CRJVZOM', 'B0001FV3AK', 'B001AMSPQI', 'B009ISU33E']\n",
      "AMWL7XIWIPXEZ ['B004QBUL1C', 'B000GQMHBI', 'B002G1YPH0', 'B0076W9Q5A', 'B000CP4JMS']\n",
      "A1XEQGYY1IL8CD ['B0056TYRMW', 'B001G4QXLE', 'B002VGWFF4']\n",
      "A8X478DM3KAWM ['B000N99BBC', 'B00023433U', 'B000V2BYJI', 'B004XXMUCQ', 'B001UE6N6A']\n",
      "A1OES7R7FDAT2L ['B001QUA6RA', 'B001MSU1FS', 'B000FQ2JLW', 'B0000B006W', 'B002VKVZ1A']\n",
      "A2YYHSORXIHZCS ['B008JJLW4M', 'B004FA8NOQ', 'B000KFWUMG', 'B00COGDERY', 'B003X26VV4']\n",
      "A2XX2A4OJCDNLZ ['B0019EHU8G', 'B00IX2VGFA', 'B00FSA8VQ2', 'B00DGBVMAW', 'B0011ULQNI']\n",
      "A1UL2JH7XOUGM5 ['B0002Y5WXE', 'B00894YWD0', 'B002NEGTSI', 'B000TG4AGU', 'B00004WCGC']\n",
      "A1U11IP6K6NHAK ['B004286VMW', 'B003O1UYHG', 'B002JCSV5I', 'B00IMZKDOS', 'B00CMF0SO4']\n",
      "A1H98YV5K5BUX0 ['B00009R6N0', 'B0000BZL5A', 'B000UMX7FI', 'B001GCU0MY', 'B00009EFQT']\n",
      "A2ULZRSHXS3HL7 ['B008JJLW4M', 'B002ISXBFI', 'B00CRB9CK4', 'B003ENIC6E', 'B00BU4OV50']\n",
      "ABH9D1TEOJ56E ['B00006LV79', 'B00006JLOT', 'B00006JLOS', 'B00008PVXA', 'B0000DBJJT']\n",
      "A4GHPW9AAH1NY ['B000PGDT8O', 'B008195P34', 'B0011V1KZ6', 'B004GWY5V8', 'B002AUJHLG']\n",
      "AMRMK86X3PKXD ['B0009S5HQA', 'B001N85NMI', 'B004TLH6GM', 'B001DWI1F0', 'B002WNAFSU']\n",
      "A2BIJMB2BITQUM ['B0043WJRRS', 'B0013FRNKG', 'B000652M6Y', 'B00AR95FOU', 'B00DB9WCR6']\n",
      "A3H4S6YO9VNGDZ ['B00212NO6W', 'B005J7YA4G', 'B00066FH1U', 'B00BQ8RFAI', 'B00310PJM0']\n",
      "A7FDGFK0KN7QG ['B005IMFX2K', 'B0058G40O8', 'B0074WDGAI', 'B0042X9LC4', 'B00E87OITK']\n",
      "A2DIQTZPF26T1L ['B002V88HFE', 'B004GF1PC2', 'B002TA7VO2', 'B008FH1R0M', 'B0080BK4I4']\n",
      "A27TN8D0CZ8LUY ['B003ES5ZUU', 'B003Z4G3I6', 'B005L38VPC', 'B009SYZ8OC', 'B0013LWK3A']\n",
      "A1KI7YHQEOS1RB ['B004Q3R9AQ', 'B004GF8TIK', 'B0019EHU8G', 'B002RM08RE', 'B00GR1I242']\n",
      "A3ER6ARJ23CIN8 ['B00G0OYHCW', 'B008JJLW4M', 'B0099SMFVQ', 'B000WOK2ZM', 'B00A4ZXE40']\n",
      "A21Q9JVG4SII51 ['B003MTTJOY', 'B0019EHU8G', 'B000BTL0OA', 'B003SX0P1A', 'B002SZEOLG']\n",
      "A3CFU12GS5CZCN ['B007WTAJTO', 'B008EQYRRY', 'B0062EUE54', 'B004NDEWWW', 'B0037FQVX0']\n",
      "A3AZI828WJN1CD ['B00834SJSK', 'B0036V9AGU', 'B007ILK234', 'B005IHAIC0', 'B00E0EY7Z6']\n",
      "AT2J7H5TRZM8Z ['B0000645C8', 'B00005QFZF', 'B00005V619', 'B00006IS65', 'B00006LHO7']\n",
      "A2MJ8OL2FYN7CW ['B006ZBWV0K', 'B00CPGYNV4', 'B006DDT6JO', 'B004GYVPGE', 'B008LURQ76']\n",
      "A14X244VGHWPSX ['B009YQ8BTI', 'B001D8S9E2', 'B00829TIEK', 'B009APBY0G', 'B003M0NT1M']\n",
      "A1H0D7635GEEJ1 ['B001P05NBA', 'B001ISKNKA', 'B0058G40O8', 'B004XC6GJ0', 'B000WO6HJW']\n",
      "A17RFKCYS69M3Y ['B00081A2KY', 'B004K1EOCA', 'B006CQR7CK', 'B0002JKGRQ', 'B000EDG6EM']\n",
      "A1RCGK44YXNBBB ['B000E8OVNK', 'B000FAQ6S0', 'B000GBGPAW', 'B000FAPY3S']\n",
      "A3D6OI36USYOU1 ['B00AWBHFRI', 'B004SAR998', 'B000J47W12', 'B000093US1', 'B000068CNU']\n",
      "A197T2N6RU7K56 ['B001QFZMBU', 'B004QGXOOI', 'B000N254LU', 'B00006FMPP', 'B003Q0BPC8']\n",
      "AFFVUZEGP1FDQ ['B00FJWKYYG', 'B00G4V0QSK', 'B00HG1L334', 'B00829THK0', 'B00F3SIQKK']\n",
      "A1PSVZBM894R5H ['B000RZQZM0', 'B003CJTQJC', 'B0007GIXS8', 'B0009MFV0I', 'B00004TBLW']\n",
      "A3BY5KCNQZXV5U ['B000QUUFRW', 'B002K450QI', 'B0071BTJPI', 'B0007Y794O', 'B00BN1Q5JA']\n",
      "AMVXR3NPL0GWX ['B001E1Y5O6', 'B002KDS2BY', 'B001XURPQI', 'B003VAGXZC', 'B00508ZURU']\n",
      "A1MBXP3NZM2BUO ['B00EO302SO', 'B009A6CZ30', 'B008AJLPYS', 'B0035JKJC2', 'B0001FTVDG']\n",
      "A11D1KHM7DVOQK ['B000FONSEQ', 'B00005QBUU', 'B000095SB6', 'B000092YPR', 'B000069106']\n",
      "A2FXBWR4T4OFQ ['B000QUUFRW', 'B001EQ4BVI', 'B004TJ6JH6', 'B0001XGQTA', 'B002W3IXZW']\n",
      "A1W4F91DH3XPB2 ['B003XU78OU', 'B004GUT1QO', 'B00A81ICCE', 'B0023B14TK', 'B008ULPE70']\n",
      "A19NP8YYADOOSF ['B00IVFDZBC', 'B00BOHNYU6', 'B002LTWDSK', 'B000652M6Y', 'B00EH5UGR6']\n",
      "A23ZNGL704AW7O ['B001DJ64D4', 'B00HZWJGS8', 'B004CLYEDC', 'B009WZRAQQ', 'B0081FLFQE']\n",
      "A1ZVFCPHCWFV71 ['B00834SJSK', 'B000V1VG2E', 'B002OEBILK', 'B00740MR78', 'B0079UAT0A']\n",
      "A1FF2PLA84KNAE ['B00DK2JQOQ', 'B004CYE3QC', 'B000P5AJXI', 'B003XKWLSS', 'B0030AZ44O']\n",
      "A18OTCHQ6MXD6X ['B003NR57BY', 'B001CCAISE', 'B002YTDE5I', 'B004YW7WCY', 'B004RBX0GO']\n",
      "AXU8RH1DEV21H ['B000051299', 'B00BQ4F9ZA', 'B004OB0EBQ', 'B006B7R9PU', 'B0009WU65I']\n",
      "A2ZDY0V4Q1SZD7 ['B001TH7GUU', 'B008AST7R6', 'B003ES5ZUU', 'B00483WRZ6', 'B008EO263I']\n",
      "A10NMELR4KX0J6 ['B007SZ0EOW', 'B000YB862E', 'B002VKVZ1A', 'B00966IREK', 'B008LXSA78']\n",
      "A2I18AO597DSDI ['B006ZT4VA0', 'B000IVDIL4', 'B003A4H2LI', 'B0032ANC5U', 'B004GAR91S']\n",
      "A3HRDRQ5VAFPQS ['B003LSTD38', 'B0092ML8QW', 'B000W09ZTK', 'B00CRFK24K', 'B00004ZC9V']\n",
      "A11ULAZ4B5ZXC8 ['B0019EHU8G', 'B007YV0UQW', 'B009DCNP9O', 'B0019SSSMY', 'B00698ZWOG']\n",
      "A132ETQPMHQ585 ['B000IJY8DS', 'B000BM8RFM', 'B007BYLO4E', 'B005TN0MMY', 'B000LRMS66']\n",
      "A3S0DBBR693O06 ['B0002JTD2K', 'B001MSU1HG', 'B000ID7QNI', 'B0088CJT4U', 'B000067S60']\n",
      "A3Q4TYJVAM4IRM ['B000AZ57M6', 'B004CLYE8C', 'B003I4FHNA', 'B000067RT6', 'B002BH3Z8E']\n",
      "A11EXFO14WEJM1 ['B001TH7T2U', 'B00E87E1OM', 'B000MANFIC', 'B000066E6Y', 'B003M0NURK']\n",
      "AQ55H30MZSV0Q ['B007PJ4P4G', 'B005S0XYKK', 'B003LR7ME6', 'B00DQZSFSA', 'B003SF3OKC']\n",
      "AUBEFRFHJR64Y ['B00B332A24', 'B004U1Y3IU', 'B0000X0VCY', 'B007U5MGDC', 'B00B3329WA']\n",
      "AHROSV6WJOEGY ['B002V8C3W2', 'B0007QKMQY', 'B000EPJL1A', 'B000065BP9', 'B001AOK7KI']\n",
      "A1ILWPH1GHUXE2 ['B0074FGLUM', 'B0001FTVE0', 'B008LCYIEI', 'B001NTFAOS', 'B00004XRED']\n",
      "A31HE83MU98GBV ['B00EPQ97C2', 'B004XNLR16', 'B003DQPE40', 'B004M8ST5Y', 'B004DI7CW4']\n",
      "A2V9DTXTQ5YIMK ['B009NHWVIA', 'B0079UAT0A', 'B0097BEF1S', 'B003DZ165W', 'B00BGIQPSG']\n",
      "A1UNJ46NSB352E ['B001BM5XB2', 'B00JC5Y6WM', 'B00HFRWWAM', 'B00871SR68', 'B004M8SBCK']\n",
      "ALHC64J88LVWO ['B00C2P61FO', 'B00001P4XH', 'B000J1DA3Y', 'B006ZRVBV4', 'B00920HLTM']\n",
      "A1PS4OYWUB0VX ['B003ES5ZUU', 'B002V88HFE', 'B007R5YDYA', 'B003NR57BY', 'B007P71IM0']\n",
      "A1ZTR0FR5AW9B4 ['B000PO3CTM', 'B007FFIF0K', 'B006UMM15O', 'B002K42W50', 'B009D79VH4']\n",
      "A2EF8N7ZE7ONWX ['B001OI2Z4Q', 'B0034CL2ZI', 'B001DJ64C0', 'B0015YJOK2', 'B000AYGDWU']\n",
      "AQB4DH57MSZSC ['B002FB684E', 'B0090Z3QG6', 'B00829THVO', 'B000J1HPXK', 'B002MCZJ78']\n",
      "A1DSRM2P0WGQNS ['B001DJ64D4', 'B000N99BBC', 'B0079UAT0A', 'B000T8CWFE', 'B000UY1MB2']\n",
      "ASF3J4UYV34KA ['B002V8C3W2', 'B001DHLC3S', 'B0002MQGKO', 'B000UTQOEW', 'B001KLEUOA']\n",
      "A1J5HIF41ENSMZ ['B006U3O566', 'B009D79VH4', 'B005O88CY4', 'B009HQCAPQ', 'B00006L4F1']\n",
      "A3EX8ZFNVDHGPM ['B007PJ4P4G', 'B005F25IL4', 'B00354MVP0', 'B008TWWLAS', 'B003L4P872']\n",
      "A15QYHQH80W30L ['B000TKHBDK', 'B00005LEN4', 'B002O3KVSC', 'B003UI62AG', 'B000VDCTCI']\n",
      "A3D01HLSUFEZQY ['B000AO3L84', 'B0018ZDGAC', 'B002TI71HQ', 'B0042IEVD8', 'B0013LRSRS']\n",
      "A1GNYV0RA0EQSS ['B005KFONIU', 'B0079UAT0A', 'B00DR0B7Y8', 'B000U5ROY0', 'B007P4VOWC']\n",
      "AU2UJF4I7KAWL ['B005BOMTT0', 'B0062EUE54', 'B003Y09H8E', 'B004K8WPUQ', 'B005CPGHAA']\n",
      "A2F4HP0J5VNOYR ['B0000BZL1P', 'B00009R6WY', 'B003OC6LWM', 'B0014YGAN2', 'B000P3ZADE']\n",
      "A1FDSZISWIXH1A ['B00IVFDZBC', 'B005KQ2O26', 'B00426C57O', 'B00829THVO', 'B003LSTD38']\n",
      "AP2NZAALUQKF5 ['B000K4V4X8']\n",
      "A6KL17KKN0A5L ['B003Z4G3I6', 'B00009R6WT', 'B002W4RPD2', 'B001EZUQ5E', 'B004WB8EYM']\n",
      "A95PWI4S6WHGL ['B00193U3O0', 'B005N4RO4I', 'B000O3TFZO', 'B003JBVX5S', 'B00BWA1H8G']\n",
      "A1R76R4E6A8S3B ['B0046TJG1U', 'B000O8WE66', 'B0068ALV8Q', 'B004MN57P4', 'B00CD1PTF0']\n",
      "A3J6Q0Y0SKY7AR ['B001DJ64D4', 'B000CRFOMK', 'B002JIAXOY', 'B001L1H0SC', 'B005HJ38OO']\n",
      "A2I6GN7OHB9JKF ['B002RCNX8K', 'B00CU9GOAO', 'B004C9M7UG', 'B00182CIB8', 'B005CKQF3E']\n",
      "A1PV5T5S4D5NPI ['B002WE6D44', 'B00006I5J7', 'B00829THK0', 'B001XURP7W', 'B004LNFJCQ']\n",
      "A31HOWJKEIY037 ['B001QUA6RA', 'B001UI2FPE', 'B000FQ2JLW', 'B001O4EPHA', 'B005TJJA62']\n",
      "A3OIMUR42XIOFQ ['B006EKIQYM', 'B00834SJSK', 'B00CB2F65O', 'B004CLYEDC', 'B007BWTOHU']\n",
      "A2RS66Y79Q8X0W ['B001KELVS0', 'B00009VQJZ', 'B004S76NH0', 'B004TJ6JH6', 'B0019CSVMW']\n",
      "A1LA4K5JF78BER ['B000EPRG6W', 'B00004TX6Z', 'B000WHSFYY', 'B001UQ6F5M', 'B005M1777G']\n",
      "AHD3NZHDUZ5I6 ['B00B588HY2', 'B0013FNZ1M', 'B0013J0502', 'B001C6IWME', 'B0019FJM7W']\n",
      "A19RGDJPNZ7NZ ['B006EKIQYM', 'B00CDS9HTM', 'B0049SCB2Y', 'B000MUXJCO', 'B0080H7UZS']\n",
      "AYO1146CBIV5C ['B001S4OTS6', 'B00AWRPIWQ', 'B008ULPE70', 'B005BCCML2', 'B008X9Z8NE']\n",
      "A19XPAWSWDRI3B ['B001KB21KA', 'B0039BPG1A', 'B002QUZM0U', 'B005P99LHO', 'B00829THH8']\n",
      "A3HQAPXAJV7PRX ['B003BLQHN4', 'B000GABCY2', 'B005QBK5V2', 'B00CD8ADKO', 'B00EVIBN8U']\n",
      "A2O6HZ2B9YSRXR ['B001TH7T2U', 'B0036Q7MV0', 'B000HPV3RW', 'B002VJL0OS', 'B004RFBIUU']\n",
      "AI8EMB0HUC6Z5 ['B0019EHU8G', 'B003CFATT2', 'B003ES5ZUU', 'B00HVT27B8', 'B001TH7GUU']\n",
      "A2U3OEIK1CUPIK ['B001AW8W7A', 'B009IZ82DA', 'B00012FVYC', 'B000UPJR4A', 'B000W2MW7U']\n",
      "A12ANFNOSMW5VD ['B0034CL2ZI', 'B00634PLTW', 'B008F4NL04', 'B0068ZWZY0', 'B009VXUFLG']\n",
      "A3PDWA32BAMB2Y ['B003MQWN40', 'B00104XCVO', 'B0002Y5WZC', 'B008EC4O76', 'B00834SJNA']\n",
      "A2WA8TDCTGUADI ['B003CFATT2', 'B004CLYEDC', 'B0057AVXP4', 'B0015313Q6', 'B009RH9FR6']\n",
      "A28J3123I1QDKI ['B001TH7GUU', 'B00316263Y', 'B005FYNSPK', 'B007IV7KRU', 'B005DKZTMG']\n",
      "A19FRW264WZTGP ['B004CLYEFK', 'B001T9NUJE', 'B001S4OTS6', 'B000QWEN5K', 'B00HMREOLK']\n",
      "A3D822N1K2IAQD ['B007PTCFFW', 'B005DSPLCQ', 'B00D1GYNT4', 'B00CD8ADKO', 'B0096LZ5QI']\n",
      "A2JOPUWVV0XQJ3 ['B0052SCU8U', 'B001TH7GSW', 'B00212NO6W', 'B00000JDF5', 'B00CMMG7I8']\n",
      "A1PVJICI412IN4 ['B0009S5HQA', 'B001ID829O', 'B00840353W', 'B00CDIK908', 'B0018LX0DY']\n",
      "A3VZH0PWLQ9BB1 ['B00IVPU786', 'B003WU6KFO', 'B003M4JXN6', 'B000PDV0CE', 'B003DZ14EU']\n",
      "A2SH6A32BE6NEV ['B008EQZ25K', 'B004CLYEDC', 'B001DJ64D4', 'B002K9IHGI', 'B000Q3043Y']\n",
      "A3EHJ5519LG7TR ['B009F1I1C4', 'B0019D6H2M', 'B004Q3RE2O', 'B00GZNCP3G', 'B000Q3VECE']\n",
      "A1UTM65Y3G9HUL ['B0051A8TG6', 'B000OGX5AM', 'B0083YF55U', 'B009WU5XUG', 'B006HIKIG0']\n",
      "A15Q2L6DYRTFIU ['B00483WRZ6', 'B00394T7BW', 'B004ZXYU8Q', 'B002SSK9VW', 'B001HJTK5Y']\n",
      "A24ARANWS5E3T8 ['B0058UUR6E', 'B00139W0XM', 'B001WM73P0', 'B0023B14TK', 'B004TJ6JH6']\n",
      "A307Y3LMCVEZS1 ['B001FWKA7A', 'B001QFZMCO', 'B005KFHVES', 'B003EO1H7E', 'B001EPVOQY']\n",
      "A3FKQQTSMHOCE0 ['B00009XVCZ', 'B003SGCO3E', 'B000AYGD8E', 'B002ZIN9DU', 'B000053HH5']\n",
      "A2XRIU3SOYZ0ZC ['B0000CFYM9', 'B00D6XSRL2', 'B003ZTKFEE', 'B009HQCAPQ', 'B0001LTT64']\n",
      "A1KY5G5FP31F2F ['B0043WJRRS', 'B007PTCFFW', 'B00834SJSK', 'B00EHZYWGM', 'B009SYZ8OC']\n",
      "A1D27BCSYV7VWH ['B00003CWDG', 'B005IA843W', 'B005INZKKE', 'B00AWYMXZY', 'B004CYE6V4']\n",
      "A87CILADRIZW0 ['B004GF8TIK', 'B005FYNSPK', 'B004XC6GJ0', 'B0000AZK4G', 'B000Q8UAWY']\n",
      "A15T9G38F589KM ['B007KZQM8W', 'B00E87E1OM', 'B001B8EOMU', 'B00A0JUNWQ', 'B003FST9EC']\n",
      "AD0J5KK4WQXNS ['B00064V6RG', 'B000TXEE14', 'B00006B9H8', 'B0002ZAIMI', 'B000AY649C']\n",
      "A2K5RRMPICZ606 ['B0045XAIFU', 'B000ZSUQ9M', 'B003TFEHMU', 'B0007Z1M50', 'B004NIG1SA']\n",
      "ANTN61S4L7WG9 ['B00HVT27B8', 'B009NHWVIA', 'B00HHRP11C', 'B000N99BBC', 'B00E87E1OM']\n",
      "A13WOT3RSXKRD5 ['B004V4HLCG', 'B008SFPMRK', 'B0054JE706', 'B00D601UC8', 'B0041Q38NU']\n",
      "A1Z7U9K6X3FEOU ['B000VDCT3C', 'B003GSCS3U', 'B004Q81CKY', 'B0000BZYPD', 'B002WP2QGM']\n",
      "A2SGAJWXG65464 ['B00C94GTJQ', 'B007HBLX8I', 'B005U0M9B8', 'B000FIH0ZA', 'B0099PJE7W']\n",
      "A2DS9DLMSU2M2Z ['B0001GMIOE', 'B0019CSVMW', 'B004CLYJ0K', 'B000O8JZIG', 'B0000C4G79']\n",
      "AW3LX47IHPFRL ['B000IXP932', 'B006YLTLUY', 'B0002UBDDG', 'B000WG6XW6', 'B0055D66V4']\n",
      "A3E68EBGXTWDNP ['B000HDFXU2', 'B000VDF5RO', 'B001GS8G06', 'B000062VUO', 'B000VW6KXS']\n",
      "A292TRC6DX2GKK ['B00081NX5U', 'B0026HSQ3I', 'B0002Z240M', 'B000FBK3QK', 'B0051CAE1C']\n",
      "AWPN47SSWK1JV ['B009LL9VDG', 'B001XURP7W', 'B003Q6CU12', 'B001NPDKTY', 'B0033QJLQW']\n",
      "AY6A8KPYCE6B0 ['B00834SJNA', 'B00834SJSK', 'B000R9J5OG', 'B00000JDF5', 'B00CD1FB26']\n",
      "A3DQWFWINN3V5A ['B00004Z5M1', 'B00426C57O', 'B000BTL0OA', 'B0019MEIOM', 'B0081H8TRA']\n",
      "ADKGE078JK8K7 ['B00426C57O', 'B001RB21JY', 'B0043T34RK', 'B004SP0WAQ', 'B005755U0I']\n",
      "A19HKRB4LU5YR ['B002TLSOG0', 'B00A0JUNWQ', 'B0000CE1UO', 'B00B981F1U', 'B003EN2VJI']\n",
      "A1GBT4UN2RW7XY ['B007KZQM9G', 'B00884WH74', 'B00HHAJRU0', 'B00G1YKHHA', 'B00GQDBS7O']\n",
      "AZBXKUH4AIW3X ['B008EQZ25K', 'B00316263Y', 'B000VX6XL6', 'B00008AWKZ', 'B005DKZTMG']\n",
      "A1N3EH28S4DI8L ['B002NO7PWC', 'B0000BZL1P', 'B001KELVS0', 'B00007GQLU', 'B00CO1I29O']\n",
      "A2OTQMC69J8MUI ['B007WTAJTO', 'B000M2TAN4', 'B009D79VH4', 'B00C2P61FO', 'B002SZEOLG']\n",
      "AA8RBTN3J2F5H ['B005H3Q57M', 'B007BWTOHU', 'B000V1PAWQ', 'B0077M2958', 'B00D68UXQE']\n",
      "A1LD5SE8IZ1H70 ['B004W2JKWG', 'B000GQMHBI', 'B000OG4E1G', 'B001202C44', 'B000FJ89UO']\n",
      "A28525P0S5ZVJ3 ['B000FITKK8', 'B0049S6ZUS', 'B005M1QP7O', 'B00FB45SI4', 'B00009X6PH']\n",
      "A1VLVWTLV3LVHR ['B003GZ828I', 'B00139OIRI', 'B002J9HBIO', 'B005G5EAGE', 'B001MTE32Y']\n",
      "A9J4UURM4OSDW ['B000V5P90K', 'B000UMX7FI', 'B0096W1OCG', 'B0002T74QC', 'B000RZNI4S']\n",
      "A1L1N3J6XNABO2 ['B005J7YA4G', 'B0041Q38NU', 'B002HZW6WQ', 'B0050RKH2Y', 'B007HA3UYE']\n",
      "A341HCMGNZCBIT ['B00AR95FOU', 'B000WQ21SQ', 'B0032JRRXY', 'B0032JRRWU', 'B00BB4UKOK']\n",
      "A3F3B1JPACN215 ['B003MVZ60S', 'B001P05NBA', 'B009X01C64', 'B000N99BBC', 'B009YT6PPC']\n",
      "A35X2JJI49OBZP ['B003L1ZYZ6', 'B000M2GYF6', 'B00005NIMJ', 'B008HK3SSG', 'B00DTPYQBM']\n",
      "A34CSXOGVYF94S ['B00G4UQ6U8', 'B001F51G16', 'B00HG1L334', 'B00ATM1MGA', 'B00G4V0QSK']\n",
      "A3R19YKNL641X3 ['B00BERGFV6', 'B00HFRWWAM', 'B000RZQZM0', 'B0082E9K7U', 'B000TKHBDK']\n",
      "A1UEL5C1N6E5SE ['B0073FE1F0', 'B000EMWBT2', 'B001AYCNIW', 'B001A4HAFS', 'B000VE2RP6']\n",
      "A3VBXQKRM7A4JR ['B003FVVMS0', 'B004CLYEH8', 'B001GCQ3KM', 'B0097FZRYI', 'B000BRO3PA']\n",
      "A2L4ZGN7GZJ95T ['B000N99BBC', 'B008R7EWEI', 'B00JX1ZS5O', 'B00BFO14W8', 'B00EOI2SYK']\n",
      "A1UMSB7LAW0RIR ['B004GUT1QO', 'B008MF48J4', 'B00A7PPLP2', 'B0095F5ACE']\n",
      "A18NDN2CIG2TKR ['B003QVWJM2', 'B000F2JUOK', 'B00178T5V4', 'B00AYK7J9G', 'B001BSQK8Q']\n",
      "A3NXJDNTQK2YJL ['B00005T3G0', 'B004SBBD8U', 'B002EUCU3O', 'B00EDCF0MY', 'B003M0NURK']\n",
      "A1RPJHUVVSI98A ['B00829TIEK', 'B005LFT3GG', 'B005FVDTAW', 'B001FWYXD2', 'B009UEAZ84']\n",
      "A2MR696ZU17F12 ['B001UI2FPE', 'B004GW25WY', 'B000Q8UAWY', 'B00829TIA4', 'B001VO4MOY']\n",
      "A5GPH59NDWJRB ['B001TZUS98', 'B0002Y5WZM', 'B005FVNGRI', 'B001ELJO2E', 'B00DQZO0R0']\n",
      "A2CPP7BZKOF9TP ['B004G6002M', 'B009X3UW2G', 'B002VPE1Q6', 'B008LURQ76', 'B0051WAM64']\n",
      "A1ITRGMT80D5TK ['B00CD8ADKO', 'B0035JJOLE', 'B004SKBJP8', 'B00B3PDHBU', 'B004CLYEE6']\n",
      "ACYZXQ2JKPZKT ['B0000BZL1P', 'B0045TYDNC', 'B00005LENO', 'B003FVVMS0', 'B0042GHI8U']\n",
      "A9Y5O2R4D6EH5 ['B006W8U2MU', 'B001TUYTZM', 'B00AJHDZSI', 'B004CLYEFK', 'B0001GMIOE']\n",
      "A2NX6MFZP8TM6S ['B00004Z5M1', 'B009F7IBZK', 'B001O94GNS', 'B0015DYMVO', 'B0002GDIII']\n",
      "ABUE0ALHKWKHC ['B003Y3TS4Y', 'B004JWA70I', 'B00BOZCUG2', 'B00CD778LC', 'B001V9LQAW']\n",
      "AN9WA4C5E7YY5 ['B000E9VKUQ', 'B00810ICRO', 'B004MG9YYQ', 'B002HK8TE0']\n",
      "AAXAKFQEAQPWC ['B001T9NUJE', 'B001TH7GVE', 'B000VDCTCI', 'B000UO6C5S', 'B000VS4HDM']\n",
      "AULFLNWJP1QXY ['B006JINHYS', 'B004N625BO', 'B00007E7K9', 'B004C13VWC', 'B0088CJT4U']\n",
      "A23ZXHFLC6TBLD ['B004G6002M', 'B000067RT6', 'B0027VT6Q4', 'B0000A2QBP', 'B0063K4NN6']\n",
      "A7Y6AVS576M03 ['B000NDO744', 'B0001GYAA4', 'B0007XXU3E', 'B00005T408', 'B00001OWYM']\n",
      "A3O5ASFUXC32UA ['B00005LEN4', 'B002JCSV8U', 'B003OBUJIK', 'B00009R6N0', 'B003U2YCZE']\n",
      "A2Y1WNETD9AYHO ['B003ZHV70M', 'B00462RMS6', 'B0007LJHVA', 'B00139S3U6', 'B0000Y2WY8']\n",
      "A38CHSS1ZAE51B ['B0046TJG1U', 'B000UO6C5S', 'B00413PHEQ', 'B005Y5891S', 'B0043T7FXE']\n",
      "A1Y051MQ2SVPFI ['B00D5Q75RC', 'B005FYNSPK', 'B005IHAIC0', 'B004QKJXG2', 'B000F7JCRA']\n",
      "A1X1CEGHTHMBL1 ['B000BTL0OA', 'B004T0DNJC', 'B005CT56F8', 'B007VPGL5U', 'B0002CPBWI']\n",
      "A1VS1LL905P5L5 ['B0001DBEM4', 'B000J43HJ8', 'B00006HZ0L', 'B00AAHT8JC', 'B001FA1NZU']\n",
      "A13EQE9EY2ET93 ['B00FR6VL50', 'B001CY0P7G', 'B007FPIQ0E', 'B00HFRWWAM', 'B00CXACPN0']\n",
      "A19N3S7CBSU6O7 ['B001XURPQI', 'B000OG4E2U', 'B002BXCNDQ', 'B004J96SB8', 'B00ID2HGK4']\n",
      "A1PL7QILVQV3IF ['B00029U1DK', 'B000JE7GPY', 'B00081A2KY', 'B004JU0E2G', 'B0013AV4M4']\n",
      "A1VOFY3QFT9WCG ['B004LSNF04', 'B006EKIQYM', 'B003MTTJOY', 'B0027AGK3M', 'B001R0EVMA']\n",
      "A2D0CO1OA6DSWY ['B002WE6D44', 'B00020S7XK', 'B000Q8621C', 'B008J7IJOK', 'B0015DYMVO']\n",
      "A3QDMDSANPYGUX ['B004MF11MU', 'B000KZW9WM', 'B00A6HH28U', 'B005HGG3NK']\n",
      "AMS2CPERWN7JV ['B0043M668G', 'B004VM0SE6', 'B000BPRGK6', 'B0088CJT4U', 'B00008ZLHG']\n",
      "A3HR0ZZOFKQ97N ['B0088PUEPK', 'B004XC6GJ0', 'B00HFRWWAM', 'B00AXZWG8Q', 'B00A4ZXE40']\n",
      "A111WCUF5KA2I6 ['B007WTAJTO', 'B004N8ZQKY', 'B00D7CWSCG', 'B006Z95LHW']\n",
      "A2HJY7418G1KV1 ['B001G5ZTLS', 'B003XU78PE', 'B0000C4G79', 'B001TOZTCA', 'B001O9X9EU']\n",
      "A1A5KUIIIHFF4U ['B00007IFED', 'B000I20AJ6', 'B000HEEG54', 'B002HK5AW4', 'B003VWU79I']\n",
      "A2ZFBTGPDP6PH6 ['B000QUUFRW', 'B0011NVMO8', 'B000EVSLRO', 'B002MU1ZRS', 'B000V1O1J4']\n",
      "AVSMRPI23DQI2 ['B006WAGG14', 'B003G2ZJTG', 'B0050YG3CU', 'B000NK6INU', 'B003XMAD18']\n",
      "A34LQ791ACZ0JC ['B000N99BBC', 'B000O8JZIG', 'B00336EM0W', 'B002SIMPXM', 'B00005ATMB']\n",
      "A11KQADBYE0UZL ['B000M2TAN4', 'B0036Q7MV0', 'B0058UUR6E', 'B003UT2E8E', 'B00539LP34']\n",
      "A3Q6ZPW60CVF2L ['B0065DUJ0C', 'B009YDO05U', 'B001URWAYG', 'B0063W7XJK', 'B0017J3XMU']\n",
      "A2M14CFAMF8J7I ['B0034CL2ZI', 'B003CFATT2', 'B000N99BBC', 'B008R7EWEI', 'B00HGLOQ24']\n",
      "A1QQA7Y92L4F9R ['B002XZLURC', 'B001S4OTS6', 'B001C271MA', 'B001U02JZ8', 'B0019RBJOE']\n",
      "A3223W5IROMYTY ['B00COF7DGS', 'B0019N4RUQ', 'B00D02AHEO', 'B00B1R8JT0', 'B007RIFKUS']\n",
      "A15G70V9OBTOVO ['B001KELVS0', 'B003WJR69E', 'B0002Y5WXE', 'B008NENG1A', 'B001DL9WDG']\n",
      "A2NQMVTQ4PVLL ['B000JE7GPY', 'B006H06TVG', 'B00834SJNA', 'B001XURP7W', 'B0064R9H2A']\n",
      "AN0JK8OQLUC55 ['B001L1H0SC', 'B001CN7EQ2', 'B000GHVZO2', 'B0047ELBN0', 'B002HJ9PTO']\n",
      "A2XHOLOLKGV1FE ['B001F7AHOG', 'B004YLCN1U', 'B001D8S9E2', 'B001FB578I', 'B006ZH0JBM']\n",
      "A356RFKNIG043B ['B003M0NURK', 'B00HSQAIQU', 'B002IPH9ZO', 'B000EBBJ6Y', 'B002YOENAS']\n",
      "A1AZQCVCDBQP6 ['B004W2JKWG', 'B003MTTJOY', 'B000ANCPNM', 'B005F778JO', 'B0061XSBZG']\n",
      "A2ZRG5NOFZ47RK ['B002V88HFE', 'B0000BZL1P', 'B0043WJRRS', 'B00009R94Q', 'B006NYJNTG']\n",
      "A1XE3M22N91451 ['B002V8C3W2', 'B001W26TIW', 'B001MSU1HG', 'B00267S7XW', 'B001NTFATI']\n",
      "A5QDZEOIMQ4LW ['B00009XVCZ', 'B00009X3UA', 'B0013J0502', 'B004ZNA3UA', 'B0050RKH2Y']\n",
      "A18L9A64XNGVGU ['B001TH7T2U', 'B0096TTOHG', 'B002MAPRYU', 'B002ROEKBW', 'B003S6ID20']\n",
      "A3EM243NDJ4DF3 ['B002TLTE6O', 'B0043M668G', 'B00DR6DQZA', 'B005E8MVV4', 'B00BYRPM9M']\n",
      "A64LEAZ2QF8L2 ['B00DR0C96S', 'B001SER47O', 'B002V88HFE', 'B001G5ZTZO', 'B0071BTJPI']\n",
      "A2JXS1JII6SAUD ['B001FA1O18', 'B002HWRK66', 'B004G8QO8E', 'B00CCEH51Y', 'B003BO4H56']\n",
      "A214W7SK2DJQ99 ['B00101UHS8', 'B009SJ7UWU', 'B004TGZ7WM', 'B003XCDA9A', 'B001SVJUPG']\n",
      "A14Z6D3IRJ23F7 ['B000067RT6', 'B00BT7RAPG', 'B005UUS6MO', 'B0049XV5LM', 'B008YDJHWM']\n",
      "A2M9ME0N2S3R39 ['B001VO4MOY', 'B0054L8N7M', 'B008L1OCF4', 'B0092MD8OW', 'B007RFW1NA']\n",
      "A27Y4OEC9MD9PA ['B00009XVCZ', 'B0039ORBLK', 'B001MT8J4W', 'B002NWO9EG', 'B005NX7HY6']\n",
      "A145LBW8ZHF0TW ['B001TOD7ME', 'B000067RC4', 'B0015YJOK2', 'B00062UW5A', 'B000O5TH14']\n",
      "A2OOXVZ6B1VZ9A ['B003CP0K9Q', 'B0016BQS12', 'B00004Z5PY', 'B00452V66G', 'B004VTAVLE']\n",
      "A1LAGS8H4A2DR7 ['B00BWX2OU8', 'B0077V88VI', 'B000BKY3Q6', 'B00142JKSG', 'B0000645RH']\n",
      "A7Z2J9V37ABCO ['B002V88HFE', 'B001F51G16', 'B009NB8WR0', 'B0076W9Q5A', 'B009VV56TY']\n",
      "A1S7BFT0HDF3HA ['B006JINHYS', 'B000EXS1BS', 'B00020M1U0', 'B00G024X32', 'B005SNPTRS']\n",
      "A200RY2ELZL2Q3 ['B0062EUE54', 'B005HARR2W', 'B003F5NS9W', 'B002LBROAA', 'B006TT91TW']\n",
      "A3094EPI56GKZ6 ['B007KZQM9G', 'B000BTL0OA', 'B00DQZQHBW', 'B000O7PH34', 'B00012F8AY']\n",
      "A12DLJESJKM1OQ ['B0007RALGO', 'B00006JLOT', 'B000AYGDWU', 'B000087KY8', 'B0000DBJJT']\n",
      "AOWF9T81XMX2S ['B008EQZ25K', 'B001342KM8', 'B001TH7GUU', 'B00081A2KY', 'B004R7P28W']\n",
      "A28BX3MM90A6FI ['B000VX6XL6', 'B002W3IXZW', 'B005FYNSPK', 'B004TJ6JH6', 'B007FEFQDA']\n",
      "A1CN1P7147QDJC ['B00BQ4F9ZA', 'B003WUBIZQ', 'B00BQ8RFAI', 'B00CGUMR2Q', 'B0010YWPZ8']\n",
      "A2VAD79S4A06DD ['B002P3KMXA', 'B006LW0W5Y', 'B006MPUTBC', 'B009SYZ8OC', 'B00009X3UA']\n",
      "A2F2GLVFRNV7JJ ['B007BJHETS', 'B00009R94Q', 'B001EDXPMC', 'B0002Y5WZM', 'B0043VE29C']\n",
      "APBDZ88BBTN4F ['B003FVJYF8', 'B00CKAOJA0', 'B00511PS3C', 'B0079R8KO0', 'B000OFWJO6']\n",
      "A3S3VSXEFXBMRC ['B001TH7GUU', 'B001V9KG0I', 'B001L1H0SC', 'B000MX48VM', 'B0074FGLUM']\n",
      "A1ZXMMQPYC3Z9I ['B005GC7YJ2', 'B00434OWDA', 'B00004TVSP', 'B00006B7DA', 'B0040FHB6C']\n",
      "A33SX0AD5PYD9B ['B001TH7T2U', 'B003CFATT2', 'B000AAZQJU', 'B003M0NT1M', 'B005DOK8NW']\n",
      "A1EQ5D5JRSW23K ['B001ELK2NY', 'B0095F5AFG', 'B000JE7GPY', 'B00A0JUNYY', 'B004AK154Q']\n",
      "AGILRZOT49R0V ['B00006RVPW', 'B00BCGRTFK', 'B004GHMU5Q', 'B000WXH1Z2', 'B001NPEC5A']\n",
      "A3D7BGK0P5QY0X ['B00429N18S', 'B003VAHYNC', 'B002Q8IHDQ', 'B007F9XJW0', 'B003NVMDYY']\n",
      "A3NGOG8Z78AZSD ['B003O8682Y', 'B000EXS1BS', 'B0002YV8EG', 'B00002EQCW', 'B003LD4T0K']\n",
      "A6TBR6L2D4XKC ['B001F6TXME', 'B003LZYXYU', 'B00972M942', 'B001UDJURU', 'B003A4GZUC']\n",
      "AOVTLYTHVDNUX ['B009NHWVIA', 'B00A81ICCE', 'B004YG7JV4', 'B007FELOZO', 'B00006JPER']\n",
      "A2J4XMWKR8PPD0 ['B0096YTSL8', 'B001IEXK8G', 'B00AXWLGIU', 'B000V4X22I', 'B000NRX12E']\n",
      "A1KWPIORLG2QV ['B0000511U7', 'B002VPE1WK', 'B003B41XYO', 'B003MOKUIS', 'B0049SCB2Y']\n",
      "AC9QEWWN4W9MC ['B0084Y47SK', 'B007WTAJTO', 'B00APCMMDG', 'B005YQXMAK', 'B0068Z8JBS']\n",
      "A2QAOP52OEB5EV ['B000JE7GPY', 'B00018MSNI', 'B00DVFLJDS', 'B001EUE6AK', 'B002LK2QJK']\n",
      "A2V7EO331SFUF6 ['B00005U21H', 'B000WXAX6G', 'B000XA8766', 'B008XV7VTG', 'B009WHV3BM']\n",
      "AN9CP6J4JF91X ['B000KO0GY6', 'B007WTAJTO', 'B001XURP7W', 'B00D1KBG5Y', 'B002R9CQYK']\n",
      "AA95DWUI3ODU ['B002IPHA3A', 'B00ASLSQHK', 'B0066636AS', 'B000VWKSHM', 'B007CMSEUM']\n",
      "AAK6SOEJY30YG ['B0019EHU8G', 'B000092TT0', 'B001W28L2Y', 'B0036Q7MV0', 'B009EADB2Q']\n",
      "A4IL0CLL27Q33 ['B009YT6PPC', 'B00DIFIM36', 'B00829THK0', 'B000N99BBC', 'B00008W2LC']\n",
      "A2L0F2T1DLTNT8 ['B005L38VPC', 'B000HJPK2C', 'B000PQL7AQ', 'B001GIPSAW', 'B001DKO7R8']\n",
      "A3TCMJ6GKZJFBQ ['B000OFWJO6', 'B000CDA802', 'B0018M256G', 'B002NEGTSI', 'B00066EK40']\n",
      "A3QX0ERX4D03TF ['B00GTGETFG', 'B002Y6CJJ8', 'B005EJH6Z4', 'B005F77Z9C', 'B000TYL27M']\n",
      "AS8C336DDLSO4 ['B004CLYEDC', 'B00009EHJV', 'B001O94GNS', 'B009SYZ8OC', 'B0000CE1UO']\n",
      "A1P3DDFL423B3C ['B002MZUNXU', 'B001A4LVYY', 'B000E5GKW8', 'B002TLT10S', 'B00077IG3O']\n",
      "A11YIHB6IW352W ['B008HO9DK4', 'B001MSU1HG', 'B0079EVQ2Q', 'B00243HHNY', 'B00B5HE1SY']\n",
      "A1MQQEM7W77L62 ['B0097BEF1S', 'B009YT6PPC', 'B003L139HG', 'B00DBDM934', 'B003BSQ92G']\n",
      "ANFJYYQ0P35CW ['B00JF0D7RE', 'B0094S35W4', 'B001TICH08', 'B00E8CF0CE', 'B0090Z3QG6']\n",
      "A2EW01G2LNJN06 ['B00017LSPI', 'B0015AARJI', 'B001MT8J4W', 'B002VPE1WK', 'B0041OYS36']\n",
      "A2PC9ZZIFV31B1 ['B001TH7GUU', 'B00B9BUZW2', 'B005DKIID8', 'B0052RM8T2', 'B00BQ5KHJW']\n",
      "A3FBM0RMCMAABV ['B0034CL2ZI', 'B002FB684E', 'B006ZBWV0K', 'B0080EBMM8', 'B00A7PPLP2']\n",
      "A2W0XCWOK3MW6F ['B0013FNZ1M', 'B003LSTD38', 'B008HK3SSG', 'B004NY9UUK', 'B001D8S9E2']\n",
      "ASJZT7DM51QEM ['B00HVT27B8', 'B00BOHNYU6', 'B002MCZJ78', 'B00IVPU786', 'B00EH5UGR6']\n",
      "A2NPN06SYI5VL3 ['B007R67FTY', 'B0089E2FZC', 'B001BAW7P4', 'B001RB24S2', 'B000RMPP5Q']\n",
      "AA91O96C1Z18W ['B000QWEN5K', 'B00CF7E0R0', 'B009GA6CAW', 'B000A8JYB8', 'B000DIM9AS']\n",
      "AWHL379EE14K7 ['B00BLCVD9I', 'B005PSTV2K', 'B003VYEYE0', 'B006T7QRN2', 'B006ROO1XA']\n",
      "A2HXEJXEQQTM1D ['B001U3Y6AQ', 'B0023Y9EQC', 'B002VKVZ1A', 'B005UE894U', 'B0040IG1A6']\n",
      "A1VYFEJM12ZP11 ['B004CLYEH8', 'B009QUDLC4', 'B008X9Z44M', 'B00B2HCLL6', 'B000SMVQK8']\n",
      "AYLLSFYS3UP1H ['B002V8C3W2', 'B003NR57BY', 'B008D2POAS', 'B0076W9Q5A', 'B008C1JC4O']\n",
      "A3HC7NWLKCPX4X ['B000051299', 'B003UE52ME', 'B0011FKI3M', 'B000HGMMH6', 'B0041Q38NU']\n",
      "A3UXW18DP4WSD6 ['B000IJY8DS', 'B003M0NURK', 'B00182CIB8', 'B003WGJYCY', 'B0000AZK4G']\n",
      "A274X54O9CN2SR ['B004286VMW', 'B0009S5HQA', 'B005LJQNQU', 'B000IJV4BC', 'B004XC6GJ0']\n",
      "A3QKIR8J56EUI1 ['B005HY4U46', 'B005NX7HY6', 'B0039BPG1A', 'B0036WT4H4', 'B005IHAIEI']\n",
      "A18GJ9MYYO6GCQ ['B006ZT4VA0', 'B000EVSLRO', 'B004WK3U9W', 'B003M0NURK', 'B003RRYAXQ']\n",
      "A3HCMJOGRRSAF2 ['B000BVC0WO', 'B002BWOO0W', 'B004CADY9I', 'B005CWHZP4', 'B002C7489S']\n",
      "AKBVYIIHWI04B ['B009SYZ8OC', 'B000VX6XL6', 'B00E055H5O', 'B00461E7JE', 'B002A6G3V2']\n",
      "A1UQUDT2Q0YENM ['B0093H4WT6', 'B00D1GYNT4', 'B002SZEOLG', 'B00452V66G', 'B00CXADBRY']\n",
      "A25TQLMIAPI1T6 ['B004GXKI04', 'B002BFA91C', 'B0007P11M4', 'B005FRCUHY', 'B007KEZMX4']\n",
      "A8X8D4BUY5DFU ['B0002VAQR4', 'B003BEDQQM', 'B008KNDTB6', 'B000RQSGYO', 'B000SE6IV8']\n",
      "A31ICLWQ9CSHRS ['B007WTAJTO', 'B0012GK3MQ', 'B000I1X3W8', 'B00FRMAOIO', 'B00E055H5O']\n",
      "A1USYP4AXF5I1D ['B002N2EHVQ', 'B002UUTCNE', 'B003WV5DJC']\n",
      "A3LSEIG2PIJYBL ['B0049LBJ56', 'B005QT7ZBC', 'B003ZUN2PW', 'B003VWYBC2', 'B000063TJY']\n",
      "AO09RWV40IX78 ['B00F6E8OUS', 'B00E6ONJJU', 'B0093IZOV0', 'B006GM56N2', 'B00142HLV4']\n",
      "A20ZM879PCQQEZ ['B001CY0P7G', 'B00AYQ433U', 'B0055MBQOW', 'B000EON3WY', 'B000092YQK']\n",
      "A1T9MILRRZ00F8 ['B000V5P90K', 'B000O8WE66', 'B000089GN3', 'B008LCYIHK', 'B009HQCARY']\n",
      "A1K4G5YJDJQI6Q ['1400532620', 'B0036WS4CK', 'B002QEBMAK', 'B0049MPQA4', 'B00316WHJ2']\n",
      "A1B8EJQU73YGL9 ['B002WE0QN8', 'B00001ZWXA', 'B005GI2VMG', 'B0000CCVC9', 'B00603RTC8']\n",
      "AJCR7L4AXL2OG ['B00AMPIVFO', 'B00B7LQ73U', 'B001RB1XVG', 'B000069EUW', 'B00427ZLRO']\n",
      "A3JV071KO43Q5X ['B008LCYIEI', 'B004XC6GJ0', 'B008YDTNDU', 'B003LPUWT0', 'B005K7192G']\n",
      "A1SFPA80X7TRBR ['B0002LEMWE', 'B0007TOR08', 'B005LJQMCK', 'B004Q0T0LU', 'B003ZHTNNK']\n",
      "A6XLG77BC9R8R ['B000VIHFZ4', 'B002XGDU9M', 'B00176NKPS', 'B002SIMPXM', 'B006J1ZAR2']\n",
      "A1PAGHECG401K1 ['B000QHOB4S', 'B0039BPG4M', 'B001FA1NVO', 'B00BOZCUG2', 'B003H3A2NM']\n",
      "A1NAA1R38JSNHV ['B000UHQVOW', 'B001W26TIW', 'B0034XRDU0', 'B000I1YU5C', 'B000WYVBR0']\n",
      "A1AKW788238PWQ ['B0058UUR6E', 'B003LPTAYI', 'B000V1JUJU', 'B0071LSAR6', 'B000LYAZ4G']\n",
      "A3NOBH42C7UI5M ['B0010Z28XG', 'B004CLYEH8', 'B0002MQGOK', 'B0039BPG1A', 'B000RZ8WHG']\n",
      "ASHJAZC9OA9NS ['B000GYU9IS', 'B00023KG40', 'B004AH10K8', 'B0036XX4G0', 'B000V1R96G']\n",
      "A2POXR5VS3PHKR ['B004Q0T0LU', 'B0089V4WOC', 'B000A5T7AO', 'B0043DKBTK', 'B0013LWK3A']\n",
      "AWH2AY17ZU7W2 ['B003ANK9ZA', 'B007BZRXK2', 'B004VM0SE6', 'B004XNLR16', 'B00EHZYWGM']\n",
      "A2IXK5LB4Y0NYV ['B00F0DD0I6', 'B007WTAJTO', 'B008DVMRXG', 'B000VY6T82', 'B0098PRKA6']\n",
      "ATNOI7E8GTIVE ['B000VX6XL6', 'B0015A8Y3E', 'B0002TPFTA', 'B000FITKK8', 'B0038OMEQI']\n",
      "A29KJ32G75L7G9 ['B003N12TSY', 'B0074BW614', 'B009GGC4B2', 'B009U7WZCA', 'B005BLO21Q']\n",
      "A3SL0HA6422W4M ['B0061JPXLU', 'B00A39PPCG', 'B004QMH8KI', 'B004TPPWT6', 'B001OTZ8DA']\n",
      "A781ITP3HE2N5 ['B000JE7GPY', 'B009D79VH4', 'B004G6002M', 'B003UH0Z9Q', 'B003CJQ69A']\n",
      "A1QJ10LEINDRWW ['B000H4CLXS', 'B0043VE29C', 'B00844N5OC', 'B004AQ95A6', 'B0055MBQOM']\n",
      "A3IUW081KXD3PE ['B005VAORH6', 'B005I6EU48', 'B001S0PWWC', 'B004DI7CWE', 'B00006L4FX']\n",
      "A2KIJBT9HRIOM8 ['B005FYNSPK', 'B000EGQS5G', 'B000LRMS66', 'B002MAPRYU', 'B00022VZ0K']\n",
      "A3KNGMX2RVQG91 ['B004SCSV2U', 'B001W28L2Y', 'B007RMAS1K', 'B0062EUE54', 'B001ENW61I']\n",
      "A313H6238N589 ['B001U3ZH7W', 'B007WTAJTO', 'B0057AVXP4', 'B001DBIT08', 'B0001HKIJK']\n",
      "ALNE7Q71JFC0F ['B008EQZ25K', 'B001ENW61I', 'B001E1Y5O6', 'B005GGTTZ0', 'B0076AYNXM']\n",
      "A9BWUH9XKZ2DQ ['B000BKUSS8', 'B0032HM6HS', 'B003NS0UUQ', 'B00456V6WG', 'B00305N47S']\n",
      "A2LCE1D0TW2XY0 ['B000053HH5', 'B003G20AAE', 'B005869A16', 'B00894YWD0', 'B006BCKDGW']\n",
      "A3LZA698SQPCXE ['B00IVFDZBC', 'B004V4IWHY', 'B0034CL2ZI', 'B00426C57O', 'B00AR95FOU']\n",
      "A2HXE29CU1I24Y ['B001U3ZH7W', 'B0015DYMVO', 'B001NPEB5Q', 'B001NJ0WCS', 'B002EL4M98']\n",
      "A1ROUMJOGO4QMB ['B003YKFKR6', 'B00006HSYC', 'B002VR6A9K', 'B00224ZDFY', 'B004XZL980']\n",
      "A1VR1HIOVQWN09 ['B0019EHU8G', 'B0015AARJI', 'B004HW6F9M', 'B000P0NJPS', 'B0039H2W66']\n",
      "A1A535TCGNMVPI ['B004444O4G', 'B003FVS8W8', 'B0002ER5B6', 'B0034XRE6S', 'B00006B938']\n",
      "A1SHHQSPOWR00F ['B002V8C3W2', 'B001UI2FPE', 'B000VJX7DW', 'B00009UT9B', 'B0016XIQ1U']\n",
      "A2HBOG4LVIY15L ['B005JN9310', 'B001TZUS98', 'B005J7YA4G', 'B005YW7OLM', 'B0093HMKVI']\n",
      "A3QNX5KWHDV0GD ['B001F51G16', 'B003ELOSIW', 'B00007EDZG', 'B000IVDTSG', 'B00519RW1U']\n",
      "A31RZMVAFMLB8B ['B002SCGY5S', 'B0056TYRMW', 'B00007E7QS', 'B0068RKK18', 'B005Q65JHM']\n",
      "A2MIP3AQVSF2SS ['B005JN9310', 'B001L1H0SC', 'B007WTAJTO', 'B001BL8BO4', 'B004H0MQYW']\n",
      "A21NS06GDEA3V0 ['B003VAGXZC', 'B002SZEOLG', 'B0049YQVHE', 'B0036VO70O', 'B009A5204K']\n",
      "A7UPJYPAH73NC ['B001BM5XB2', 'B007E2M3SY', 'B002K9IHGI', 'B0025VKUPW', 'B00BWHILCY']\n",
      "A3GFQHHVMEAIO ['B002ZLOR56', 'B000IJV4BC', 'B00004SB92', 'B000H6CBA4', 'B00005854B']\n",
      "A2XQYE6TJYROHQ ['B004Q7J4W8', 'B000HDJT4S', 'B004HIN97M', 'B00304DZ7I', 'B000N35A0Y']\n",
      "AM0QLU79O05JR ['B00EZ9XG5I', 'B00D02AHEO', 'B007IW4X3I', 'B00G69FC48', 'B005HN1UJ0']\n",
      "A24RCBRDXRXR0Y ['B001T9NX9Q', 'B0023B14TK', 'B002R5AM7C', 'B00884WH74', 'B0044UHMOO']\n"
     ]
    },
    {
     "name": "stdout",
     "output_type": "stream",
     "text": [
      "AM8W6Y3HVXLZT ['B003BLQHN4', 'B009OZUPUC', 'B00B7X2OW6', 'B004OR14GO', 'B0053T4PHC']\n",
      "A2Q2A6JKY95RTP ['B00029U1DK', 'B0015AARJI', 'B002CWZ29S', 'B001S4OTS6', 'B005DKZTMG']\n",
      "ARW8VGT10JG60 ['B002KETE24', 'B0002YE6FY', 'B0049WBZEK', 'B001GN3SGS']\n",
      "A2EHYCA29NSQLU ['B0012MI7N2', 'B00FFJ0HUE', 'B0000AHO92', 'B008SZWBR4', 'B000XY4AD6']\n",
      "A7KBAXO177NND ['B002WE6D44', 'B004V4IWHY', 'B001ASU1QO', 'B0012MMW7E', 'B00006I5J7']\n",
      "A3P69DTOXII004 ['B0089WLYQ0', 'B00DXFF6EO', 'B000A6NUU6', 'B00CM1AANW']\n",
      "A2EMUM49CE0JV4 ['B00A9NE84C', 'B003B20JDW', 'B004HW7EAG', 'B00076FVP6', 'B000F7JCRA']\n",
      "A3RR2P5IS3DGPR ['B007WTAJTO', 'B004MF11MU', 'B0001MQUOC', 'B0035ERSA8', 'B003BKTJPI']\n",
      "A2FHTXLKY1XJDB ['B001W8WEGC', 'B006X2P00O', 'B00DAANUVI', 'B007K7JTY4', 'B0002A9SJ2']\n",
      "A30JPZ9TZ7I61U ['B004CLYEFK', 'B000065BP9', 'B0015AFOR8', 'B00634PLTW', 'B0058FAYPI']\n",
      "AFXTKAO0CB354 ['B000Q85WRC', 'B000067RT6', 'B00005T3FO', 'B002ZKTCUM', 'B003SW13WQ']\n",
      "A1AWL9JASMG904 ['B001QATRCA', 'B003ELVLKU', 'B000IMSK8Y', 'B0042SGDVG', 'B000E5CYW8']\n",
      "A1TFDMY4YNTV97 ['B0019EHU8G', 'B002O11LQA', 'B0036R76R4', 'B004T4XR1C', 'B002A8KIRU']\n",
      "A1987V5OCO6QHS ['B0019EHU8G', 'B007FGYZFI', 'B0013CED4I', 'B0093HGD2K', 'B005H3Q57M']\n",
      "A2F2F7N94SR1KQ ['B000F28DP2', 'B004YDUZ22', 'B000F0ELOG', 'B002IO2UM2', 'B005LS2GPI']\n",
      "A51OFQVC6O5YL ['B006EKIQYM', 'B004S4R5CK', 'B005CT56F8', 'B00CO8TBQ0', 'B0077QTSQM']\n",
      "A1FR68QH6Z4YZM ['B001KELVS0', 'B000BY52NK', 'B000AZ57M6', 'B000JO7RVC', 'B002IKLJU0']\n",
      "A3VVMIMMTYQV5F ['B001342KM8', 'B000H4CLXS', 'B0015AARJI', 'B0019M6GP6', 'B001B8EUEW']\n",
      "A3N8O68DOEQ2FE ['B001E1Y5O6', 'B000HCGAFK', 'B002WE6D44', 'B00HSQAIQU', 'B000F0ELOG']\n",
      "A3JU16JTNLVK1J ['B00AANQLRI', 'B004HR0M4Q', 'B0002Y5WZC', 'B001M5K4EO', 'B0048IW030']\n",
      "A1GWG5CWLKJ7ET ['B00A0JUNWQ', 'B005MJU1DA', 'B00DBX371C', 'B004JU0E2G', 'B0025VKUPW']\n",
      "A206CGM6J75UJY ['B002YU83YO', 'B007PZWYKM', 'B007PRHNHO', 'B00A35WYBA', 'B005QJOIP8']\n",
      "A1IU4UAV9QIJAI ['B002HZW6WQ', 'B0027Q4HXG', 'B0073P32X2', 'B002N3DIC4', 'B002Y2NI4M']\n",
      "A3N4I2KRSMACW8 ['B003UI62AG', 'B00CBQNB7K', 'B001X017G2', 'B004N85YD8', 'B00ID2HI8O']\n",
      "A2THQCHKR89E16 ['B002XJG71M', 'B004PAA876', 'B005HMKKH4', 'B004MNADXK', 'B004NIG1SA']\n",
      "A2NOIWPJDD7WIQ ['B000HGIWN4', 'B000BYCKU8', 'B0063Q3G3I', 'B0067PLM5E', 'B001S2PPT0']\n",
      "AFM2J3HJNPIHV ['B0019EHU8G', 'B000067SGI', 'B009W34X5O', 'B00C8Q09HI', 'B0016GV1UU']\n",
      "AYCAIHABPYWVJ ['B00006I53V', 'B00139VKU6', 'B002ROGCRC', 'B003YTROIU', 'B0039NLS4C']\n",
      "AXU3VKZE848IY ['B000O8WE66', 'B008MDSWI4', 'B00IF4OATU', 'B00104XCVO', 'B001SEQN3U']\n",
      "A2UWPPU5GZLMQZ ['B00889ST2G', 'B0099XGZXA', 'B00E87E1OM', 'B00BF9MUAS', 'B0002YE6EU']\n",
      "A3H6NNGCINPLEC ['B001G5ZTLS', 'B002LITT56', 'B0054L8N7M', 'B0000TU7IG', 'B003YKG2XM']\n",
      "ARTA78TP6H73D ['B00D429Y12', 'B006WHPQUO', 'B005CG2AX2', 'B00005QXWI', 'B002FU5QMA']\n",
      "AEIB3UR05OP7A ['B0034CL2ZI', 'B009SYZ8OC', 'B002VKVZ1A', 'B007V5A1BK', 'B00AJHDZSI']\n",
      "A1SX9PHJWTDMF9 ['B0012Y02CE', 'B0055Q9NH0', 'B007R67FNA', 'B00004T8R2', 'B00006JQ06']\n",
      "A2Y3WWPUKIJ59I ['B00829THVO', 'B003I4FHNA', 'B003P2UMQ2', 'B000XQDTRW', 'B000H9J3ZC']\n",
      "AD8DLOGHAXL ['B0012YFXSW', 'B000051299', 'B002R06PGE', 'B00025O7FC']\n",
      "A3PPO2X5PJE1L9 ['B0081ER9KG', 'B009B0MY6S', 'B000H02B6O', 'B00AM7MM4I', 'B003ES61EE']\n",
      "A6XDZ1MJ0B1A2 ['B004R7P28W', 'B00D7P6176', 'B00871SR68', 'B000QGBC8C', 'B002LITI8E']\n",
      "AYOTEJ617O60K ['B003FVJYF8', 'B007477COO', 'B001LRKB78', 'B0002EXJ98', 'B0045OFBJC']\n",
      "AS7J4952JB5XR ['B002V88HFE', 'B00FPKDPZC', 'B00FNPD1VW', 'B005KQ0S8S', 'B006UL00R6']\n",
      "A28CCQNXWV6WA2 ['B002KANXBG', 'B001BX6HCU', 'B001OC7IXU', 'B00328HR4Y', 'B0011E4NSO']\n",
      "A4H4KYSM2KQ85 ['B0054L8N7M', 'B002JCSV8A', 'B000AV3NPI', 'B008MWBY6W', 'B000CSQNL0']\n",
      "A2PB325LKXYDOL ['B006EKIQYM', 'B000S6E0XY', 'B003YNQ6MG', 'B001XURP7W', 'B002SRNS7A']\n",
      "A3UW0PQLDUACMH ['B004CLYE8C', 'B0050IE1O8', 'B00FRDUZXM', 'B005IHAIJ8', 'B0093HAWZY']\n",
      "ANSVB7OYSXZSL ['B002TQ6HT6', 'B0025EWXEU', 'B0043M6F14', 'B002ZFVS9A']\n",
      "A31BD4RXCON7QO ['B001KELVS0', 'B00200K9NQ', 'B00322PYZO', 'B00GO1UV4E', 'B000E5FOYS']\n",
      "A2CL818RN52NWN ['B0002LHSG6', 'B0007P4G6M', 'B000BI2180']\n",
      "A1GBU479WXR7UG ['B00363EZY0', 'B000WH86BQ', 'B008GAMNBK', 'B00BI8IT24', 'B00486T134']\n",
      "A1HBEQWSMVQEWJ ['B003XM1WE0', 'B00BGA9WK2', 'B005IHAI8O', 'B004KKGF1O', 'B005UBNJ48']\n",
      "AH5BCMZELZSKG ['B00D6XSRL2', 'B004ZNA3UA', 'B0029Z9UNC', 'B003LYKLCO', 'B003ISYA6G']\n",
      "A1Y4EWMUTW73GD ['B00005T3EV', 'B000066E6Y', 'B00009V4G9', 'B002IKLJVE', 'B0052MNIAA']\n",
      "A3FEJ8H2VTN0OJ ['B00DSUTVK4', 'B002BH3Z8E', 'B007NZGPAY', 'B00APP6694', 'B000IEO964']\n",
      "ADPKRJ2BSFJ0I ['B0029N3U8K', 'B0051PLPM6', 'B002ZJQLZC', 'B006K551WQ']\n",
      "AW63IRQWH10GF ['B0010Y414Q', 'B004G8QETI', 'B000EY5F5C']\n",
      "A57Q87B0TC9IJ ['B000N99BBC', 'B007ZZ6OW6', 'B00002JXFH', 'B00GC1ZMYA', 'B002ZV51DI']\n",
      "A1JWSDDIH5Z7DV ['B0011ZCDKS', 'B000EPNES6', 'B000JLWDB4', 'B000EPHSLK', 'B000HEW0KW']\n",
      "A2OS3TIVAKUAHG ['B003WUX6PG', 'B002LITI8E', 'B0050A1O64', 'B003YNO0LA', 'B00EUFP39E']\n",
      "AYGEKID3G7DPW ['B0001HA8WW', 'B000LVJ9W8', 'B0000C1ZNV', 'B004K1EZDS']\n",
      "A3PCEB9ND82AGE ['B004FPOPXE', 'B00E3W15P0', 'B0044DEDC0', 'B0001FTVDQ', 'B00A9NE84C']\n",
      "AS2II0671KT2C ['B004Q0PT3I', 'B0036VO6IC', 'B0074BW614', 'B000BTGVUS', 'B003DXI288']\n",
      "A2BGZ52M908MJY ['B00005QJCU', 'B00005ALB1']\n",
      "A2I5LVVQ7WXEH6 ['B001TH7T2U', 'B001E1Y5O6', 'B0036OR91A', 'B000JE7GPY', 'B000I5LACO']\n",
      "A3UQSOJW51UU9T ['B000RZQZM0', 'B002NU5UW8', 'B001QXDSRW', 'B001S2PYQY', 'B00AQ2BWP4']\n",
      "A18U49406IPPIJ ['B000CKVOOY', 'B00J46VVKE', 'B00G4UQ6U8', 'B00HFKN0JQ', 'B00BSED7S4']\n",
      "A2ER8G4JJJ7XER ['B000WKTG76', 'B001F7AP1Q']\n",
      "A3CP3J7OEGQMD5 ['B003U8HV4M', 'B005KQ0S8S', 'B0015C30J0', 'B002KO63X2', 'B009KY58FE']\n",
      "A25HBO5V8S8SEA ['B0007VRPZA', 'B000068CS0', 'B0001F1ZY4', 'B00009R6TA']\n",
      "A2VALCFTOWFYXZ ['B00B46XKKQ', 'B004P1IU52', 'B005DDCDH2', 'B00ARB5E8U', 'B008CX2A2I']\n"
     ]
    }
   ],
   "source": [
    "# Print the recommended items for each user\n",
    "for uid, user_ratings in top_n.items():\n",
    "    print(uid, [iid for (iid, _) in user_ratings])"
   ]
  },
  {
   "cell_type": "markdown",
   "metadata": {},
   "source": []
  },
  {
   "cell_type": "markdown",
   "metadata": {},
   "source": [
    "\n",
    "\n",
    "We had recommended new products to each user based on his/her habits and have recommended 5 new products."
   ]
  },
  {
   "cell_type": "markdown",
   "metadata": {},
   "source": [
    "**Collaborative filtering uses user's behaviour (in this case explicit ratings to give) similar items / similar users and recomend products accordingly**\n",
    "\n",
    "**Popularity based algorithm have their used cases when user would just like to browse most popular items**"
   ]
  },
  {
   "cell_type": "code",
   "execution_count": null,
   "metadata": {},
   "outputs": [],
   "source": [
    "\n"
   ]
  }
 ],
 "metadata": {
  "kernelspec": {
   "display_name": "Python 3",
   "language": "python",
   "name": "python3"
  },
  "language_info": {
   "codemirror_mode": {
    "name": "ipython",
    "version": 3
   },
   "file_extension": ".py",
   "mimetype": "text/x-python",
   "name": "python",
   "nbconvert_exporter": "python",
   "pygments_lexer": "ipython3",
   "version": "3.8.8"
  }
 },
 "nbformat": 4,
 "nbformat_minor": 2
}
